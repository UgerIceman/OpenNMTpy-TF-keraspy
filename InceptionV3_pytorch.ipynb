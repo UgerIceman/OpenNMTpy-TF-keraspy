{
  "cells": [
    {
      "cell_type": "code",
      "execution_count": null,
      "metadata": {
        "colab": {
          "base_uri": "https://localhost:8080/"
        },
        "id": "UUSzOI0GZA66",
        "outputId": "3f80d908-4eb3-4894-89d7-f430ce539270"
      },
      "outputs": [
        {
          "output_type": "stream",
          "name": "stdout",
          "text": [
            "Mounted at /content/drive\n"
          ]
        }
      ],
      "source": [
        "# Mounts personal google drive, where model and data will be stored\n",
        "\n",
        "from google.colab import drive\n",
        "drive.mount('/content/drive')"
      ]
    },
    {
      "cell_type": "code",
      "execution_count": null,
      "metadata": {
        "colab": {
          "base_uri": "https://localhost:8080/"
        },
        "id": "LK6JHAKEaPwl",
        "outputId": "2adb5e34-1d58-4af3-d3c5-a78779f7a7c8"
      },
      "outputs": [
        {
          "output_type": "stream",
          "name": "stdout",
          "text": [
            "/content/drive/MyDrive/Thesis/Image_captioning_master/Image-Captioning-master\n"
          ]
        }
      ],
      "source": [
        "cd \"/content/drive/MyDrive/Thesis/Image_captioning_master/Image-Captioning-master\""
      ]
    },
    {
      "cell_type": "code",
      "execution_count": null,
      "metadata": {
        "colab": {
          "base_uri": "https://localhost:8080/"
        },
        "id": "5xJOMRO8Hqbn",
        "outputId": "70636fb8-5819-4554-e0c8-ceef9284e484"
      },
      "outputs": [
        {
          "name": "stdout",
          "output_type": "stream",
          "text": [
            "Drive already mounted at /content/drive; to attempt to forcibly remount, call drive.mount(\"/content/drive\", force_remount=True).\n"
          ]
        }
      ],
      "source": [
        "from google.colab import drive\n",
        "drive.mount('/content/drive')"
      ]
    },
    {
      "cell_type": "code",
      "execution_count": null,
      "metadata": {
        "id": "3yHnYkNtacQD"
      },
      "outputs": [],
      "source": [
        "import numpy as np\n",
        "from numpy import array\n",
        "import pandas as pd\n",
        "import matplotlib.pyplot as plt\n",
        "%matplotlib inline\n",
        "import string\n",
        "import os\n",
        "from PIL import Image\n",
        "import glob\n",
        "import pickle\n",
        "from pickle import dump, load\n",
        "from time import time\n",
        "from keras.preprocessing import sequence\n",
        "from keras.models import Sequential\n",
        "from keras.layers import LSTM, Embedding, TimeDistributed, Dense, RepeatVector,\\\n",
        "                         Activation, Flatten, Reshape, concatenate, Dropout, BatchNormalization\n",
        "from tensorflow.keras.optimizers import Adam, RMSprop\n",
        "from keras.layers.wrappers import Bidirectional\n",
        "from keras.layers.merge import add\n",
        "from keras.applications.inception_v3 import InceptionV3\n",
        "from keras.preprocessing import image\n",
        "from keras.models import Model\n",
        "from keras import Input, layers\n",
        "from keras import optimizers\n",
        "from keras.applications.inception_v3 import preprocess_input\n",
        "from keras.preprocessing.text import Tokenizer\n",
        "from keras.preprocessing.sequence import pad_sequences\n",
        "from tensorflow.keras.utils import to_categorical"
      ]
    },
    {
      "cell_type": "code",
      "execution_count": null,
      "metadata": {
        "colab": {
          "base_uri": "https://localhost:8080/"
        },
        "id": "Sn2fCFTSagST",
        "outputId": "cb590e7b-09a0-4e12-a092-01e339956a9d"
      },
      "outputs": [
        {
          "output_type": "stream",
          "name": "stdout",
          "text": [
            "image,caption\n",
            "B00065FZXQ__Clothing_Shoes_Jewelry_Women_Jewelry_Rings_Statem_.jpg,designed  heavy  jewelry  metal  plain  ring  silver  women\n",
            "B000632R5C__Clothing_Shoes_Jewelry_Women_Accessories_Hats_Cap_.jpg,accessoiries  cap  caps  clothing  gear  travelling  women\n",
            "B000BVZNX2__Clothing_Shoes_Jewelry_Men_Shoes_Fashion_Sneakers_.jpg,boot  comfortabl\n"
          ]
        }
      ],
      "source": [
        "def load_doc(filename):\n",
        "\t# open the file as read only\n",
        "\tfile = open(filename, 'r')\n",
        "\t# read all text\n",
        "\ttext = file.read()\n",
        "\t# close the file\n",
        "\tfile.close()\n",
        "\treturn text\n",
        "\n",
        "filename = \"labelss.txt\"\n",
        "# load descriptions\n",
        "doc = load_doc(filename)\n",
        "print(doc[:350])"
      ]
    },
    {
      "cell_type": "code",
      "execution_count": null,
      "metadata": {
        "colab": {
          "base_uri": "https://localhost:8080/"
        },
        "id": "rxLEuD2i2Ern",
        "outputId": "6d791f21-7274-44a9-a4ac-6148e8137d3b"
      },
      "outputs": [
        {
          "output_type": "stream",
          "name": "stdout",
          "text": [
            "Loaded: 5161 \n"
          ]
        }
      ],
      "source": [
        "def load_descriptions(doc):\n",
        "\tmapping = dict()\n",
        "\t# process lines\n",
        "\tfor line in doc.split('\\n'):\n",
        "\t\t# split line by white space\n",
        "\t\ttokens = line.split()\n",
        "\t\tif len(line) < 2:\n",
        "\t\t\tcontinue\n",
        "\t\t# take the first token as the image id, the rest as the description\n",
        "\t\timage_id, image_desc = tokens[0], tokens[1:]\n",
        "\t\t# extract filename from image id\n",
        "\t\timage_id = image_id.split('.')[0]\n",
        "\t\t# convert description tokens back to string\n",
        "\t\timage_desc = ' '.join(image_desc)\n",
        "\t\t# create the list if needed\n",
        "\t\tif image_id not in mapping:\n",
        "\t\t\tmapping[image_id] = list()\n",
        "\t\t# store description\n",
        "\t\tmapping[image_id].append(image_desc)\n",
        "\treturn mapping\n",
        "\n",
        "# parse descriptions\n",
        "descriptions = load_descriptions(doc)\n",
        "print('Loaded: %d ' % len(descriptions))"
      ]
    },
    {
      "cell_type": "code",
      "execution_count": null,
      "metadata": {
        "colab": {
          "base_uri": "https://localhost:8080/"
        },
        "id": "xPQW1dT-2nwG",
        "outputId": "b42696cd-d783-4806-fb29-d9f913ef4a89"
      },
      "outputs": [
        {
          "output_type": "execute_result",
          "data": {
            "text/plain": [
              "['image,caption',\n",
              " 'B00065FZXQ__Clothing_Shoes_Jewelry_Women_Jewelry_Rings_Statem_',\n",
              " 'B000632R5C__Clothing_Shoes_Jewelry_Women_Accessories_Hats_Cap_',\n",
              " 'B000BVZNX2__Clothing_Shoes_Jewelry_Men_Shoes_Fashion_Sneakers_',\n",
              " 'B00065G14S__Clothing_Shoes_Jewelry_Women_Jewelry_Necklaces_Pe_']"
            ]
          },
          "metadata": {},
          "execution_count": 11
        }
      ],
      "source": [
        "list(descriptions.keys())[:5]"
      ]
    },
    {
      "cell_type": "code",
      "execution_count": null,
      "metadata": {
        "colab": {
          "base_uri": "https://localhost:8080/"
        },
        "id": "BnX66EHn2oHX",
        "outputId": "71bc9a9c-4b9e-4d35-b65e-3eed69096b3f"
      },
      "outputs": [
        {
          "output_type": "execute_result",
          "data": {
            "text/plain": [
              "['heavy jewelry metal plain ring silver women']"
            ]
          },
          "metadata": {},
          "execution_count": 12
        }
      ],
      "source": [
        "descriptions['B00065FZXQ__Clothing_Shoes_Jewelry_Women_Jewelry_Rings_Statem_']"
      ]
    },
    {
      "cell_type": "code",
      "execution_count": null,
      "metadata": {
        "colab": {
          "base_uri": "https://localhost:8080/"
        },
        "id": "-Cd8un2l20ck",
        "outputId": "60bb42a5-e3fd-46a2-ec19-aa7c0de4c259"
      },
      "outputs": [
        {
          "output_type": "stream",
          "name": "stdout",
          "text": [
            "Original Vocabulary Size: 1132\n"
          ]
        }
      ],
      "source": [
        "# convert the loaded descriptions into a vocabulary of words\n",
        "def to_vocabulary(descriptions):\n",
        "\t# build a list of all description strings\n",
        "\tall_desc = set()\n",
        "\tfor key in descriptions.keys():\n",
        "\t\t[all_desc.update(d.split()) for d in descriptions[key]]\n",
        "\treturn all_desc\n",
        "\n",
        "# summarize vocabulary\n",
        "vocabulary = to_vocabulary(descriptions)\n",
        "print('Original Vocabulary Size: %d' % len(vocabulary))"
      ]
    },
    {
      "cell_type": "code",
      "execution_count": null,
      "metadata": {
        "id": "sw6y4Dxi6Gd4"
      },
      "outputs": [],
      "source": [
        "# save descriptions to file, one per line\n",
        "def save_descriptions(descriptions, filename):\n",
        "\tlines = list()\n",
        "\tfor key, desc_list in descriptions.items():\n",
        "\t\tfor desc in desc_list:\n",
        "\t\t\tlines.append(key + ' ' + desc)\n",
        "\tdata = '\\n'.join(lines)\n",
        "\tfile = open(filename, 'w')\n",
        "\tfile.write(data)\n",
        "\tfile.close()\n",
        "\n",
        "save_descriptions(descriptions, 'descriptions.txt')"
      ]
    },
    {
      "cell_type": "code",
      "execution_count": null,
      "metadata": {
        "colab": {
          "base_uri": "https://localhost:8080/"
        },
        "id": "PL4mxK7c6MZk",
        "outputId": "4910997b-7cd9-48c1-9e18-4b8d5a943672"
      },
      "outputs": [
        {
          "output_type": "stream",
          "name": "stdout",
          "text": [
            "Dataset: 4250\n"
          ]
        }
      ],
      "source": [
        "# load a pre-defined list of photo identifiers\n",
        "def load_set(filename):\n",
        "\tdoc = load_doc(filename)\n",
        "\tdataset = list()\n",
        "\t# process line by line\n",
        "\tfor line in doc.split('\\n'):\n",
        "\t\t# skip empty lines\n",
        "\t\tif len(line) < 1:\n",
        "\t\t\tcontinue\n",
        "\t\t# get the image identifier\n",
        "\t\tidentifier = line.split('.')[0]\n",
        "\t\tdataset.append(identifier)\n",
        "\treturn set(dataset)\n",
        "\n",
        "# load training dataset (6K)\n",
        "filename_train = 'train_images_split.txt'\n",
        "train = load_set(filename_train)\n",
        "print('Dataset: %d' % len(train))"
      ]
    },
    {
      "cell_type": "code",
      "execution_count": null,
      "metadata": {
        "colab": {
          "base_uri": "https://localhost:8080/"
        },
        "id": "wl-xCwUPoKd7",
        "outputId": "9b7dd0d9-a818-494d-af8d-7c7278ad2eec"
      },
      "outputs": [
        {
          "output_type": "stream",
          "name": "stdout",
          "text": [
            "Dataset: 911\n"
          ]
        }
      ],
      "source": [
        "# load a pre-defined list of photo identifiers\n",
        "def load_set(filename):\n",
        "\tdoc = load_doc(filename)\n",
        "\tdataset = list()\n",
        "\t# process line by line\n",
        "\tfor line in doc.split('\\n'):\n",
        "\t\t# skip empty lines\n",
        "\t\tif len(line) < 1:\n",
        "\t\t\tcontinue\n",
        "\t\t# get the image identifier\n",
        "\t\tidentifier = line.split('.')[0]\n",
        "\t\tdataset.append(identifier)\n",
        "\treturn set(dataset)\n",
        "\n",
        "# load training dataset (6K)\n",
        "filename_val = 'val_images_split.txt'\n",
        "val = load_set(filename_val)\n",
        "print('Dataset: %d' % len(val))"
      ]
    },
    {
      "cell_type": "code",
      "execution_count": null,
      "metadata": {
        "colab": {
          "base_uri": "https://localhost:8080/"
        },
        "id": "vgIuKoV27oPo",
        "outputId": "a1ca3594-1696-4bd3-c401-31a0cd3cdd6e"
      },
      "outputs": [
        {
          "output_type": "stream",
          "name": "stdout",
          "text": [
            "Dataset: 911\n"
          ]
        }
      ],
      "source": [
        "# load a pre-defined list of photo identifiers\n",
        "def load_set(filename):\n",
        "\tdoc = load_doc(filename)\n",
        "\tdataset = list()\n",
        "\t# process line by line\n",
        "\tfor line in doc.split('\\n'):\n",
        "\t\t# skip empty lines\n",
        "\t\tif len(line) < 1:\n",
        "\t\t\tcontinue\n",
        "\t\t# get the image identifier\n",
        "\t\tidentifier = line.split('.')[0]\n",
        "\t\tdataset.append(identifier)\n",
        "\treturn set(dataset)\n",
        "\n",
        "# load training dataset (6K)\n",
        "filename_test = 'test_images.txt'\n",
        "test = load_set(filename_test)\n",
        "print('Dataset: %d' % len(test))"
      ]
    },
    {
      "cell_type": "code",
      "execution_count": null,
      "metadata": {
        "id": "afA4BOWX644V"
      },
      "outputs": [],
      "source": [
        "# Below path contains all the images\n",
        "images = \"/content/drive/MyDrive/Thesis/nmt-master/nmt/Image-Captioning-master/Amazon_Dataset\"\n",
        "# Create a list of all image names in the directory\n",
        "\n",
        "img = glob.glob(\"Amazon_Dataset/*.jpg\")"
      ]
    },
    {
      "cell_type": "code",
      "execution_count": null,
      "metadata": {
        "id": "ISkJIbkL7Be1"
      },
      "outputs": [],
      "source": [
        "# Below file contains the names of images to be used in train data\n",
        "train_images_file = '\\filenames\\train_images.txt'\n",
        "# Read the train image names in a set\n",
        "train_images = set(open(train_images_file, 'r').read().strip().split('\\n'))\n",
        "\n",
        "# Create a list of all the training images with their full path names\n",
        "train_img = []\n",
        "\n",
        "for i in img: # img is list of full path names of all images\n",
        "    if i[15:] in train_images: # Check if the image belongs to training set\n",
        "        train_img.append(i) # Add it to the list of train images"
      ]
    },
    {
      "cell_type": "code",
      "execution_count": null,
      "metadata": {
        "id": "2qCDJcaNoYpC"
      },
      "outputs": [],
      "source": [
        "# Below file contains the names of images to be used in train data\n",
        "val_images_file = '\\filenames\\val_images_split.txt'\n",
        "# Read the train image names in a set\n",
        "val_images = set(open(val_images_file, 'r').read().strip().split('\\n'))\n",
        "\n",
        "# Create a list of all the training images with their full path names\n",
        "val_img = []\n",
        "\n",
        "for i in img: # img is list of full path names of all images\n",
        "    if i[15:] in val_images: # Check if the image belongs to training set\n",
        "        val_img.append(i) # Add it to the list of train images"
      ]
    },
    {
      "cell_type": "code",
      "execution_count": null,
      "metadata": {
        "id": "bINAlxTe4rBS"
      },
      "outputs": [],
      "source": [
        "# Below file contains the names of images to be used in train data\n",
        "test_images_file = '\\filenames\\test_images.txt'\n",
        "\n",
        "# Read the train image names in a set\n",
        "test_images = set(open(test_images_file, 'r').read().strip().split('\\n'))\n",
        "\n",
        "# Create a list of all the training images with their full path names\n",
        "test_img = []\n",
        "\n",
        "for i in img: # img is list of full path names of all images\n",
        "    if i[15:] in test_images: # Check if the image belongs to training set\n",
        "        test_img.append(i) # Add it to the list of train images"
      ]
    },
    {
      "cell_type": "code",
      "execution_count": null,
      "metadata": {
        "colab": {
          "base_uri": "https://localhost:8080/"
        },
        "id": "hTWHqbPEon4V",
        "outputId": "6c69a39c-a32a-4289-a95d-b2c575f44696"
      },
      "outputs": [
        {
          "data": {
            "text/plain": [
              "911"
            ]
          },
          "execution_count": 18,
          "metadata": {},
          "output_type": "execute_result"
        }
      ],
      "source": [
        "len(val_img)"
      ]
    },
    {
      "cell_type": "code",
      "execution_count": null,
      "metadata": {
        "colab": {
          "base_uri": "https://localhost:8080/"
        },
        "id": "MmlKxBXcofdX",
        "outputId": "272638d9-c60c-498e-95ca-8b4832bdcfde"
      },
      "outputs": [
        {
          "data": {
            "text/plain": [
              "911"
            ]
          },
          "execution_count": 19,
          "metadata": {},
          "output_type": "execute_result"
        }
      ],
      "source": [
        "len(test_img)"
      ]
    },
    {
      "cell_type": "code",
      "execution_count": null,
      "metadata": {
        "id": "TewlWY8_7V40"
      },
      "outputs": [],
      "source": [
        " # load clean descriptions into memory\n",
        "def load_clean_descriptions(filename, dataset):\n",
        "\t# load document\n",
        "\tdoc = load_doc(filename)\n",
        "\tdescriptions = dict()\n",
        "\tfor line in doc.split('\\n'):\n",
        "\t\t# split line by white space\n",
        "\t\ttokens = line.split()\n",
        "\t\t# split id from description\n",
        "\t\timage_id, image_desc = tokens[0], tokens[1:]\n",
        "\t\t# skip images not in the set\n",
        "\t\tif image_id in dataset:\n",
        "\t\t\t# create list\n",
        "\t\t\tif image_id not in descriptions:\n",
        "\t\t\t\tdescriptions[image_id] = list()\n",
        "\t\t\t# wrap description in tokens\n",
        "\t\t\tdesc = 'startseq ' + ' '.join(image_desc) + ' endseq'\n",
        "\t\t\t# store\n",
        "\t\t\tdescriptions[image_id].append(desc)\n",
        "\treturn descriptions\n",
        "\n",
        "# descriptions\n",
        "train_descriptions = load_clean_descriptions('descriptions.txt', train)\n",
        "print('Descriptions: train=%d' % len(train_descriptions))"
      ]
    },
    {
      "cell_type": "code",
      "execution_count": null,
      "metadata": {
        "id": "f_se7R1yrYIf"
      },
      "outputs": [],
      "source": [
        "# Check length of validation descriptions\n",
        "val_descriptions = load_clean_descriptions('descriptions.txt', val)\n",
        "print('Descriptions: val=%d' % len(val_descriptions))"
      ]
    },
    {
      "cell_type": "code",
      "execution_count": null,
      "metadata": {
        "id": "kdurYrK771Lv"
      },
      "outputs": [],
      "source": [
        "# Check length of test descriptions\n",
        "test_descriptions = load_clean_descriptions('descriptions.txt', val)\n",
        "print('Descriptions: test=%d' % len(test_descriptions))"
      ]
    },
    {
      "cell_type": "code",
      "execution_count": null,
      "metadata": {
        "id": "XyJsTcmB7eVU"
      },
      "outputs": [],
      "source": [
        "def preprocess(image_path):\n",
        "    # Convert all the images to size 299x299 as expected by the inception v3 model\n",
        "    img = image.load_img(image_path, target_size=(299, 299))\n",
        "    # Convert PIL image to numpy array of 3-dimensions\n",
        "    x = image.img_to_array(img)\n",
        "    # Add one more dimension\n",
        "    x = np.expand_dims(x, axis=0)\n",
        "    # preprocess the images using preprocess_input() from inception module\n",
        "    x = preprocess_input(x)\n",
        "    return x"
      ]
    },
    {
      "cell_type": "code",
      "execution_count": null,
      "metadata": {
        "id": "OVWq-WUX7rHV"
      },
      "outputs": [],
      "source": [
        "# Load inceptionv3 module\n",
        "model = InceptionV3(weights='imagenet')"
      ]
    },
    {
      "cell_type": "code",
      "execution_count": null,
      "metadata": {
        "id": "r3CIDEmo7vfk"
      },
      "outputs": [],
      "source": [
        "model_new = Model(model.input, model.layers[-2].output)"
      ]
    },
    {
      "cell_type": "code",
      "execution_count": null,
      "metadata": {
        "id": "7_BAmdm47xyM"
      },
      "outputs": [],
      "source": [
        "# Function to encode a given image into a vector of size (2048, )\n",
        "def encode(image):\n",
        "    image = preprocess(image) # preprocess the image\n",
        "    fea_vec = model_new.predict(image) # Get the encoding vector for the image\n",
        "    fea_vec = np.reshape(fea_vec, fea_vec.shape[1]) # reshape from (1, 2048) to (2048, )\n",
        "    return fea_vec"
      ]
    },
    {
      "cell_type": "code",
      "execution_count": null,
      "metadata": {
        "id": "EDLOAmT371er"
      },
      "outputs": [],
      "source": [
        "# Call the funtion to encode all the train images\n",
        "# This will take a while on CPU - Execute this only once\n",
        "start = time()\n",
        "encoding_train = {}\n",
        "for img in train_img:\n",
        "    encoding_train[img[15:]] = encode(img)\n",
        "print(\"Time taken in seconds =\", time()-start)"
      ]
    },
    {
      "cell_type": "code",
      "execution_count": null,
      "metadata": {
        "id": "CHaPuVvIpYFZ"
      },
      "outputs": [],
      "source": [
        "# Call the funtion to encode all the val images - Execute this only once\n",
        "start = time()\n",
        "encoding_val = {}\n",
        "for img in val_img:\n",
        "    encoding_val[img[15:]] = encode(img)\n",
        "print(\"Time taken in seconds =\", time()-start)"
      ]
    },
    {
      "cell_type": "code",
      "source": [
        "# Call the funtion to encode all the test images - Execute this only once\n",
        "start = time()\n",
        "encoding_test = {}\n",
        "for img in test_img:\n",
        "    encoding_test[img[15:]] = encode(img)\n",
        "print(\"Time taken in seconds =\", time()-start)"
      ],
      "metadata": {
        "id": "9baRuIhtEANR"
      },
      "execution_count": null,
      "outputs": []
    },
    {
      "cell_type": "code",
      "execution_count": null,
      "metadata": {
        "id": "VKldGnPXRiIE"
      },
      "outputs": [],
      "source": [
        "# check encoding train Length (should equal length of train set)\n",
        "len(encoding_train)"
      ]
    },
    {
      "cell_type": "code",
      "execution_count": null,
      "metadata": {
        "id": "uyt8QgGtt97c"
      },
      "outputs": [],
      "source": [
        "# check encoding validation length (should equal length of validation set)\n",
        "len(encoding_val)"
      ]
    },
    {
      "cell_type": "code",
      "source": [
        "# check encoding test length (should equal test set)\n",
        "len(encoding_test)"
      ],
      "metadata": {
        "id": "UGIvUQQ0DcPc"
      },
      "execution_count": null,
      "outputs": []
    },
    {
      "cell_type": "code",
      "execution_count": null,
      "metadata": {
        "id": "2inmCZ4N74Nq"
      },
      "outputs": [],
      "source": [
        "# Save the bottleneck train features to disk\n",
        "with open(\"encoded_train_images.pkl\", \"wb\") as encoded_pickle:\n",
        "  pickle.dump(encoding_train, encoded_pickle)"
      ]
    },
    {
      "cell_type": "code",
      "execution_count": null,
      "metadata": {
        "id": "s8gkxvOAplk7"
      },
      "outputs": [],
      "source": [
        "# Save the bottleneck validation features to disk\n",
        "with open(\"encoded_val_images.pkl\", \"wb\") as encoded_pickle:\n",
        "  pickle.dump(encoding_val, encoded_pickle)"
      ]
    },
    {
      "cell_type": "code",
      "source": [
        "# Save the bottleneck test features to disk\n",
        "with open(\"encoded_test_images.pkl\", \"wb\") as encoded_pickle:\n",
        "    pickle.dump(encoding_test, encoded_pickle)"
      ],
      "metadata": {
        "id": "NJoLujxZD3OR"
      },
      "execution_count": null,
      "outputs": []
    },
    {
      "cell_type": "code",
      "execution_count": null,
      "metadata": {
        "id": "knLKqppQ9EEW"
      },
      "outputs": [],
      "source": [
        "train_features = load(open(\"encoded_train_images.pkl\", \"rb\"))\n",
        "print('Photos: train=%d' % len(train_features))"
      ]
    },
    {
      "cell_type": "code",
      "execution_count": null,
      "metadata": {
        "id": "Rf8qfAlrBAPz"
      },
      "outputs": [],
      "source": [
        "val_features = load(open(\"encoded_val_images.pkl\", \"rb\"))\n",
        "print('Photos: val=%d' % len(val_features))"
      ]
    },
    {
      "cell_type": "code",
      "source": [
        "test_features = load(open(\"encoded_test_images.pkl\", \"rb\"))\n",
        "print('Photos: test=%d' % len(test_features))"
      ],
      "metadata": {
        "id": "Teeyhj2sEGfh"
      },
      "execution_count": null,
      "outputs": []
    },
    {
      "cell_type": "code",
      "execution_count": null,
      "metadata": {
        "colab": {
          "base_uri": "https://localhost:8080/"
        },
        "id": "ZPoVgQ6wAY0W",
        "outputId": "c6112285-439a-4e1a-d432-e080b66c970b"
      },
      "outputs": [
        {
          "output_type": "execute_result",
          "data": {
            "text/plain": [
              "4249"
            ]
          },
          "metadata": {},
          "execution_count": 26
        }
      ],
      "source": [
        "# Create a list of all the training captions\n",
        "all_train_captions = []\n",
        "for key, val in train_descriptions.items():\n",
        "    for cap in val:\n",
        "        all_train_captions.append(cap)\n",
        "len(all_train_captions)"
      ]
    },
    {
      "cell_type": "code",
      "execution_count": null,
      "metadata": {
        "colab": {
          "base_uri": "https://localhost:8080/"
        },
        "id": "Hm2AdRXf2LQy",
        "outputId": "0c224386-9bf3-48e7-a850-03949f9d277a"
      },
      "outputs": [
        {
          "output_type": "execute_result",
          "data": {
            "text/plain": [
              "911"
            ]
          },
          "metadata": {},
          "execution_count": 27
        }
      ],
      "source": [
        "# Create a list of all the val captions\n",
        "all_val_captions = []\n",
        "for key, val in val_descriptions.items():\n",
        "    for cap in val:\n",
        "        all_val_captions.append(cap)\n",
        "len(all_val_captions)"
      ]
    },
    {
      "cell_type": "code",
      "execution_count": null,
      "metadata": {
        "id": "7IWV4m394y8N"
      },
      "outputs": [],
      "source": [
        "# Consider only words which occur at least 5 times in the corpus\n",
        "word_count_threshold = 5\n",
        "word_counts = {}\n",
        "nsents = 0\n",
        "for sent in all_train_captions:\n",
        "    nsents += 1\n",
        "    for w in sent.split(' '):\n",
        "        word_counts[w] = word_counts.get(w, 0) + 1\n",
        "\n",
        "vocab = [w for w in word_counts if word_counts[w] >= word_count_threshold]\n",
        "print('preprocessed words %d -> %d' % (len(word_counts), len(vocab)))"
      ]
    },
    {
      "cell_type": "code",
      "execution_count": null,
      "metadata": {
        "id": "vozPRyov7PDF"
      },
      "outputs": [],
      "source": [
        "# Consider only words which occur at least 5 times in the corpus\n",
        "word_count_threshold2 = 5\n",
        "word_counts2 = {}\n",
        "nsents2 = 0\n",
        "for sent in all_val_captions:\n",
        "    nsents2 += 1\n",
        "    for w in sent.split(' '):\n",
        "        word_counts2[w] = word_counts2.get(w, 0) + 1\n",
        "\n",
        "vocab2 = [w for w in word_counts2 if word_counts2[w] >= word_count_threshold2]\n",
        "print('preprocessed words %d -> %d' % (len(word_counts2), len(vocab2)))"
      ]
    },
    {
      "cell_type": "code",
      "execution_count": null,
      "metadata": {
        "id": "zThpsJ7346iY"
      },
      "outputs": [],
      "source": [
        "ixtoword = {}\n",
        "wordtoix = {}\n",
        "\n",
        "ix = 1\n",
        "for w in vocab:\n",
        "    wordtoix[w] = ix\n",
        "    ixtoword[ix] = w\n",
        "    ix += 1"
      ]
    },
    {
      "cell_type": "code",
      "execution_count": null,
      "metadata": {
        "id": "wbPWCpFf7V6e"
      },
      "outputs": [],
      "source": [
        "ixtoword_v = {}\n",
        "wordtoix_v = {}\n",
        "\n",
        "ix = 1\n",
        "for w in vocab2:\n",
        "    wordtoix_v[w] = ix\n",
        "    ixtoword_v[ix] = w\n",
        "    ix += 1"
      ]
    },
    {
      "cell_type": "code",
      "execution_count": null,
      "metadata": {
        "id": "6ukyYPGG48aZ"
      },
      "outputs": [],
      "source": [
        "vocab_size = len(ixtoword) + 2 # one for appended 0's\n",
        "vocab_size"
      ]
    },
    {
      "cell_type": "code",
      "execution_count": null,
      "metadata": {
        "id": "ZEaVnhzJ7eHO"
      },
      "outputs": [],
      "source": [
        "vocab_size2 = len(ixtoword_v) + 1 # one for appended 0's\n",
        "vocab_size2 = (206*2) + 10"
      ]
    },
    {
      "cell_type": "code",
      "execution_count": null,
      "metadata": {
        "id": "o2cYeDA448sr"
      },
      "outputs": [],
      "source": [
        "# convert a dictionary of clean descriptions to a list of descriptions\n",
        "def to_lines(descriptions):\n",
        "\tall_desc = list()\n",
        "\tfor key in descriptions.keys():\n",
        "\t\t[all_desc.append(d) for d in descriptions[key]]\n",
        "\treturn all_desc\n",
        "\n",
        "# calculate the length of the description with the most words\n",
        "def max_length(descriptions):\n",
        "\tlines = to_lines(descriptions)\n",
        "\treturn max(len(d.split()) for d in lines)\n",
        "\n",
        "# determine the maximum sequence length\n",
        "max_length_train = max_length(train_descriptions)\n",
        "max_length_val = max_length(val_descriptions)\n",
        "print('Description Length: %d' % max_length_train)\n",
        "print('Description Length: %d' % max_length_val)"
      ]
    },
    {
      "cell_type": "code",
      "execution_count": null,
      "metadata": {
        "colab": {
          "base_uri": "https://localhost:8080/"
        },
        "id": "Wu0_yQuz5FqJ",
        "outputId": "9267c3b7-2252-4d1e-f4e9-7559bc1ade22"
      },
      "outputs": [
        {
          "output_type": "stream",
          "name": "stdout",
          "text": [
            "Found 400000 word vectors.\n"
          ]
        }
      ],
      "source": [
        "# Load Glove vectors\n",
        "\n",
        "embeddings_index = {} # empty dictionary\n",
        "f = open(os.path.join('glove.6B.200d.txt'), encoding=\"utf-8\")\n",
        "\n",
        "for line in f:\n",
        "    values = line.split()\n",
        "    word = values[0]\n",
        "    coefs = np.asarray(values[1:], dtype='float32')\n",
        "    embeddings_index[word] = coefs\n",
        "f.close()\n",
        "print('Found %s word vectors.' % len(embeddings_index))"
      ]
    },
    {
      "cell_type": "code",
      "execution_count": null,
      "metadata": {
        "id": "ACgQvyaC6yWF"
      },
      "outputs": [],
      "source": [
        "embedding_dim = 200\n",
        "\n",
        "# Get 200-dim dense vector for each of the 10000 words in out vocabulary\n",
        "embedding_matrix = np.zeros((vocab_size, embedding_dim))\n",
        "\n",
        "for word, i in wordtoix.items():\n",
        "    #if i < max_words:\n",
        "    embedding_vector = embeddings_index.get(word)\n",
        "    if embedding_vector is not None:\n",
        "        # Words not found in the embedding index will be all zeros\n",
        "        embedding_matrix[i] = embedding_vector"
      ]
    },
    {
      "cell_type": "code",
      "execution_count": null,
      "metadata": {
        "id": "IGjTJZOGdVU-"
      },
      "outputs": [],
      "source": [
        "embedding_dim = 200\n",
        "\n",
        "# Get 200-dim dense vector for each of the 10000 words in out vocabulary\n",
        "embedding_matrix2 = np.zeros((vocab_size, embedding_dim))\n",
        "\n",
        "for word, i in wordtoix_v.items():\n",
        "    #if i < max_words:\n",
        "    embedding_vector2 = embeddings_index.get(word)\n",
        "    if embedding_vector2 is not None:\n",
        "        # Words not found in the embedding index will be all zeros\n",
        "        embedding_matrix2[i] = embedding_vector"
      ]
    },
    {
      "cell_type": "code",
      "execution_count": null,
      "metadata": {
        "id": "dD5JP4Ml7WW0"
      },
      "outputs": [],
      "source": [
        "embedding_matrix.shape"
      ]
    },
    {
      "cell_type": "code",
      "execution_count": null,
      "metadata": {
        "id": "0CsqvrjG7Wwj"
      },
      "outputs": [],
      "source": [
        "import tensorflow as tf\n",
        "inputs1 = Input(shape=(2048))\n",
        "fe1 = Dropout(0.5)(inputs1)\n",
        "fe2 = Dense(256, activation='sigmoid')(fe1)\n",
        "inputs2 = Input(shape=(max_length_train,))\n",
        "se1 = Embedding(vocab_size, embedding_dim, mask_zero=True)(inputs2)\n",
        "se2 = Dropout(0.5)(se1)\n",
        "se3 = LSTM(256)(se2)\n",
        "decoder1 = add([fe2, se3])\n",
        "decoder2 = Dropout(0.7)(decoder1)\n",
        "decoder3 = Dense(256, activation='sigmoid')(decoder2)\n",
        "decoder2 = Dropout(0.7)(decoder3)\n",
        "\n",
        "outputs = Dense(vocab_size, activation='softmax')(decoder3)\n",
        "model = Model(inputs=[inputs1, inputs2], outputs=outputs)"
      ]
    },
    {
      "cell_type": "code",
      "execution_count": null,
      "metadata": {
        "id": "F64tnmi_WAC8"
      },
      "outputs": [],
      "source": [
        "import tensorflow as tf\n",
        "\n",
        "inputs1 = Input(shape=(2048))\n",
        "fe2 = Dense(256, activation='relu')(inputs1)\n",
        "inputs2 = Input(shape=(max_length_train,))\n",
        "\n",
        "se1 = Embedding(vocab_size, embedding_dim, mask_zero=True)(inputs2)\n",
        "se2 = LSTM(256)(se1)\n",
        "se3 = Dropout(0.7)(se2)\n",
        "\n",
        "decoder1 = add([fe2, se2])\n",
        "decoder2 = Dense(256, activation='relu')(decoder1)\n",
        "decoder3 = Dropout(0.7)(decoder2)\n",
        "\n",
        "outputs = Dense(vocab_size, activation='softmax')(decoder3)\n",
        "model = Model(inputs=[inputs1, inputs2], outputs=outputs)\n"
      ]
    },
    {
      "cell_type": "code",
      "execution_count": null,
      "metadata": {
        "id": "Zv2yiLUPjJGV"
      },
      "outputs": [],
      "source": [
        "from tensorflow.keras.models import load_model\n",
        "model=load_model('model_weights/model_1.h5')\n",
        "\n"
      ]
    },
    {
      "cell_type": "code",
      "execution_count": null,
      "metadata": {
        "id": "4Yn_vGJaUhsh"
      },
      "outputs": [],
      "source": [
        "max_length_train"
      ]
    },
    {
      "cell_type": "code",
      "execution_count": null,
      "metadata": {
        "colab": {
          "base_uri": "https://localhost:8080/"
        },
        "id": "yJwh4VUo7cA1",
        "outputId": "861eba6f-2ca1-4278-bc05-16b3c0601f62"
      },
      "outputs": [
        {
          "output_type": "stream",
          "name": "stdout",
          "text": [
            "Model: \"model_7\"\n",
            "__________________________________________________________________________________________________\n",
            " Layer (type)                   Output Shape         Param #     Connected to                     \n",
            "==================================================================================================\n",
            " input_21 (InputLayer)          [(None, 16)]         0           []                               \n",
            "                                                                                                  \n",
            " input_20 (InputLayer)          [(None, 2048)]       0           []                               \n",
            "                                                                                                  \n",
            " embedding_3 (Embedding)        (None, 16, 200)      84400       ['input_21[0][0]']               \n",
            "                                                                                                  \n",
            " dense_14 (Dense)               (None, 256)          524544      ['input_20[0][0]']               \n",
            "                                                                                                  \n",
            " lstm_4 (LSTM)                  (None, 256)          467968      ['embedding_3[0][0]']            \n",
            "                                                                                                  \n",
            " add_2 (Add)                    (None, 256)          0           ['dense_14[0][0]',               \n",
            "                                                                  'lstm_4[0][0]']                 \n",
            "                                                                                                  \n",
            " dense_15 (Dense)               (None, 256)          65792       ['add_2[0][0]']                  \n",
            "                                                                                                  \n",
            " dropout_11 (Dropout)           (None, 256)          0           ['dense_15[0][0]']               \n",
            "                                                                                                  \n",
            " dense_16 (Dense)               (None, 422)          108454      ['dropout_11[0][0]']             \n",
            "                                                                                                  \n",
            "==================================================================================================\n",
            "Total params: 1,251,158\n",
            "Trainable params: 1,166,758\n",
            "Non-trainable params: 84,400\n",
            "__________________________________________________________________________________________________\n"
          ]
        }
      ],
      "source": [
        "model.summary() \n",
        "#logits and labels must have the same first dimension, got logits shape [24,422] and labels shape [10128]"
      ]
    },
    {
      "cell_type": "code",
      "execution_count": null,
      "metadata": {
        "id": "ngQKhILE7oIT"
      },
      "outputs": [],
      "source": [
        "model.layers[2].set_weights([embedding_matrix])\n",
        "model.layers[2].trainable = False"
      ]
    },
    {
      "cell_type": "code",
      "execution_count": null,
      "metadata": {
        "id": "W8f4Eq2E7rU2"
      },
      "outputs": [],
      "source": [
        "model.compile(loss='categorical_crossentropy', metrics=['accuracy'], optimizer='RMSprop')"
      ]
    },
    {
      "cell_type": "code",
      "execution_count": null,
      "metadata": {
        "id": "zpVTzTjg7tuX"
      },
      "outputs": [],
      "source": [
        "model.optimizer.lr = 0.0001\n",
        "epochs = 100\n",
        "number_pics_per_bath = 3\n",
        "steps = len(train_descriptions)   // number_pics_per_bath\n",
        "steps_val = len(val_descriptions) //number_pics_per_bath"
      ]
    },
    {
      "cell_type": "code",
      "execution_count": null,
      "metadata": {
        "id": "yhOkSySmzvLe"
      },
      "outputs": [],
      "source": [
        "# data generator, intended to be used in a call to model.fit_generator()\n",
        "def data_generator(descriptions, photos, wordtoix, max_length, num_photos_per_batch):\n",
        "    X1, X2, y = list(), list(), list()\n",
        "    n=0\n",
        "    # loop for ever over images\n",
        "    while 1:\n",
        "        for key, desc_list in descriptions.items():\n",
        "            n+=1\n",
        "            # retrieve the photo feature\n",
        "            photo = photos[key+'.jpg']\n",
        "            for desc in desc_list:\n",
        "                # encode the sequence\n",
        "                seq = [wordtoix[word] for word in desc.split(' ') if word in wordtoix]\n",
        "                # split one sequence into multiple X, y pairs\n",
        "                for i in range(1, len(seq)):\n",
        "                    # split into input and output pair\n",
        "                    in_seq, out_seq = seq[:i], seq[i]\n",
        "                    # pad input sequence\n",
        "                    in_seq = pad_sequences([in_seq], maxlen=max_length)[0]\n",
        "                    # encode output sequence\n",
        "                    out_seq = to_categorical([out_seq], num_classes=vocab_size)[0]\n",
        "                    # store\n",
        "                    X1.append(photo)\n",
        "                    X2.append(in_seq)\n",
        "                    y.append(out_seq)\n",
        "            # yield the batch data\n",
        "            if n == num_photos_per_batch:\n",
        "                yield [[array(X1), array(X2)], array(y)]\n",
        "                X1, X2, y = list(), list(), list()\n",
        "                n=0"
      ]
    },
    {
      "cell_type": "code",
      "execution_count": null,
      "metadata": {
        "id": "rSUiOz7p2ZjO"
      },
      "outputs": [],
      "source": [
        "# data generator, intended to be used in a call to model.fit_generator()\n",
        "def val_data_generator(descriptions, photos, wordtoix, max_length, num_photos_per_batch):\n",
        "    X1, X2, y = list(), list(), list()\n",
        "    n=0\n",
        "    # loop for ever over images\n",
        "    while 1:\n",
        "        for key, desc_list in descriptions.items():\n",
        "            n+=1\n",
        "            # retrieve the photo feature\n",
        "            photo = photos[key+'.jpg']\n",
        "            for desc in desc_list:\n",
        "                # encode the sequence\n",
        "                seq = [wordtoix_v[word] for word in desc.split(' ') if word in wordtoix_v]\n",
        "                # split one sequence into multiple X, y pairs\n",
        "                for i in range(1, len(seq)):\n",
        "                    # split into input and output pair\n",
        "                    in_seq, out_seq = seq[:i], seq[i]\n",
        "                    # pad input sequence\n",
        "                    in_seq = pad_sequences([in_seq], maxlen = max_length)[0]\n",
        "                    # encode output sequence\n",
        "                    out_seq = to_categorical([out_seq], num_classes = vocab_size2)[0]\n",
        "                    # store\n",
        "                    X1.append(photo)\n",
        "                    X2.append(in_seq)\n",
        "                    y.append(out_seq)\n",
        "            # yield the batch data\n",
        "            if n == num_photos_per_batch:\n",
        "                yield [[array(X1), array(X2)], array(y)]\n",
        "                X1, X2, y = list(), list(), list()\n",
        "                n=0"
      ]
    },
    {
      "cell_type": "code",
      "execution_count": null,
      "metadata": {
        "colab": {
          "background_save": true
        },
        "id": "UK2i-Teg7zkk"
      },
      "outputs": [],
      "source": [
        "for i in range(epochs):\n",
        "  generator = data_generator(train_descriptions, train_features, wordtoix, max_length_train, number_pics_per_bath)\n",
        "  generator2 = val_data_generator(val_descriptions, val_features, wordtoix_v, max_length_val, number_pics_per_bath)\n",
        "  model.fit(generator, epochs=epochs, steps_per_epoch = steps, validation_data=generator2, validation_steps = steps_val, verbose=1, shuffle=True)\n",
        "  model.save('./model_weights/new/model_' + str(i) + '.h5')"
      ]
    },
    {
      "cell_type": "code",
      "execution_count": null,
      "metadata": {
        "id": "hUVofi8Y70iF"
      },
      "outputs": [],
      "source": [
        "images = 'Amazon_Dataset/'"
      ]
    },
    {
      "cell_type": "code",
      "execution_count": null,
      "metadata": {
        "id": "dUdZRK-sTW2m"
      },
      "outputs": [],
      "source": [
        "with open(\"encoded_test_images.pkl\", \"rb\") as encoded_pickle:\n",
        "    encoding_test = load(encoded_pickle)"
      ]
    },
    {
      "cell_type": "code",
      "execution_count": null,
      "metadata": {
        "id": "pKIaYK3UVZF6"
      },
      "outputs": [],
      "source": [
        "def greedySearch(photo):\n",
        "    in_text = 'startseq'\n",
        "    for i in range(max_length_train):\n",
        "        sequence = [wordtoix[w] for w in in_text.split() if w in wordtoix]\n",
        "        sequence = pad_sequences([sequence], maxlen = max_length_train)\n",
        "        yhat = model.predict([photo,sequence], verbose=0)\n",
        "        yhat = np.argmax(yhat)\n",
        "        word = ixtoword[yhat]\n",
        "        in_text += ' ' + word\n",
        "        if word == 'endseq':\n",
        "            break\n",
        "    final = in_text.split()\n",
        "    final = final[1:-1]\n",
        "    final = ' '.join(final)\n",
        "    return final"
      ]
    },
    {
      "cell_type": "code",
      "execution_count": null,
      "metadata": {
        "colab": {
          "base_uri": "https://localhost:8080/",
          "height": 287
        },
        "id": "drnNuNUyVddE",
        "outputId": "0a47dbe6-a55f-499f-f464-17064389af7b"
      },
      "outputs": [
        {
          "output_type": "display_data",
          "data": {
            "image/png": "[encoded data removed]",
            "text/plain": [
              "<Figure size 432x288 with 1 Axes>"
            ]
          },
          "metadata": {
            "needs_background": "light"
          }
        },
        {
          "output_type": "stream",
          "name": "stdout",
          "text": [
            "Greedy: dress fashion men office watch ---- Filename: B000CA0BNO__Clothing_Shoes_Jewelry_Costumes_Accessories_Men_A_.jpg\n"
          ]
        }
      ],
      "source": [
        "z=0\n",
        "pic = list(encoding_test.keys())[z]\n",
        "image = encoding_test[pic].reshape((1,2048))\n",
        "x=plt.imread(images+pic)\n",
        "plt.imshow(x)\n",
        "plt.show()\n",
        "print(\"Greedy:\",greedySearch(image),\"---- \" \"Filename:\", pic)"
      ]
    },
    {
      "cell_type": "code",
      "execution_count": null,
      "metadata": {
        "id": "Ab-ReFf6V7q2"
      },
      "outputs": [],
      "source": [
        "newdic = {}\n",
        "z=0\n",
        "pic = list(encoding_test.keys())[z]\n",
        "image = encoding_test[pic].reshape((1,2048))\n",
        "x=plt.imread(images+pic)\n",
        "plt.imshow(x)\n",
        "plt.show()\n",
        "print(\"Greedy:\",greedySearch(image),\"---- \" \"Filename:\", pic)"
      ]
    },
    {
      "cell_type": "code",
      "source": [
        "newdic = {}\n",
        "z=0\n",
        "\n",
        "for img in encoding_test:\n",
        "pic = list(encoding_test.keys())[z]\n",
        "image = encoding_test[pic].reshape((1,2048))\n",
        "x=plt.imread(images+pic)\n",
        "plt.imshow(x)\n",
        "plt.show()\n",
        "print(\"Greedy:\",greedySearch(image),\"---- \" \"Filename:\", pic)"
      ],
      "metadata": {
        "id": "xZNgYZtYoeJj"
      },
      "execution_count": null,
      "outputs": []
    },
    {
      "cell_type": "code",
      "source": [
        "for num in range(len(encoding_test)):\n",
        "  pic = list(encoding_test.keys())[num]\n",
        "  image = encoding_test[pic].reshape((1,2048))\n",
        "  keyword = greedySearch(image)\n",
        "  print(pic,\", \", keyword)"
      ],
      "metadata": {
        "colab": {
          "base_uri": "https://localhost:8080/"
        },
        "id": "9baPeMxJowLY",
        "outputId": "f2161cf7-08be-4d6e-beb9-3daf70633f50"
      },
      "execution_count": null,
      "outputs": [
        {
          "output_type": "stream",
          "name": "stdout",
          "text": [
            "B000CA0BNO__Clothing_Shoes_Jewelry_Costumes_Accessories_Men_A_.jpg ,  dress fashion men office watch\n",
            "B000CA0MTC__Clothing_Shoes_Jewelry_Women_Shoes_Flats_100_Leat_.jpg ,  dress loafer men shoes\n",
            "B000C9ZPMW__Clothing_Shoes_Jewelry_Women_Shoes_Fashion_Sneake_.jpg ,  dress loafer men shoes\n",
            "B000CBA2LO__Clothing_Shoes_Jewelry_Shoe_Jewelry_Watch_Accesso_.jpg ,  fashion men office watch\n",
            "B000CBRC76__Clothing_Shoes_Jewelry_Women_Shoes_Loafers_Slip_O_.jpg ,  flat outdoor party shoes wear winter women\n",
            "B000CBSEXW__Clothing_Shoes_Jewelry_Men_Clothing_Active_Athlet_.jpg ,  casual men playing shoes wear\n",
            "B000CBTD9G__Clothing_Shoes_Jewelry_Women_Shoes__.jpg ,  men running shoes sneakers sports\n",
            "B000CBZI5O__Clothing_Shoes_Jewelry_Women_Clothing_Socks_Hosie_.jpg ,  clothing men tight shorts\n",
            "B000CC0E1Q__Clothing_Shoes_Jewelry_Men_Jewelry__.jpg ,  men party shoes wear\n",
            "B000CC1QZE__Clothing_Shoes_Jewelry_Women_Jewelry_Wedding_Enga_.jpg ,  gemstone gift jewelry ring silver stylish stylishs wedding women\n",
            "B000CCD63O__Clothing_Shoes_Jewelry_Women_Shoes_Sandals_Flats__.jpg ,  heels party sandals shoes wear women\n",
            "B000CCM70C__Clothing_Shoes_Jewelry_Women_Clothing_Lingerie_Sl_.jpg ,  clothing men shorts\n",
            "B000CD6766__Clothing_Shoes_Jewelry_Women_Clothing_Lingerie_Sl_.jpg ,  bra essentials lingerie underwear women\n",
            "B000CD9WW2__Clothing_Shoes_Jewelry_Women_Shoes_Sandals__.jpg ,  leather men sandals stylish\n",
            "B000CDIIBI__Clothing_Shoes_Jewelry_Women_Shoes_Loafers_Slip_O_.jpg ,  dress loafer men shoes\n",
            "B000CDIQUQ__Clothing_Shoes_Jewelry_Women_Contemporary_Designe_.jpg ,  clothing fashion men outfit regular\n",
            "B000CDU6YK__Clothing_Shoes_Jewelry_Novelty_More_Jewelry_Earri_.jpg ,  fashion jewelry locket men neck women\n",
            "B000CE9EEM__Clothing_Shoes_Jewelry_Luggage_Travel_Gear_Gym_Ba_.jpg ,  bag bags carry men traveling women\n",
            "B000CEM5MK__Clothing_Shoes_Jewelry_Men_Clothing_Sleep_Lounge__.jpg ,  clothing men shorts\n",
            "B000CEO82A__Clothing_Shoes_Jewelry_Men_Clothing_Sleep_Lounge__.jpg ,  men outfit safety shirt uniform work\n",
            "B000CEOAK0__Clothing_Shoes_Jewelry_Women_Clothing_Socks_Hosie_.jpg ,  lingerie socks stocking stockings women\n",
            "B000CERZTS__Clothing_Shoes_Jewelry_Men_Watches_Wrist_Watches__.jpg ,  belt men watch wrist\n",
            "B000CEQEKE__Clothing_Shoes_Jewelry_Men_Clothing_Jeans_100_Cot_.jpg ,  clothing fashion jeans men pants regular\n",
            "B000CEZWWK__Clothing_Shoes_Jewelry_Women_Shoes_Mules_Clogs_10_.jpg ,  dress fashion formal office pumpy shoes synthetic women\n",
            "B000CFGU66__Clothing_Shoes_Jewelry_Girls_Jewelry_Bracelets__.jpg ,  fashion ring men ring stylish\n",
            "B000CGGQ8M__Clothing_Shoes_Jewelry_Women_Watches_Wrist_Watche_.jpg ,  bands dial leather mechanical men metal watch wrist\n",
            "B000CHPZJW__Clothing_Shoes_Jewelry_Women_Jewelry_Necklaces_Ch_.jpg ,  jewelry necklace pendent silver silverchain stylish women\n",
            "B000CJBYX6__Clothing_Shoes_Jewelry_Women_Jewelry_Rings_Weighs_.jpg ,  jewelry necklace pendent silver stylish with women\n",
            "B000CJDE48__Clothing_Shoes_Jewelry_Women_Jewelry_Necklaces_Pe_.jpg ,  outdoor party stylish wear women\n",
            "B000CKE9A0__Clothing_Shoes_Jewelry_Women_Jewelry_Necklaces_Pe_.jpg ,  jewelry necklace pendent silver stylish with women\n",
            "B000CNF3UC__Clothing_Shoes_Jewelry_Costumes_Accessories_Men_A_.jpg ,  clothing cold ear earmuffs men stylish\n",
            "B000CNWC9M__Clothing_Shoes_Jewelry_Men_Shoes_Outdoor_Rain_Foo_.jpg ,  party sandals shoes wear women\n",
            "B000COMEZS__Clothing_Shoes_Jewelry_Women_Shoes_Athletic_Runni_.jpg ,  gym joggers men running shoes wear\n",
            "B000COL6HA__Clothing_Shoes_Jewelry_Women_Shoes_Sandals_Platfo_.jpg ,  heel open party sandal sandle stylish wear wedding women\n",
            "B000CPJDFQ__Clothing_Shoes_Jewelry_Women_Handbags_Wallets__.jpg ,  bag bags carry cloths men travelling women\n",
            "B000CPM7EK__Clothing_Shoes_Jewelry_Women_Shoes_Sandals_Slides_.jpg ,  open party sandals shoes wear women\n",
            "B000CPN42Y__Clothing_Shoes_Jewelry_Women_Uniforms_Work_Safety_.jpg ,  comfortable fo men shoes wear wedding winter\n",
            "B000CPZX8W__Clothing_Shoes_Jewelry_Women_Shoes_Slippers_100_M_.jpg ,  fancy sandals shoes stylish women\n",
            "B000CQ21R2__Clothing_Shoes_Jewelry_Women_Shoes_Slippers_100_M_.jpg ,  home men shoes slipper slippers stylish wear\n",
            "B000CQ6JLQ__Clothing_Shoes_Jewelry_Women_Shoes_Sandals_Leathe_.jpg ,  fancy flip-flops sandals shoes stylish women\n",
            "B000CQI2V6__Clothing_Shoes_Jewelry_Men_Jewelry__.jpg ,  fashion jewelry manacle ornament silver stylish trinklet women\n",
            "B000CQOOGI__Clothing_Shoes_Jewelry_Women_Shoes_Sandals_100_Le_.jpg ,  dress fashion flat formal leather office shoes women\n",
            "B000CQQRGS__Clothing_Shoes_Jewelry_Women_Shoes_Sandals_Heeled_.jpg ,  dress fashion formal office pumpy shoes synthetic women\n",
            "B000CQRAF0__Clothing_Shoes_Jewelry_Women_Shoes_Sandals_100_Le_.jpg ,  outdoor party sandals stylish wear women\n",
            "B000CQSQQM__Clothing_Shoes_Jewelry_Women_Shoes_Sandals_100_Le_.jpg ,  design quality shoes wear women\n",
            "B000CQT2WY__Clothing_Shoes_Jewelry_Women_Shoes_Sandals_100_Le_.jpg ,  flat party slim slipper slippers wear women\n",
            "B000CQUQUQ__Clothing_Shoes_Jewelry_Men_Shoes_Athletic_Fitness_.jpg ,  men running shoes sneakers sports\n",
            "B000CQVAZ6__Clothing_Shoes_Jewelry_Women_Shoes_Sandals_Synthe_.jpg ,  dress fashion formal leather office pumpy shoes women\n",
            "B000CQZEVW__Clothing_Shoes_Jewelry_Women_Clothing_Swimsuits_C_.jpg ,  bathing bikini dress outfit suit swimming women\n",
            "B000CR498A__Clothing_Shoes_Jewelry_Men_Clothing_Pants_Casual__.jpg ,  clothing fashion jeans men pants regular\n",
            "B000CRB53W__Clothing_Shoes_Jewelry_Women_Shoes_Sandals_Platfo_.jpg ,  heel open party sandal sandle stylish wear wedge women\n",
            "B000CRAG1E__Clothing_Shoes_Jewelry_Men_Clothing_Pants_Casual__.jpg ,  clothing fashion men outfit shirt summer tees top\n",
            "B000CRB8AW__Clothing_Shoes_Jewelry_Men_Shoes_Loafers_Slip_Ons_.jpg ,  comfortable fo leather men shoes sneakers wear winter\n",
            "B000CRBFDC__Clothing_Shoes_Jewelry_Luggage_Travel_Gear_Luggag_.jpg ,  bag men of travel women\n",
            "B000CRBDRA__Clothing_Shoes_Jewelry_Girls_Shoes_Sandals_100_Sy_.jpg ,  men running shoes sneakers sports\n",
            "B000CRD2BA__Clothing_Shoes_Jewelry_Men_Shoes_Oxfords_Leather__.jpg ,  dress men shoes tumb\n",
            "B000CRAZU6__Clothing_Shoes_Jewelry_Women_Shoes_Sandals_100_Ra_.jpg ,  leather sandals stylish women\n",
            "B000CROQYM__Clothing_Shoes_Jewelry_Men_Watches_Watch_Bands_Ge_.jpg ,  classic leather strips watch watches women\n",
            "B000CS8HXM__Clothing_Shoes_Jewelry_Women_Jewelry_Rings_This_C_.jpg ,  gemstone gift jewelry ring silver stylish stylishs wedding women\n",
            "B000CSHDGY__Clothing_Shoes_Jewelry_Men_Clothing_Sleep_Lounge__.jpg ,  dress halloween let men pretend superhero up vigilante\n",
            "B000CSK5QY__Clothing_Shoes_Jewelry_Men_Shoes_Sandals_100_Leat_.jpg ,  leather sandals stylish women\n",
            "B000CSS6P6__Clothing_Shoes_Jewelry_Women_Shoes_Fashion_Sneake_.jpg ,  men running shoes sneakers sports\n",
            "B000CSWOBI__Clothing_Shoes_Jewelry_Women_Shoes_Boots_100_Cott_.jpg ,  comfortable fo leather men shoes sneakers wear winter\n",
            "B000CSWO36__Clothing_Shoes_Jewelry_Women_Shoes_Fashion_Sneake_.jpg ,  gym men running shoes sneakers wear\n",
            "B000DLB410__Clothing_Shoes_Jewelry_Women_Shoes_Sandals_Flats__.jpg ,  party sandals shoes wear women\n",
            "B000DT7K56__Clothing_Shoes_Jewelry_Women_Clothing_Lingerie_Sl_.jpg ,  bra essentials lingerie underwear women\n",
            "B000DZDCNY__Clothing_Shoes_Jewelry_Women_Shoes_Sandals_100_Le_.jpg ,  dress fashion flat formal leather office shoes women\n",
            "B000DZEZJO__Clothing_Shoes_Jewelry_Women_Clothing_Lingerie_Sl_.jpg ,  bra essentials lingerie underwear women\n",
            "B000DZEZBC__Clothing_Shoes_Jewelry_Women_Shoes_Boots_Ankle_Bo_.jpg ,  leather men of office shoes wear\n",
            "B000DZSAAE__Clothing_Shoes_Jewelry_Men_Shoes_Sandals__.jpg ,  men shoes slipper slippers stylish wear\n",
            "B000DZUFSE__Clothing_Shoes_Jewelry_Men_Shoes_Sandals_100_Poly_.jpg ,  dress fashion formal leather office pumpy shoes women\n",
            "B000DZXYVE__Clothing_Shoes_Jewelry_Women_Shoes_Sandals_100_Ma_.jpg ,  sandals shoes stylish women\n",
            "B000DZXYQO__Clothing_Shoes_Jewelry_Women_Shoes_Sandals_Platfo_.jpg ,  home men shoes slipper slippers stylish wear\n",
            "B000DZZFUC__Clothing_Shoes_Jewelry_Men_Shoes_Sandals_Canvas_a_.jpg ,  flat outdoor party shoes wear winter women\n",
            "B000E0PMHC__Clothing_Shoes_Jewelry_Women_Shoes_Athletic_Golf__.jpg ,  men outdoor sandals sneakers wear\n",
            "B000E0PPBA__Clothing_Shoes_Jewelry_Men_Shoes_Oxfords_100_Leat_.jpg ,  men office professional shoes wear\n",
            "B000E0PJW0__Clothing_Shoes_Jewelry_Men_Shoes_Athletic_Golf__.jpg ,  leather open plain sandals shoe shoes stylish women\n",
            "B000E0ROW8__Clothing_Shoes_Jewelry_Men_Shoes_Athletic_Walking_.jpg ,  dress loafer men shoes\n",
            "B000E0RPKE__Clothing_Shoes_Jewelry_Women_Shoes_Athletic_Walki_.jpg ,  leather loffers men shoes\n",
            "B000E0TRNW__Clothing_Shoes_Jewelry_Men_Shoes_Sandals__.jpg ,  open party sandals shoes wear women\n",
            "B000E0XZ2Q__Clothing_Shoes_Jewelry_Women_Shoes_Athletic_Golf__.jpg ,  open outdoor sandals sports wear\n",
            "B000E0ZNWG__Clothing_Shoes_Jewelry_Men_Shoes_Oxfords_100_Leat_.jpg ,  dress loafer men shoes\n",
            "B000E12XC8__Clothing_Shoes_Jewelry_Women_Shoes_Fashion_Sneake_.jpg ,  hitop hitop men sneaker sneakers\n",
            "B000E1319W__Clothing_Shoes_Jewelry_Women_Clothing_Shorts_Casu_.jpg ,  clothing men shorts\n",
            "B000E1AS0M__Clothing_Shoes_Jewelry_Women_Shoes_Boots_Knee_Hig_.jpg ,  comfortable fashion men shoes sneakers sport\n",
            "B000E1RQ66__Clothing_Shoes_Jewelry_Women_Shoes_Boots_Ankle_Bo_.jpg ,  comfortable fo men shoes sport travelling wear winter\n",
            "B000E1S47G__Clothing_Shoes_Jewelry_Men_Watches_Wrist_Watches__.jpg ,  men outfit safety uniform work\n",
            "B000E1TEZW__Clothing_Shoes_Jewelry_Women_Shoes_Boots_Mid_Calf_.jpg ,  men office outdoor shoes wear\n",
            "B000E1WH1U__Clothing_Shoes_Jewelry_Girls_Jewelry_Necklaces_Pe_.jpg ,  fashion men office watch\n",
            "B000E1ZWAS__Clothing_Shoes_Jewelry_Men_Clothing_Active_Active_.jpg ,  briefs essentials men underwear\n",
            "B000E21ASA__Clothing_Shoes_Jewelry_Women_Jewelry_Necklaces_Pe_.jpg ,  party sandals shoes wear women\n",
            "B000E23WYA__Clothing_Shoes_Jewelry_Women_Shoes_Fashion_Sneake_.jpg ,  hitop hitop hitop hitop hitop sneaker sneakers women\n",
            "B000E3C36C__Clothing_Shoes_Jewelry_Women_Shoes_Flats_100_Leat_.jpg ,  dress fashion formal leather office pumpy shoes women\n",
            "B000E3YJYQ__Clothing_Shoes_Jewelry_Luggage_Travel_Gear_Gym_Ba_.jpg ,  bag big cloths luggage men travelling women\n",
            "B000E45AZC__Clothing_Shoes_Jewelry_Men_Shoes_Loafers_Slip_Ons_.jpg ,  dress loafer men shoes\n",
            "B000E440MQ__Clothing_Shoes_Jewelry_Women_Shoes_Sandals_Platfo_.jpg ,  casual home men slipper slippers wear\n",
            "B000E46M18__Clothing_Shoes_Jewelry_Women_Jewelry_Necklaces_Pe_.jpg ,  bracelet decorated gemstones jewelry men silver with women\n",
            "B000E48DRO__Clothing_Shoes_Jewelry_Women_Shoes_Oxfords_100_Le_.jpg ,  comfortable fo leather men shoes sneakers wear winter\n",
            "B000E4ARDC__Clothing_Shoes_Jewelry_Women_Jewelry_Necklaces_Pe_.jpg ,  necklace stlish wear women\n",
            "B000E4B3VM__Clothing_Shoes_Jewelry_Women_Shoes_Sandals_Slides_.jpg ,  flat outdoor party shoes wear winter women\n",
            "B000E4AY0S__Clothing_Shoes_Jewelry_Women_Shoes_Pumps_100_Micr_.jpg ,  dress fashion formal office pumpy shoes synthetic women\n",
            "B000E4AYMQ__Clothing_Shoes_Jewelry_Women_Shoes_Sandals_Platfo_.jpg ,  leather men sandals stylish\n",
            "B000E4ARDM__Clothing_Shoes_Jewelry_Women_Jewelry_Necklaces_Pe_.jpg ,  men men pocket stylish watch wrist\n",
            "B000E4BZ7Y__Clothing_Shoes_Jewelry_Women_Shoes_Sandals_100_Ve_.jpg ,  party sandals shoes wear women\n",
            "B000E4CKJ6__Clothing_Shoes_Jewelry_Women_Shoes_Flats_100_Leat_.jpg ,  fashion men office watch\n",
            "B000E63DZY__Clothing_Shoes_Jewelry_Women_Clothing_Socks_Hosie_.jpg ,  men shoes socks stylish wear winter\n",
            "B000E6IF7K__Clothing_Shoes_Jewelry_Women_Shoes_Sandals_Platfo_.jpg ,  casual heels ladies shoes sports wear women\n",
            "B000E6KF5U__Clothing_Shoes_Jewelry_Women_Shoes_Fashion_Sneake_.jpg ,  gym men running shoes sneakers wear\n",
            "B000E6MKU8__Clothing_Shoes_Jewelry_Women_Shoes_Fashion_Sneake_.jpg ,  gym men running shoes sneakers wear\n",
            "B000E6OA88__Clothing_Shoes_Jewelry_Women_Shoes_Fashion_Sneake_.jpg ,  bag men of travelling women\n",
            "B000E6W37I__Clothing_Shoes_Jewelry_Women_Accessories_Sunglass_.jpg ,  fashion glasses summer sun women\n",
            "B000E6NHCI__Clothing_Shoes_Jewelry_Women_Shoes_Sandals_100_Le_.jpg ,  party sandals shoes wear women\n",
            "B000E7R2SC__Clothing_Shoes_Jewelry_Women_Jewelry_Rings_Statem_.jpg ,  band egagement men metal stylish watch wrist\n",
            "B000E865M0__Clothing_Shoes_Jewelry_Women_Plus_Size_Intimates__.jpg ,  bra essentials lingerie underwear women\n",
            "B000E8CHC2__Clothing_Shoes_Jewelry_Women_Shoes_100_Synthetic__.jpg ,  heels high party sandals wear women\n",
            "B000E8F98G__Clothing_Shoes_Jewelry_Men_Uniforms_Work_Safety_S_.jpg ,  arrivals design men of shoes wear\n",
            "B000E8HJAC__Clothing_Shoes_Jewelry_Women_Shoes_Sandals_100_Le_.jpg ,  dress fashion formal leather office pumpy shoes women\n",
            "B000E8HETI__Clothing_Shoes_Jewelry_Women_Handbags_Wallets_Tot_.jpg ,  bag gear luggage men side travel women\n",
            "B000E94J8Q__Clothing_Shoes_Jewelry_Luggage_Travel_Gear_Backpa_.jpg ,  bag big cloths gadget luggage men travelling women\n",
            "B000E9626I__Clothing_Shoes_Jewelry_Uniforms_Work_Safety_Cloth_.jpg ,  clothing men suit tie ties\n",
            "B000EAS50I__Clothing_Shoes_Jewelry_Men_Accessories_Belts_100__.jpg ,  belt men safety\n",
            "B000EB5RNU__Clothing_Shoes_Jewelry_Men_Accessories_100_Acryli_.jpg ,  cap caps clothing gear men stylish\n",
            "B000EB7Z5S__Clothing_Shoes_Jewelry_Women_Shoes_Sandals_100_Le_.jpg ,  party sandals shoes wear women\n",
            "B000EB5SQQ__Clothing_Shoes_Jewelry_Women_Shoes_Pumps_100_Snak_.jpg ,  dress fashion formal office pumpy shoes synthetic women\n",
            "B000EBC4NG__Clothing_Shoes_Jewelry_Women_Accessories_Hats_Cap_.jpg ,  cap hats men outdoor protector sports sun travelling visor\n",
            "B000EBK7D0__Clothing_Shoes_Jewelry_Women_Shoes_Sandals_100_Le_.jpg ,  leather sandals stylish women\n",
            "B000EBJLKA__Clothing_Shoes_Jewelry_Men_Uniforms_Work_Safety_C_.jpg ,  belt belts men watch\n",
            "B000EBKJVA__Clothing_Shoes_Jewelry_Women_Cotton_Blend_Made_in_.jpg ,  comfortable long men party shoes wear winter\n",
            "B000EBOOCK__Clothing_Shoes_Jewelry_Men_Shoes_Oxfords_100_Anti_.jpg ,  dress men shoes tumb\n",
            "B000EBPKKA__Clothing_Shoes_Jewelry_Women_Shoes_Sandals_100_Ma_.jpg ,  open party sandals shoes wear women\n",
            "B000EBTNS0__Clothing_Shoes_Jewelry_Women_Shoes_Pumps_100_Leat_.jpg ,  bag men pouch schoolbag sturdy travel utility women\n",
            "B000EDH5QU__Clothing_Shoes_Jewelry_Men_Shoes_Oxfords_100_Leat_.jpg ,  dress men oxford shoes\n",
            "B000EDHPEC__Clothing_Shoes_Jewelry_Women_Shoes_Pumps_100_Canv_.jpg ,  dress fashion formal leather office pumpy shoes women\n",
            "B000EDHOQQ__Clothing_Shoes_Jewelry_Women_Shoes_Sandals_Platfo_.jpg ,  leather sandals stylish women\n",
            "B000EDI1ZY__Clothing_Shoes_Jewelry_Women_Shoes_Flats_100_Leat_.jpg ,  party sandals shoes wear women\n",
            "B000EDK940__Clothing_Shoes_Jewelry_Women_Shoes_Pumps_100_Leat_.jpg ,  dress fashion formal leather office pumpy shoes women\n",
            "B000EDMTWA__Clothing_Shoes_Jewelry_Women_Shoes_Fashion_Sneake_.jpg ,  hitop hitop hitop men sneaker sneakers\n",
            "B000EDR5J2__Clothing_Shoes_Jewelry_Women_Clothing_Lingerie_Sl_.jpg ,  bra essentials lingerie underwear women\n",
            "B000EDM5OM__Clothing_Shoes_Jewelry_Women_Shoes_Sandals_Platfo_.jpg ,  heels high party sandals wear women\n",
            "B000EDOQFS__Clothing_Shoes_Jewelry_Men_Accessories_Ties_Cumme_.jpg ,  classic dress formal men tie tuxedo\n",
            "B000EDTVSU__Clothing_Shoes_Jewelry_Women_Shoes_Sandals_Heeled_.jpg ,  fashion heels long office pumpies shoes short style women\n",
            "B000EE3HGQ__Clothing_Shoes_Jewelry_Men_Shoes_Athletic_Fitness_.jpg ,  gym men running shoes sneakers wear\n",
            "B000EE3IHE__Clothing_Shoes_Jewelry_Women_Shoes_Fashion_Sneake_.jpg ,  men running shoes sneakers sports\n",
            "B000EE6XUS__Clothing_Shoes_Jewelry_Women_Jewelry_Necklaces_Pe_.jpg ,  jewelry necklace necklet silver stylish women\n",
            "B000EE6XP8__Clothing_Shoes_Jewelry_Women_Jewelry_Necklaces_Pe_.jpg ,  jewelry necklace silver stylish women\n",
            "B000EFIM6A__Clothing_Shoes_Jewelry_Baby_Baby_Boys_Shoes_Sneak_.jpg ,  sneakers women\n",
            "B000EGHNXW__Clothing_Shoes_Jewelry_Men_Uniforms_Work_Safety_S_.jpg ,  men outdoor shoes wear winter\n",
            "B000EGSD72__Clothing_Shoes_Jewelry_Women_Jewelry_Necklaces_Pe_.jpg ,  jewelry necklace pendent silver silverchain stylish women\n",
            "B000EGSKAW__Clothing_Shoes_Jewelry_Women_Accessories_Scarves__.jpg ,  fashion scarf silk stylish traditional women\n",
            "B000EGWDE6__Clothing_Shoes_Jewelry_Women_Accessories_Scarves__.jpg ,  fashion full scarf suit wear women\n",
            "B000EGZYI8__Clothing_Shoes_Jewelry_Women_Shoes_Athletic_Runni_.jpg ,  men running shoes sneakers sports\n",
            "B000EH0BH6__Clothing_Shoes_Jewelry_Women_Shoes_Sandals_Platfo_.jpg ,  party sandals shoes wear women\n",
            "B000EHIPGK__Clothing_Shoes_Jewelry_Men_Accessories_Ties_Cumme_.jpg ,  belt clothing men suit\n",
            "B000EHP9BE__Clothing_Shoes_Jewelry_Women_Shoes_Sandals_Platfo_.jpg ,  heel open party sandal sandle stylish wear wedge women\n",
            "B000EIB318__Clothing_Shoes_Jewelry_Women_Jewelry_Wedding_Enga_.jpg ,  jewelry necklace plain silver women\n",
            "B000EID0GY__Clothing_Shoes_Jewelry_Women_Clothing_Jeans_Cotto_.jpg ,  jeans men pants\n",
            "B000EIJGLW__Clothing_Shoes_Jewelry_Women_Shoes_Sandals_100_Le_.jpg ,  open party sandals shoes wear women\n",
            "B000B8L3K2__Clothing_Shoes_Jewelry_Women_Shoes_Sandals_Synthe_.jpg ,  casual home men slipper slippers wear\n",
            "B000B8NKR6__Clothing_Shoes_Jewelry_Women_Shoes_Slippers__.jpg ,  comfortable flat leather mules plain shoe shoes stylish winter women\n",
            "B000B8P7Y0__Clothing_Shoes_Jewelry_Women_Shoes_Boots_Mid_Calf_.jpg ,  men outdoor shoes wear\n",
            "B000B8YKQG__Clothing_Shoes_Jewelry_Men_Jewelry_Rings_Excellen_.jpg ,  diamond engagement iced jewelry men plain ring silver\n",
            "B000B95JWE__Clothing_Shoes_Jewelry_Men_Accessories_Ties_Cumme_.jpg ,  clothing men suit tie ties\n",
            "B000B920UI__Clothing_Shoes_Jewelry_Costumes_Accessories_Men_M_.jpg ,  fashion jewelry locket men neck women\n",
            "B000BASMGS__Clothing_Shoes_Jewelry_Luggage_Travel_Gear_Messen_.jpg ,  bag bags cloths gadget men travelling women\n",
            "B000BASXXU__Clothing_Shoes_Jewelry_Women_Jewelry_Necklaces_Pe_.jpg ,  fabric jewelry necklace pendent silver stylish with women\n",
            "B000BB6KVG__Clothing_Shoes_Jewelry_Luggage_Travel_Gear_Backpa_.jpg ,  clothing men outfit shirt summer\n",
            "B000BB6ALQ__Clothing_Shoes_Jewelry_Women_Shoes_100_Leather_Sy_.jpg ,  cowboy leather men western\n",
            "B000BB7UBK__Clothing_Shoes_Jewelry_Men_Clothing_Jackets_Coats_.jpg ,  coat collection fashion full men outfit sleeves winter\n",
            "B000BB9CUW__Clothing_Shoes_Jewelry_Women_Clothing_Polyknit_On_.jpg ,  fashion hoodie men rain stylish winter\n",
            "B000BB9FOK__Clothing_Shoes_Jewelry_Men_Clothing_Jackets_Coats_.jpg ,  coat jacket jackets men rain warm winter\n",
            "B000BBGLJC__Clothing_Shoes_Jewelry_Women_Clothing_Pants_54_Co_.jpg ,  dress men outfit safety work\n",
            "B000BBOCWK__Clothing_Shoes_Jewelry_Women_Shoes_Sandals_Flats__.jpg ,  comfortable flat leather mules plain shoe shoes stylish winter women\n",
            "B000BBS82K__Clothing_Shoes_Jewelry_Costumes_Accessories_Women_.jpg ,  clothing fashion men office tie\n",
            "B000BC8JF0__Clothing_Shoes_Jewelry_Women_Shoes_Pumps_100_Leat_.jpg ,  clothing men running shoes sports\n",
            "B000BCJGZC__Clothing_Shoes_Jewelry_Women_Shoes_100_Canvas_Imp_.jpg ,  gym men running shoes sneakers wear\n",
            "B000BD27SE__Clothing_Shoes_Jewelry_Boys_Accessories_Neckties__.jpg ,  clothing men suit tie ties\n",
            "B000BDGBD6__Clothing_Shoes_Jewelry_Men_Accessories_Ties_Cumme_.jpg ,  clothing men suit tie ties\n",
            "B000BDH8JM__Clothing_Shoes_Jewelry_Men_Watches_Wrist_Watches__.jpg ,  case cash clip compact holder men money wallet with women zipper\n",
            "B000BDRSNI__Clothing_Shoes_Jewelry_Women_Accessories_Wallets__.jpg ,  bag gear luggage men side travel women\n",
            "B000BEZXMA__Clothing_Shoes_Jewelry_Girls_Shoes_Sandals_100_Po_.jpg ,  fashion men party suspenders wear\n",
            "B000BFJIJS__Clothing_Shoes_Jewelry_Women_Clothing_Sweaters_Sh_.jpg ,  fashion men office watch\n",
            "B000BFNJC0__Clothing_Shoes_Jewelry_Luggage_Travel_Gear_Travel_.jpg ,  gear luggage men side travel wheels with women\n",
            "B000BFNKB0__Clothing_Shoes_Jewelry_Women_Jewelry_Necklaces_Ha_.jpg ,  jewelry necklace silver stylish women\n",
            "B000BGN50A__Clothing_Shoes_Jewelry_Women_Watches_Wrist_Watche_.jpg ,  fashion jewelry locket men neck women\n",
            "B000BH6588__Clothing_Shoes_Jewelry_Women_Watches_Wrist_Watche_.jpg ,  band mechincal metal stylish watch women wrist\n",
            "B000BH7FMS__Clothing_Shoes_Jewelry_Women_Shoes_Sandals_Platfo_.jpg ,  leather sandals stylish women\n",
            "B000BH7GEU__Clothing_Shoes_Jewelry_Women_Shoes_Sandals_100_Le_.jpg ,  party sandals shoes wear women\n",
            "B000BHGY9S__Clothing_Shoes_Jewelry_Women_Shoes_Sandals_Flip_F_.jpg ,  leather sandals stylish women\n",
            "B000BHW2DK__Clothing_Shoes_Jewelry_Men_Jewelry_Wedding_Rings__.jpg ,  men men safety men safety men unifrom men women\n",
            "B000BI2A1S__Clothing_Shoes_Jewelry_Women_Shoes_Pumps_100_Sati_.jpg ,  comfortable fo leather men shoes sneakers wear winter\n",
            "B000BI3UWG__Clothing_Shoes_Jewelry_Women_Shoes_Pumps_100_Leat_.jpg ,  dress fashion formal office pumpy shoes synthetic women\n",
            "B000BI3XBO__Clothing_Shoes_Jewelry_Women_Shoes_Flats_100_Sued_.jpg ,  dress fashion formal office pumpy shoes synthetic women\n",
            "B000BIRHXO__Clothing_Shoes_Jewelry_Women_Clothing_Lingerie_Sl_.jpg ,  lingerie socks stocking stockings women\n",
            "B000BJ0OCE__Clothing_Shoes_Jewelry_Women_Shoes_Sandals_Platfo_.jpg ,  leather sandals stylish women\n",
            "B000BJ1RJ8__Clothing_Shoes_Jewelry_Women_Shoes_Sandals_Heeled_.jpg ,  flat party slim slipper slippers wear women\n",
            "B000BJHKB2__Clothing_Shoes_Jewelry_Women_Jewelry_Rings_Statem_.jpg ,  engagement gemstone golden jewelry plain ring statem women\n",
            "B000BJF13Q__Clothing_Shoes_Jewelry_Men_Accessories_Wallets_Ca_.jpg ,  case cash clip compact holder men money wallet zipper\n",
            "B000BJQ7FW__Clothing_Shoes_Jewelry_Women_Jewelry_Rings_Statem_.jpg ,  gemstone gift jewelry ring silver stylish stylishs wedding women\n",
            "B000BJRVHK__Clothing_Shoes_Jewelry_Women_Jewelry_Rings_Statem_.jpg ,  engagement gemstone jewelry plain ring silver statem women\n",
            "B000BJSTRQ__Clothing_Shoes_Jewelry_Men_Timex_5E421_Men_s_Full_.jpg ,  men sports watch wear wrist\n",
            "B000BJU5YQ__Clothing_Shoes_Jewelry_Women_Jewelry_Rings_Statem_.jpg ,  gemstone gift jewelry ring silver stylish stylishs wedding women\n",
            "B000BK39AM__Clothing_Shoes_Jewelry_Men_Shoes_Sandals__.jpg ,  dress fashion formal leather office pumpy shoes women\n",
            "B000BK93DY__Clothing_Shoes_Jewelry_Shoe_Jewelry_Watch_Accesso_.jpg ,  fashion mechanical men metal style stylish watch\n",
            "B000BK9BY0__Clothing_Shoes_Jewelry_Men_Shoes_Loafers_Slip_Ons_.jpg ,  comfortable fo men shoes sport travelling wear winter\n",
            "B000BKBXF0__Clothing_Shoes_Jewelry_Women_Clothing_Jeans_100_D_.jpg ,  clothing dress-up dressing fashion jeans men outfit pants\n",
            "B000BKE5PU__Clothing_Shoes_Jewelry_Women_Clothing_Coats_Jacke_.jpg ,  coat collection fashion full hood jacket men outfit sleeves winter\n",
            "B000BKTD02__Clothing_Shoes_Jewelry_Women_Jewelry_Brooches_Pin_.jpg ,  decoration garment icon jewelry metallic women\n",
            "B000BKTCT4__Clothing_Shoes_Jewelry_Women_Jewelry_Brooches_Pin_.jpg ,  decoration garment icon jewelry metallic women\n",
            "B000BKV1FC__Clothing_Shoes_Jewelry_Women_Jewelry_Brooches_Pin_.jpg ,  decoration garment jewelry silver women\n",
            "B000BKX5R4__Clothing_Shoes_Jewelry_Women_Shoes_Fashion_Sneake_.jpg ,  hitop hitop hitop hitop men sneaker sneakers\n",
            "B000BLFG2K__Clothing_Shoes_Jewelry_Women_Shoes_Mules_Clogs_10_.jpg ,  men stylish watch wear\n",
            "B000BLI69A__Clothing_Shoes_Jewelry_Men_Clothing_Jackets_Coats_.jpg ,  coat jacket jackets men rain warm winter\n",
            "B000BLO6FI__Clothing_Shoes_Jewelry_Men_Jewelry_Wedding_Rings__.jpg ,  men outdoor stylish wear winter\n",
            "B000BLO6DU__Clothing_Shoes_Jewelry_Men_Jewelry_Wedding_Rings__.jpg ,  men ring style wedding\n",
            "B000BLRX0S__Clothing_Shoes_Jewelry_Men_Jewelry_Wedding_Rings__.jpg ,  men ring silver wedding\n",
            "B000BM4TLS__Clothing_Shoes_Jewelry_Women_Jewelry_Bracelets_Id_.jpg ,  golden iced jewelry necklace plain women\n",
            "B000BM6GO6__Clothing_Shoes_Jewelry_Women_Shoes_Sandals_Slides_.jpg ,  open party sandals shoes wear women\n",
            "B000BM8O8C__Clothing_Shoes_Jewelry_Novelty_More_Clothing_Nove_.jpg ,  men office professional shoes wear\n",
            "B000BMCI6G__Clothing_Shoes_Jewelry_Women_Jewelry_Bracelets_Th_.jpg ,  jewelry necklace plain silver women\n",
            "B000BMIC2U__Clothing_Shoes_Jewelry_Costumes_Accessories_Women_.jpg ,  party sandals shoes wear women\n",
            "B000BMQRL8__Clothing_Shoes_Jewelry_Men_Shoes_Boots_Western__.jpg ,  cowboy leather men western\n",
            "B000BMWZIC__Clothing_Shoes_Jewelry_Women_Shoes_Fashion_Sneake_.jpg ,  hitop hitop men sneaker sneakers\n",
            "B000BN6JQK__Clothing_Shoes_Jewelry_Men_Accessories_Ties_Cumme_.jpg ,  men men suit tie ties wear\n",
            "B000BN7HIY__Clothing_Shoes_Jewelry_Women_Shoes_Sandals_Platfo_.jpg ,  heels high party sandals wear women\n",
            "B000BNB8HU__Clothing_Shoes_Jewelry_Men_Shoes_Fashion_Sneakers_.jpg ,  comfortable fo leather men shoes sneakers wear winter\n",
            "B000BND7F6__Clothing_Shoes_Jewelry_Women_Shoes_Fashion_Sneake_.jpg ,  fashion flat men shoes slippers\n",
            "B000BNKAOM__Clothing_Shoes_Jewelry_Women_Shoes_Pumps_100_Leat_.jpg ,  dress fashion formal leather office pumpy shoes women\n",
            "B000BNKGIC__Clothing_Shoes_Jewelry_Women_Accessories_Wallets__.jpg ,  case cash clip compact holder leather men money wallet with women zipper\n",
            "B000BNLIFM__Clothing_Shoes_Jewelry_Women_Shoes_Boots_Leather__.jpg ,  fashion footwear galoshoes leather men shoes snow\n",
            "B000BNMAJ0__Clothing_Shoes_Jewelry_Men_Shoes_Outdoor_Hiking_T_.jpg ,  hitop hitop men sneaker sneakers\n",
            "B000BNTRXC__Clothing_Shoes_Jewelry_Men_Shoes_Boots_Motorcycle_.jpg ,  comfortable fashion shoes sneakers sport women\n",
            "B000BNT0IE__Clothing_Shoes_Jewelry_Girls_Shoes_Sandals_Man_Ma_.jpg ,  flat party slim slipper slippers wear women\n",
            "B000BNXFYY__Clothing_Shoes_Jewelry_Women_Shoes_Fashion_Sneake_.jpg ,  gym joggers men running shoes wear\n",
            "B000BO120M__Clothing_Shoes_Jewelry_Women_Shoes_Fashion_Sneake_.jpg ,  comfortable fo men shoes sport travelling wear winter\n",
            "B000BO14XW__Clothing_Shoes_Jewelry_Women_Shoes_Sandals__.jpg ,  leather men rain shoes winter\n",
            "B000BO4NFS__Clothing_Shoes_Jewelry_Women_Shoes__.jpg ,  dress loafer men shoes\n",
            "B000BO4VZA__Clothing_Shoes_Jewelry_Women_Shoes_Athletic_Walki_.jpg ,  dress men shoes tumb\n",
            "B000BO654A__Clothing_Shoes_Jewelry_Women_Shoes_Sandals_Slides_.jpg ,  flat party shoes wear women\n",
            "B000BO60Z4__Clothing_Shoes_Jewelry_Women_Shoes_Fashion_Sneake_.jpg ,  comfortable fo men shoes sport travelling wear winter\n",
            "B000BOPGP4__Clothing_Shoes_Jewelry_Women_Accessories_Wallets__.jpg ,  case cash clip compact holder leather men money wallet with women zipper\n",
            "B000BOURI0__Clothing_Shoes_Jewelry_Women_Shoes_Sandals_100_Sy_.jpg ,  open party sandals shoes wear women\n",
            "B000BP83P8__Clothing_Shoes_Jewelry_Women_Clothing_Socks_Hosie_.jpg ,  lingerie socks stocking stockings women\n",
            "B000BPF19E__Clothing_Shoes_Jewelry_Men_Shoes_Oxfords_100_Leat_.jpg ,  comfortable fo leather men shoes sneakers wear winter\n",
            "B000BPWP8O__Clothing_Shoes_Jewelry_Men_Clothing_Underwear_Box_.jpg ,  clothing men underwear\n",
            "B000BQK2HY__Clothing_Shoes_Jewelry_Men_Shoes_Boots_Work_Safet_.jpg ,  comfortable long men party shoes wear winter\n",
            "B000BQJILU__Clothing_Shoes_Jewelry_Women_Jewelry_Anklets_Pure_.jpg ,  jewelry necklace plain silver women\n",
            "B000BQLF16__Clothing_Shoes_Jewelry_Women_Jewelry_Anklets__.jpg ,  bracelet decorated jewelry silver women\n",
            "B000BQM2TK__Clothing_Shoes_Jewelry_Men_Shoes_Boots__.jpg ,  leather men rain shoes winter\n",
            "B000BR5MQO__Clothing_Shoes_Jewelry_Luggage_Travel_Gear_Travel_.jpg ,  collection fashion footwear galoshoes leather snowshoes winter women\n",
            "B000BRBYPC__Clothing_Shoes_Jewelry_Women_Shoes_Boots_Mid_Calf_.jpg ,  comfortable fo men shoes sport travelling wear winter\n",
            "B000BRBXPI__Clothing_Shoes_Jewelry_Women_Watches_Wrist_Watche_.jpg ,  bands plastic stylish watch women wrist\n",
            "B000BRMGJU__Clothing_Shoes_Jewelry_Men_Accessories_Hats_Caps__.jpg ,  cap caps clothing gear men travelling\n",
            "B000BROUN0__Clothing_Shoes_Jewelry_Women_Jewelry_Rings_Free_E_.jpg ,  fashion men party\n",
            "B000BRPA2A__Clothing_Shoes_Jewelry_Men_Shoes_Loafers_Slip_Ons_.jpg ,  comfortable fo men shoes sport travelling wear winter\n",
            "B000BRSG4E__Clothing_Shoes_Jewelry_Women_Shoes_Flats_100_Leat_.jpg ,  dress loafer men shoes\n",
            "B000BRRMDK__Clothing_Shoes_Jewelry_Men_Clothing_Active_Active_.jpg ,  clothing men shirt summer\n",
            "B000BS04XE__Clothing_Shoes_Jewelry_Men_Watches_Wrist_Watches__.jpg ,  men sports watch wear wrist\n",
            "B000BT0AEG__Clothing_Shoes_Jewelry_Women_Shoes_Boots_Mid_Calf_.jpg ,  cowboy leather men western\n",
            "B000BSY7SC__Clothing_Shoes_Jewelry_Men_Shoes_Sandals_100_Synt_.jpg ,  gym men running shoes sports\n",
            "B000BT145A__Clothing_Shoes_Jewelry_Women_Shoes_Fashion_Sneake_.jpg ,  men office professional shoes wear\n",
            "B000BT4JXY__Clothing_Shoes_Jewelry_Women_Shoes_Loafers_Slip_O_.jpg ,  dress loafer men shoes\n",
            "B000BT5KVE__Clothing_Shoes_Jewelry_Women_Jewelry_Rings_Statem_.jpg ,  box cover jewelry women\n",
            "B000BT6RFC__Clothing_Shoes_Jewelry_Men_Shoes_Boots_Motorcycle_.jpg ,  comfortable fo men shoes wear wedding winter\n",
            "B000BTFA7S__Clothing_Shoes_Jewelry_Boys_Clothing_Tops_Tees_Te_.jpg ,  clothing men polo shirt style summer\n",
            "B000BU0BI0__Clothing_Shoes_Jewelry_Women_Clothing_Tops_Tees_B_.jpg ,  clothing men polo shirt style summer\n",
            "B000BUIE7A__Clothing_Shoes_Jewelry_Women_Jewelry_Rings__.jpg ,  gemstone gift jewelry ring silver stylish stylishs wedding women\n",
            "B000BUIE7K__Clothing_Shoes_Jewelry_Women_Jewelry_Necklaces_Pe_.jpg ,  jewelry necklace pendent silver silverchain stylish women\n",
            "B000BUMX18__Clothing_Shoes_Jewelry_Women_Jewelry_Necklaces_Ch_.jpg ,  jewelry necklace silver stylish women\n",
            "B000BV017K__Clothing_Shoes_Jewelry_Women_Jewelry_Rings_Free_E_.jpg ,  gemstone gift jewelry ring silver stylish stylishs wedding women\n",
            "B000BV05FI__Clothing_Shoes_Jewelry_Luggage_Travel_Gear_Backpa_.jpg ,  bag bags carry casual makeup women\n",
            "B000BVFY7M__Clothing_Shoes_Jewelry_Women_Contemporary_Designe_.jpg ,  clothing fashion jeans men pants party regular\n",
            "B000BVM0EM__Clothing_Shoes_Jewelry_Women_Shoes_Boots_Ankle_Bo_.jpg ,  boots leather men rain shoes winter\n",
            "B000BVIFIC__Clothing_Shoes_Jewelry_Men_Watches_Wrist_Watches__.jpg ,  bands classic leather men metal watch wrist\n",
            "B000BVZPDK__Clothing_Shoes_Jewelry_Men_Shoes_Athletic_Walking_.jpg ,  dress loafer men shoes\n",
            "B000BVZR9M__Clothing_Shoes_Jewelry_Men_Shoes_Athletic_Walking_.jpg ,  comfortable fo leather men shoes sneakers wear winter\n",
            "B000BVZO7M__Clothing_Shoes_Jewelry_Men_Shoes_Loafers_Slip_Ons_.jpg ,  hitop hitop men sneaker sneakers\n",
            "B000BW0JV2__Clothing_Shoes_Jewelry_Men_Big_Tall_Shirts_Button_.jpg ,  clothing men polo shirt style summer\n",
            "B000BW4XVO__Clothing_Shoes_Jewelry_Men_Shoes_Athletic_Walking_.jpg ,  comfortable fo leather men shoes sneakers wear winter\n",
            "B000BW8GAS__Clothing_Shoes_Jewelry_Men_Shoes_Loafers_Slip_Ons_.jpg ,  men office professional shoes wear\n",
            "B000BW8GKI__Clothing_Shoes_Jewelry_Women_Shoes_Outdoor_Hiking_.jpg ,  hitop men running shoes sneakers sports\n",
            "B000BW8JSW__Clothing_Shoes_Jewelry_Men_Shoes_Oxfords__.jpg ,  men office professional shoes wear\n",
            "B000BWA6O2__Clothing_Shoes_Jewelry_Women_Shoes_Athletic_Sport_.jpg ,  dress fashion flat formal leather office shoes women\n",
            "B000BWC5GE__Clothing_Shoes_Jewelry_Men_Shoes_Oxfords_100_Leat_.jpg ,  men office outdoor shoes wear\n",
            "B000BWDPDG__Clothing_Shoes_Jewelry_Women_Shoes_Outdoor_Hiking_.jpg ,  comfortable fo men shoes sport travelling wear winter\n",
            "B000BWQ6QY__Clothing_Shoes_Jewelry_Men_Accessories_Ties_Cumme_.jpg ,  classic dress formal men tie tuxedo\n",
            "B000BWMWQM__Clothing_Shoes_Jewelry_Men_Accessories_Ties_Cumme_.jpg ,  clothing men suit tie ties\n",
            "B000BWSK5Y__Clothing_Shoes_Jewelry_Boys_Clothing_Active_Activ_.jpg ,  men rough shirt sleeveless summer tshirt wear\n",
            "B000BX2D06__Clothing_Shoes_Jewelry_Men_Clothing_Shirts_T_Shir_.jpg ,  men outfit safety shirt uniform work\n",
            "B000BX7QJO__Clothing_Shoes_Jewelry_Men_Accessories_Gloves_Mit_.jpg ,  gloves hand-fits leather men mitten short stylish\n",
            "B000BXKDH6__Clothing_Shoes_Jewelry_Women_Jewelry_Brooches_Pin_.jpg ,  gemstone gift jewelry men ring silver stylish wedding women\n",
            "B000BXUKQ0__Clothing_Shoes_Jewelry_Men_Uniforms_Work_Safety_S_.jpg ,  comfortable hiking men shoes sneakers uniform wear winter\n",
            "B000BYAFBO__Clothing_Shoes_Jewelry_Men_Shoes_Sandals_100_Full_.jpg ,  leather men of office shoes wear\n",
            "B000BY9B1O__Clothing_Shoes_Jewelry_Men_Shoes_Loafers_Slip_Ons_.jpg ,  dress loafer men shoes\n",
            "B000BYCM74__Clothing_Shoes_Jewelry_Women_Jewelry_Necklaces_Pe_.jpg ,  jewelry necklace plain silver women\n",
            "B000BYELBE__Clothing_Shoes_Jewelry_Novelty_More_Clothing_Nove_.jpg ,  caps casual door men out sports wear\n",
            "B000BZ1IN2__Clothing_Shoes_Jewelry_Women_Clothing_Lingerie_Sl_.jpg ,  clothing men suit tie ties\n",
            "B000BZ5P54__Clothing_Shoes_Jewelry_Men_Clothing_Active_Active_.jpg ,  coat jacket jackets men rain warm winter\n",
            "B000BZ8L28__Clothing_Shoes_Jewelry_Women_Shoes_Sandals_Slides_.jpg ,  flat outdoor party shoes wear winter women\n",
            "B000BZ8O5C__Clothing_Shoes_Jewelry_Girls_Shoes_Sneakers_100_S_.jpg ,  comfortable flat leather mules plain shoe shoes stylish winter women\n",
            "B000C0LAX4__Clothing_Shoes_Jewelry_Women_Clothing_Coats_Jacke_.jpg ,  coat collection fashion full hood jacket men outfit sleeves winter\n",
            "B000C1S9V4__Clothing_Shoes_Jewelry_Women_Clothing_Jeans__.jpg ,  men outfit pants safety uniform work\n",
            "B000C1PDF4__Clothing_Shoes_Jewelry_Women_Shoes_Boots_Polyuret_.jpg ,  high leathers outdoor shoes wear winter women\n",
            "B000C1TNQ4__Clothing_Shoes_Jewelry_Women_Jewelry_Rings__.jpg ,  gemstone gift jewelry ring silver stylish stylishs wedding women\n",
            "B000C1SHX4__Clothing_Shoes_Jewelry_Women_Shoes_Boots_Knee_Hig_.jpg ,  high leathers outdoor shoes wear winter women\n",
            "B000C1SI74__Clothing_Shoes_Jewelry_Women_Shoes_Boots_Heel_mea_.jpg ,  high outdoor wear winter women\n",
            "B000C1VRH2__Clothing_Shoes_Jewelry_Men_Shoes_Loafers_Slip_Ons_.jpg ,  comfortable fo leather men shoes sneakers wear winter\n",
            "B000C239IQ__Clothing_Shoes_Jewelry_Women_Jewelry_Bracelets__.jpg ,  bracelet decorated gemstones jewelry men silver with women\n",
            "B000C2YE4Y__Clothing_Shoes_Jewelry_Women_Jewelry_Necklaces_Pe_.jpg ,  jewelry necklace plain silver silverchain women\n",
            "B000C3OB8M__Clothing_Shoes_Jewelry_Women_Accessories_Hats_Cap_.jpg ,  cap hats men outdoor protector sports sun travelling visor\n",
            "B000C41LDY__Clothing_Shoes_Jewelry_Men_Skeleton_design_Autowi_.jpg ,  bands dial leather mechanical men metal watch wrist\n",
            "B000C4U9B4__Clothing_Shoes_Jewelry_Men_Clothing_Underwear_Box_.jpg ,  briefs essentials men underwear\n",
            "B000C7KFVU__Clothing_Shoes_Jewelry_Men_Clothing_Shirts_Dress__.jpg ,  men office professional shirt sleeves suit wear\n",
            "B000C7JUIY__Clothing_Shoes_Jewelry_Women_Accessories_Gloves_M_.jpg ,  men stylish watch\n",
            "B000C9VQJS__Clothing_Shoes_Jewelry_Women_Shoes_Flats__.jpg ,  dress loafer men shoes\n",
            "B0009Q2ETU__Clothing_Shoes_Jewelry_Women_Clothing_Dresses_100_.jpg ,  dress fashion formal office outfit shoes synthetic women\n",
            "B0009RG94K__Clothing_Shoes_Jewelry_Costumes_Accessories_Kids__.jpg ,  men watch wrist\n",
            "B0009R91GI__Clothing_Shoes_Jewelry_Women_Clothing_Lingerie_Sl_.jpg ,  bra essentials lingerie underwear women\n",
            "B0009RLR2Y__Clothing_Shoes_Jewelry_Boys_Shoes_Oxfords__.jpg ,  leather sandals stylish women\n",
            "B0009RMJ8K__Clothing_Shoes_Jewelry_Men_Clothing_Underwear_Box_.jpg ,  clothing men shorts\n",
            "B0009RSYTS__Clothing_Shoes_Jewelry_Girls_Shoes_Sandals_100_Sa_.jpg ,  leather sandals stylish women\n",
            "B0009STC1G__Clothing_Shoes_Jewelry_Men_Watches_Wrist_Watches__.jpg ,  fashion men outfit safety unifrom work\n",
            "B0009SU9R2__Clothing_Shoes_Jewelry_Novelty_More_Clothing_Nove_.jpg ,  men rough shirt sleeveless summer tshirt wear\n",
            "B0009UUN1M__Clothing_Shoes_Jewelry_Women_Watches_Wrist_Watche_.jpg ,  chain men stylish watch wear\n",
            "B0009V2F58__Clothing_Shoes_Jewelry_Men_Shoes_Outdoor_Hiking_T_.jpg ,  fashion laces leather men shoes winter with working\n",
            "B0009V9LR8__Clothing_Shoes_Jewelry_Women__.jpg ,  bands dial leather mechanical men metal watch wrist\n",
            "B0009VC454__Clothing_Shoes_Jewelry_Men_Shoes_Fashion_Sneakers_.jpg ,  men running shoes sneakers sports\n",
            "B0009VC63O__Clothing_Shoes_Jewelry_Men_Shoes_Loafers_Slip_Ons_.jpg ,  men office professional shoes wear\n",
            "B0009VGMHK__Clothing_Shoes_Jewelry_Women_Shoes_Boots_Mid_Calf_.jpg ,  fashion men shoes slippers\n",
            "B0009VS8HC__Clothing_Shoes_Jewelry_Men_Accessories_Ties_Cumme_.jpg ,  clothing men suit tie ties\n",
            "B0009W6FMG__Clothing_Shoes_Jewelry_Women_Accessories_Wallets__.jpg ,  case cash clip compact holder men money wallet with women zipper\n",
            "B0009WAYOG__Clothing_Shoes_Jewelry_Men_Shoes_Fashion_Sneakers_.jpg ,  gym men running shoes sports\n",
            "B0009WFZZO__Clothing_Shoes_Jewelry_Men_Shoes__.jpg ,  gym joggers men running shoes wear\n",
            "B0009WFZ18__Clothing_Shoes_Jewelry_Men_Shoes__.jpg ,  comfortable hiking men shoes sneakers wear winter\n",
            "B0009WG1CA__Clothing_Shoes_Jewelry_Men_Shoes_Outdoor_Hiking_T_.jpg ,  gym joggers men running shoes wear\n",
            "B0009WG5DU__Clothing_Shoes_Jewelry_Women_Shoes_Boots__.jpg ,  gripped hiking leather men outdoor shoes\n",
            "B0009WH0UW__Clothing_Shoes_Jewelry_Shoe_Jewelry_Watch_Accesso_.jpg ,  leather sandals stylish women\n",
            "B0009WIKZG__Clothing_Shoes_Jewelry_Men_Shoes_Loafers_Slip_Ons_.jpg ,  dress men shoes tumb\n",
            "B0009WMIMW__Clothing_Shoes_Jewelry_Luggage_Travel_Gear_Briefc_.jpg ,  jewelry necklace safe wallet women\n",
            "B0009WNT98__Clothing_Shoes_Jewelry_Men_Shoes_Sandals_100_Leat_.jpg ,  leather sandals stylish women\n",
            "B0009WQBU2__Clothing_Shoes_Jewelry_Men_Shoes_Oxfords_100_Leat_.jpg ,  men office outdoor shoes wear\n",
            "B0009WXUB0__Clothing_Shoes_Jewelry_Men_Watches_Wrist_Watches__.jpg ,  chain men style watch watches wear wrist\n",
            "B0009WXT5W__Clothing_Shoes_Jewelry_Women_Watches_Quality_Japa_.jpg ,  band mechincal metal stylish watch women wrist\n",
            "B0009WXUKQ__Clothing_Shoes_Jewelry_Men_Watches_Wrist_Watches__.jpg ,  men sports watch wear wrist\n",
            "B0009WYC44__Clothing_Shoes_Jewelry_Men_Shoes_Athletic_Team_Sp_.jpg ,  men running shoes sneakers sports\n",
            "B0009WZ0PO__Clothing_Shoes_Jewelry_Women_Shoes_Slippers_100_M_.jpg ,  clothing dress men shoes\n",
            "B0009WYXR0__Clothing_Shoes_Jewelry_Women_Shoes_Flats_100_Leat_.jpg ,  dress fashion formal office pumpy shoes synthetic women\n",
            "B0009X0RQA__Clothing_Shoes_Jewelry_Men_Watches_Wrist_Watches__.jpg ,  men outdoor outfit sports wear winter women\n",
            "B0009WYZ6E__Clothing_Shoes_Jewelry_Men_Shoes_Loafers_Slip_Ons_.jpg ,  comfortable flat leather mules plain shoe shoes stylish winter women\n",
            "B0009WZPKO__Clothing_Shoes_Jewelry_Women_Shoes_Sandals_Flip_F_.jpg ,  fashion men sandal shoes slippers sneakers\n",
            "B0009X56T8__Clothing_Shoes_Jewelry_Men_Jewelry_Rings__.jpg ,  gemstone gift jewelry ring silver stylish stylishs wedding women\n",
            "B0009X5EL8__Clothing_Shoes_Jewelry_Women_Handbags_Wallets_Top_.jpg ,  bag men pouch schoolbag sturdy travel utility women\n",
            "B0009XBYO4__Clothing_Shoes_Jewelry_Baby__.jpg ,  fashion jewelry locket men neck women\n",
            "B0009XKOOK__Clothing_Shoes_Jewelry_Boys_Shoes_Boots__.jpg ,  leather men of office shoes wear\n",
            "B0009XKHA6__Clothing_Shoes_Jewelry_Girls_Shoes_Athletic_Dance_.jpg ,  comfortable flat leather mules plain shoe shoes stylish winter women\n",
            "B0009Y7NGQ__Clothing_Shoes_Jewelry_Women_Shoes_Pumps_100_Leat_.jpg ,  open party sandals shoes wear women\n",
            "B0009YFCZ0__Clothing_Shoes_Jewelry_Men_Accessories_Ties_Cumme_.jpg ,  dress fashion formal office pumpy shoes synthetic women\n",
            "B0009YU822__Clothing_Shoes_Jewelry_Baby_Baby_Girls_Shoes_Athl_.jpg ,  collection fashion footwear galoshoes leather long men shoes snow winter\n",
            "B0009YWDPC__Clothing_Shoes_Jewelry_Shoe_Jewelry_Watch_Accesso_.jpg ,  fashion jewelry men ring silver\n",
            "B0009ZF0RE__Clothing_Shoes_Jewelry_Women_Clothing_Coats_Jacke_.jpg ,  clothing dress men shoes\n",
            "B000A0A046__Clothing_Shoes_Jewelry_Men_Accessories_Gloves_Mit_.jpg ,  clothing full men routine shirt sleeves use\n",
            "B0009ZFHNG__Clothing_Shoes_Jewelry_Women_Shoes_Mules_Clogs_10_.jpg ,  comfortable flat leather mules plain shoe shoes stylish winter women\n",
            "B000A09ZYC__Clothing_Shoes_Jewelry_Men_Accessories_Gloves_Mit_.jpg ,  clothing fashion men outfit winter\n",
            "B000A06ZEA__Clothing_Shoes_Jewelry_Men_Watches_Wrist_Watches__.jpg ,  belt men style watch wrist\n",
            "B000A0EYR0__Clothing_Shoes_Jewelry_Girls_Shoes_Sneakers__.jpg ,  men running shoes sneakers sports\n",
            "B000A0CNIM__Clothing_Shoes_Jewelry_Men_Accessories_Gloves_Mit_.jpg ,  clothing fashion infant knee shorts sports summer\n",
            "B000A0FPV4__Clothing_Shoes_Jewelry_Men_Jewelry_Wedding_Rings__.jpg ,  jewelry men ring stylish wedding\n",
            "B000A0LRCK__Clothing_Shoes_Jewelry_Girls_Clothing_Socks_Tight_.jpg ,  men outfit safety shirt uniform work\n",
            "B000A0Q6GC__Clothing_Shoes_Jewelry_Costumes_Accessories_Men_C_.jpg ,  clothing costume dress men outfit outfit women\n",
            "B000A1H9OY__Clothing_Shoes_Jewelry_Men_Shoes_Boots_Western__.jpg ,  cowboy leather men western\n",
            "B000A1IWXG__Clothing_Shoes_Jewelry_Men_Shoes_Boots_Western_Le_.jpg ,  comfortable fo men shoes sport travelling wear winter\n",
            "B000A1KAQ8__Clothing_Shoes_Jewelry_Men_Shoes_Boots_Motorcycle_.jpg ,  cowboy leather men western\n",
            "B000A2B66U__Clothing_Shoes_Jewelry_Women_Shoes_Mules_Clogs_10_.jpg ,  office shoes wear women\n",
            "B000A2AYRC__Clothing_Shoes_Jewelry_Women_Shoes_Mules_Clogs_10_.jpg ,  leather loffers men shoes\n",
            "B000A2K61Q__Clothing_Shoes_Jewelry_Men_Clothing_Jeans_100_Cot_.jpg ,  daily party pent wear women\n",
            "B000A2KCPG__Clothing_Shoes_Jewelry_Men_Uniforms_Work_Safety_C_.jpg ,  factory men outfit safety shirt shorts uniform\n",
            "B000A32FBE__Clothing_Shoes_Jewelry_Women_Shoes_Fashion_Sneake_.jpg ,  men shoes sports\n",
            "B000A310H4__Clothing_Shoes_Jewelry_Women_Uniforms_Work_Safety_.jpg ,  factory high leather men safety shoes uniform work\n",
            "B000A2RKBK__Clothing_Shoes_Jewelry_Women_Shoes_Sandals_Platfo_.jpg ,  party sandals shoes wear women\n",
            "B000A32RAI__Clothing_Shoes_Jewelry_Women_Jewelry_Necklaces_Pe_.jpg ,  jewelry necklace traditional women\n",
            "B000A375YQ__Clothing_Shoes_Jewelry_Baby_Baby_Girls_Clothing_B_.jpg ,  clothing dress fashion infant size outfit stylish winter\n",
            "B000A38C1G__Clothing_Shoes_Jewelry_Men_Clothing_Jeans__.jpg ,  jeans men pants\n",
            "B000A3I3PQ__Clothing_Shoes_Jewelry_Men_Clothing_Jackets_Coats_.jpg ,  dress men outfit safety work\n",
            "B000A3MM1M__Clothing_Shoes_Jewelry_Women_Jewelry_Rings_Statem_.jpg ,  jewelry necklace pendent silver silverchain stylish women\n",
            "B000A3UQ3I__Clothing_Shoes_Jewelry_Women_Watches_Wrist_Watche_.jpg ,  handy men office watch watches wrist\n",
            "B000A4T01Q__Clothing_Shoes_Jewelry_Men_Clothing_Jeans_100_Cot_.jpg ,  clothing dress men safety work\n",
            "B000A6V0YE__Clothing_Shoes_Jewelry_Women_Accessories_Wallets__.jpg ,  case cash clip compact holder men money wallet zipper\n",
            "B000A6XS80__Clothing_Shoes_Jewelry_Women_Shoes_Outdoor_Snow_B_.jpg ,  boots leather long outfit snowfall women\n",
            "B000A6XG82__Clothing_Shoes_Jewelry_Women_Clothing_Made_in_the_.jpg ,  factory men outfit safety uniform unifrom women work\n",
            "B000A6XV0K__Clothing_Shoes_Jewelry_Women_Shoes_Boots_leather__.jpg ,  high outdoor wear winter women\n",
            "B000A7ZQRA__Clothing_Shoes_Jewelry_Boys_Clothing_Shorts_65_Po_.jpg ,  clothes clothing men outfit shorts summer trouser\n",
            "B000A83T6O__Clothing_Shoes_Jewelry_Costumes_Accessories_Men_C_.jpg ,  clothing costume men outfit safety work\n",
            "B000A81M4A__Clothing_Shoes_Jewelry_Women_Shoes_Pumps_100_Manm_.jpg ,  flat party shoes wear women\n",
            "B000A8BSN0__Clothing_Shoes_Jewelry_Men_Watches_Wrist_Watches__.jpg ,  men sports watch wear wrist\n",
            "B000AAS2XC__Clothing_Shoes_Jewelry_Costumes_Accessories_Women_.jpg ,  cloths party suit wear women\n",
            "B000ACAA6M__Clothing_Shoes_Jewelry_Women_Shoes_Pumps_100_Leat_.jpg ,  dress loafer men shoes\n",
            "B000AC45AY__Clothing_Shoes_Jewelry_Men_Accessories_Earmuffs__.jpg ,  gloves hand-fits leather men mitten short\n",
            "B000ACDJBU__Clothing_Shoes_Jewelry_Women_Shoes_Flats__.jpg ,  comfortable fo leather men shoes sneakers wear winter\n",
            "B000ACQR2S__Clothing_Shoes_Jewelry_Women_Clothing_Socks_Hosie_.jpg ,  fashion men shoes sports\n",
            "B000AD1KIS__Clothing_Shoes_Jewelry_Men_Watches_Wrist_Watches__.jpg ,  men office professional shoes wear\n",
            "B000AD6HQS__Clothing_Shoes_Jewelry_Women_Shoes_Boots_Over_the_.jpg ,  high outdoor wear winter women\n",
            "B000AE9QEM__Clothing_Shoes_Jewelry_Novelty_More_Clothing_Nove_.jpg ,  jeans men pants\n",
            "B000AI2UT6__Clothing_Shoes_Jewelry_Women_Accessories_Wallets__.jpg ,  case cash clip compact holder men money wallet with women zipper\n",
            "B000AKVBC6__Clothing_Shoes_Jewelry_Men_Shoes_Athletic_Walking_.jpg ,  gym joggers men running shoes wear\n",
            "B000AKN83G__Clothing_Shoes_Jewelry_Women_Shoes__.jpg ,  fashion men sandal shoes sneakers\n",
            "B000AKX3PE__Clothing_Shoes_Jewelry_Men_Uniforms_Work_Safety_S_.jpg ,  fashion men office watch\n",
            "B000AKVBG2__Clothing_Shoes_Jewelry_Men_Shoes_Outdoor_Hiking_T_.jpg ,  men running shoes sports\n",
            "B000AKX2P0__Clothing_Shoes_Jewelry_Men_Uniforms_Work_Safety_S_.jpg ,  hitop hitop men sneaker sneakers\n",
            "B000AKVL6M__Clothing_Shoes_Jewelry_Men_Shoes_Boots_100_Leathe_.jpg ,  joggers men running shoes wear\n",
            "B000AK4DZS__Clothing_Shoes_Jewelry_Women_Microfiber_Imported__.jpg ,  bag bags carry makeup women\n",
            "B000AKZSWA__Clothing_Shoes_Jewelry_Men_Uniforms_Work_Safety_S_.jpg ,  high leathers outdoor shoes wear winter women\n",
            "B000AL1YQI__Clothing_Shoes_Jewelry_Men_Shoes_Boots_Motorcycle_.jpg ,  cowboy leather men western\n",
            "B000AL1IPK__Clothing_Shoes_Jewelry_Men_Uniforms_Work_Safety_S_.jpg ,  fashion men shoes sports\n",
            "B000AL9CUI__Clothing_Shoes_Jewelry_Luggage_Travel_Gear_Travel_.jpg ,  handbag purse wallet women\n",
            "B000ALMN40__Clothing_Shoes_Jewelry_Men_Accessories_Hats_Caps__.jpg ,  cap hats men outdoor protector sports sun travelling visor\n",
            "B000ARPN4G__Clothing_Shoes_Jewelry_Men_Shoes_Slippers__.jpg ,  flat outdoor party shoes wear winter women\n",
            "B000ARJ392__Clothing_Shoes_Jewelry_Men_Shoes_Loafers_Slip_Ons_.jpg ,  dress loafer men shoes\n",
            "B000ARTSA6__Clothing_Shoes_Jewelry_Women_Shoes_Pumps_100_Leat_.jpg ,  heel medium party sandals sandle shoes wear wedding women\n",
            "B000ATAG0K__Clothing_Shoes_Jewelry_Novelty_More_Clothing_Nove_.jpg ,  clothing men polo shirt style summer\n",
            "B000ATDU2Q__Clothing_Shoes_Jewelry_Women_Shoes_Boots_Mid_Calf_.jpg ,  boots leather rain women\n",
            "B000ATFS44__Clothing_Shoes_Jewelry_Women_Shoes_Boots_Mid_Calf_.jpg ,  casual home men slipper slippers wear\n",
            "B000AUMEK4__Clothing_Shoes_Jewelry_Luggage_Travel_Gear_Gym_Ba_.jpg ,  men office professional shoes wear\n",
            "B000AUX1BA__Clothing_Shoes_Jewelry_Women_Watches_Watch_Bands__.jpg ,  classic leather strips watch watches women\n",
            "B000AV0LKI__Clothing_Shoes_Jewelry_Men_Shoes_Oxfords__.jpg ,  dress fashion formal leather office pumpy shoes women\n",
            "B000AUXPB6__Clothing_Shoes_Jewelry_Men_Shoes_Oxfords__.jpg ,  comfortable fo men shoes sneakers sport wear winter\n",
            "B000AXJ7RY__Clothing_Shoes_Jewelry_Men_Shoes_Loafers_Slip_Ons_.jpg ,  dress men shoes tumb\n",
            "B000AXPUHK__Clothing_Shoes_Jewelry_Women_Jewelry_Bracelets_Te_.jpg ,  clothing fashion infant pants regular\n",
            "B000AXUQJC__Clothing_Shoes_Jewelry_Men_Watches_Wrist_Watches__.jpg ,  gear luggage men office side travel women\n",
            "B000AXZO0S__Clothing_Shoes_Jewelry_Women_Clothing_Lingerie_Sl_.jpg ,  clothing dress men outfit shirt summer\n",
            "B000AYW0KO__Clothing_Shoes_Jewelry_Women_Watches_Wrist_Watche_.jpg ,  men sports watch wear wrist\n",
            "B000AZ3DEU__Clothing_Shoes_Jewelry_Women_Shoes_Pumps_100_Leat_.jpg ,  dress fashion flat formal leather office shoes women\n",
            "B000AZ8KYS__Clothing_Shoes_Jewelry_Women_Jewelry_Necklaces_Pe_.jpg ,  jewelry necklace stylish wear women\n",
            "B000B11NXG__Clothing_Shoes_Jewelry_Women_Jewelry_Bracelets_Li_.jpg ,  bracelet decorated gemstones jewelry men silver with women\n",
            "B000B1HJ7A__Clothing_Shoes_Jewelry_Women_Shoes_Pumps_100_Croc_.jpg ,  fashion heels long office pumpies shoes short style women\n",
            "B000B234K0__Clothing_Shoes_Jewelry_Men_Shoes_Oxfords__.jpg ,  comfortable fo leather men shoes sneakers wear winter\n",
            "B000B2J940__Clothing_Shoes_Jewelry_Men_Shoes_Fashion_Sneakers_.jpg ,  men running shoes sneakers sports\n",
            "B000B2JLJS__Clothing_Shoes_Jewelry_Women_Contemporary_Designe_.jpg ,  fashion footwear galoshoes leather men shoes snow\n",
            "B000B2T148__Clothing_Shoes_Jewelry_Men_Shoes_Oxfords__.jpg ,  comfortable fo leather men shoes sneakers wear winter\n",
            "B000B2PE6M__Clothing_Shoes_Jewelry_Men_Shoes_Boots_Work_Safet_.jpg ,  gym joggers men running shoes wear\n",
            "B000B2MMDA__Clothing_Shoes_Jewelry_Women_Shoes_Loafers_Slip_O_.jpg ,  comfortable fo leather men shoes sneakers wear winter\n",
            "B000B2XPFO__Clothing_Shoes_Jewelry_Men_Shoes_Boots_Work_Safet_.jpg ,  gym joggers men running shoes wear\n",
            "B000B2XLPS__Clothing_Shoes_Jewelry_Women_Shoes_Pumps_100_Leat_.jpg ,  leather sandals stylish women\n",
            "B000B33IQE__Clothing_Shoes_Jewelry_Men_Shoes_Loafers_Slip_Ons_.jpg ,  hitop hitop hitop men sneaker sneakers\n",
            "B000B35RGS__Clothing_Shoes_Jewelry_Women_Shoes_Sandals_Platfo_.jpg ,  fashion jewelry locket men neck women\n",
            "B000B5GNZ0__Clothing_Shoes_Jewelry_Women_Jewelry_Bracelets_ST_.jpg ,  bracelet decorated designed jewelry men silver women\n",
            "B000B5GQKC__Clothing_Shoes_Jewelry_Women_Jewelry_Rings_Risk_F_.jpg ,  gemstone gift jewelry men ring silver stylish stylishs women\n",
            "B000B5HEBM__Clothing_Shoes_Jewelry_Men_Accessories_Hats_Caps__.jpg ,  fashion men office watch\n",
            "B000B5MFDY__Clothing_Shoes_Jewelry_Women_Jewelry_Necklaces_Ch_.jpg ,  outdoor party stylish wear women\n",
            "B000B61NCC__Clothing_Shoes_Jewelry_Women_Jewelry_Necklaces_Pe_.jpg ,  fashion men office watch\n",
            "B000B64C52__Clothing_Shoes_Jewelry_Men_Accessories_Hats_Caps__.jpg ,  caps casual door men out sports wear\n",
            "B000B67GZU__Clothing_Shoes_Jewelry_Men_Accessories_Hats_Caps__.jpg ,  caps casual door hat hats men out sports stylish wear\n",
            "B000B6A5HG__Clothing_Shoes_Jewelry_Men_Clothing_Fashion_Hoodi_.jpg ,  full jersey men outfit shirt sleeves warm winter\n",
            "B000B6JLYY__Clothing_Shoes_Jewelry_Men_Shoes_Athletic_Golf_10_.jpg ,  men running shoes sneakers sports\n",
            "B000B6JM2A__Clothing_Shoes_Jewelry_Men_Shoes_Athletic_Golf_10_.jpg ,  comfortable men shoes sneakers sport wear winter\n",
            "B000B6JCQQ__Clothing_Shoes_Jewelry_Women_Handbags_Wallets_Top_.jpg ,  bag gear luggage men side travel women\n",
            "B000B6LEMQ__Clothing_Shoes_Jewelry_Uniforms_Work_Safety_Cloth_.jpg ,  men outfit safety stylish uniform work\n",
            "B000B6SMB2__Clothing_Shoes_Jewelry_Men_Watches_Pocket_Watches_.jpg ,  fashion jewelry locket men neck women\n",
            "B000B6S0UU__Clothing_Shoes_Jewelry_Men_Jewelry_Bracelets_Link_.jpg ,  jewelry necklace pendent silver silverchain stylish women\n",
            "B000B7E8T6__Clothing_Shoes_Jewelry_Men_Accessories_Ties_Cumme_.jpg ,  clothing men suit tie ties\n",
            "B000B7CNJ8__Clothing_Shoes_Jewelry_Women_Shoes_Sandals_Platfo_.jpg ,  heels high party sandals wear women\n",
            "B000B7ESSC__Clothing_Shoes_Jewelry_Men_Accessories_Wallets_Ca_.jpg ,  men office professional shinny shoes stylish wear\n",
            "B000B7M5IM__Clothing_Shoes_Jewelry_Men_Shoes_Athletic_Fitness_.jpg ,  comfortable fo men shoes sneakers sport wear winter\n",
            "B000B7KYBW__Clothing_Shoes_Jewelry_Women_Clothing_Socks_Hosie_.jpg ,  lingerie socks stocking stockings women\n",
            "B000B7KCUU__Clothing_Shoes_Jewelry_Women_Jewelry_Bracelets_Li_.jpg ,  belt men pocket style\n",
            "B000B7OPIK__Clothing_Shoes_Jewelry_Men_Shoes_Athletic_Tennis__.jpg ,  comfortable fo men shoes sport travelling wear winter\n",
            "B000B7KAFW__Clothing_Shoes_Jewelry_Men_Clothing_Jackets_Coats_.jpg ,  button men of office shirt style wear\n",
            "B000B7QW9A__Clothing_Shoes_Jewelry_Men_Clothing_Jackets_Coats_.jpg ,  coat jacket jackets men rain warm winter\n",
            "B000B7RMD0__Clothing_Shoes_Jewelry_Men_Shoes_Slippers_cotton__.jpg ,  gym men running shoes sneakers wear\n",
            "B000B8AWTK__Clothing_Shoes_Jewelry_Men_Jewelry_Wedding_Rings__.jpg ,  men plain ring silver stylish wedding\n",
            "B000B8I9JA__Clothing_Shoes_Jewelry_Women_Shoes_Sandals_Slides_.jpg ,  comfortable fo leather men shoes sneakers wear winter\n",
            "B0007SZ4YW__Clothing_Shoes_Jewelry_Women_Shoes_Loafers_Slip_O_.jpg ,  dress loafer shoes women\n",
            "B0007T2IO0__Clothing_Shoes_Jewelry_Men_Shoes_Loafers_Slip_Ons_.jpg ,  dress men shoes\n",
            "B0007SZ4X8__Clothing_Shoes_Jewelry_Women_Shoes_Loafers_Slip_O_.jpg ,  comfortable leather men shoes sneakers wear winter\n",
            "B0007T128I__Clothing_Shoes_Jewelry_Men_Shoes_Slippers__.jpg ,  ballet dance shoes women\n",
            "B0007TC9AS__Clothing_Shoes_Jewelry_Luggage_Travel_Gear_Top_Gr_.jpg ,  bag men suitcase travel women\n",
            "B0007TBOX6__Clothing_Shoes_Jewelry_Men_Surf_Skate_Street_Shoe_.jpg ,  leather sandals stylish women\n",
            "B0007TJ8XY__Clothing_Shoes_Jewelry_Men_Accessories_Hats_Caps__.jpg ,  cap caps clothing gear men travelling\n",
            "B0007TL4OK__Clothing_Shoes_Jewelry_Men_Shoes_Boots_Leather__.jpg ,  men running shoes sneakers sports\n",
            "B0007TMOE4__Clothing_Shoes_Jewelry_Men_Shoes_Boots_Motorcycle_.jpg ,  fashion men shoes sneakers\n",
            "B0007TP63K__Clothing_Shoes_Jewelry_Men_Shoes_Fashion_Sneakers_.jpg ,  men running shoes sneakers sports\n",
            "B0007TS6VO__Clothing_Shoes_Jewelry_Men_Shoes_Outdoor_Hiking_T_.jpg ,  gym joggers men running shoes wear\n",
            "B0007U80BY__Clothing_Shoes_Jewelry_Women_Shoes_Sandals__Leath_.jpg ,  casual home men slipper slippers wear\n",
            "B0007VBRMW__Clothing_Shoes_Jewelry_Men_Jewelry_Rings__.jpg ,  necklace stylish wear women\n",
            "B0007VBQU0__Clothing_Shoes_Jewelry_Men_Jewelry_Cuff_Links_Cla_.jpg ,  cuff decorated fashion jewelry links men sleeves\n",
            "B0007VTTMM__Clothing_Shoes_Jewelry_Men_Clothing_Shirts_T_Shir_.jpg ,  men outfit sleeve summer tshirt wear women\n",
            "B0007W54NO__Clothing_Shoes_Jewelry_Women_Clothing_Pants_Casua_.jpg ,  clothing dress fashion pants women\n",
            "B0007W871K__Clothing_Shoes_Jewelry_Women_Shoes_Mules_Clogs_Sy_.jpg ,  gym men running shoes sneakers wear\n",
            "B0007WM36K__Clothing_Shoes_Jewelry_Women_Watches_Watch_Bands__.jpg ,  classic fabric strips watch watches women\n",
            "B0007WM356__Clothing_Shoes_Jewelry_Women_Watches_Watch_Bands__.jpg ,  classic classic leather strips watch watches women\n",
            "B0007WS6BG__Clothing_Shoes_Jewelry_Men_Uniforms_Work_Safety_S_.jpg ,  comfortable hiking men shoes sneakers uniform wear winter\n",
            "B0007WSOJK__Clothing_Shoes_Jewelry_Women_Watches_Watch_Bands__.jpg ,  classic fabric strips watch watches women\n",
            "B0007WWSH4__Clothing_Shoes_Jewelry_Women_Shoes_Sandals_Slides_.jpg ,  heels party sandals wear women\n",
            "B0007WZKTM__Clothing_Shoes_Jewelry_Men_Watches_Wrist_Watches__.jpg ,  box jewelry men safe women\n",
            "B0007XCKSK__Clothing_Shoes_Jewelry_Men_Jewelry_Rings_Premium__.jpg ,  diamond engagement iced jewelry men plain ring silver\n",
            "B0007XRK0I__Clothing_Shoes_Jewelry_Women_Shoes_Flats_100_Manm_.jpg ,  gym joggers men running shoes wear\n",
            "B0007XXMZK__Clothing_Shoes_Jewelry_Women_Shoes_Slippers_100_M_.jpg ,  home men shoes slippers stylish wear\n",
            "B0007Y9TO2__Clothing_Shoes_Jewelry_Women_Shoes_Boots_Mid_Calf_.jpg ,  fashion footwear galoshoes leather men shoes snow\n",
            "B0007YT50K__Clothing_Shoes_Jewelry_Girls_Jewelry_Necklaces_Pe_.jpg ,  jewelry necklace pendant silver stylish women\n",
            "B0007YSIEE__Clothing_Shoes_Jewelry_Men_Accessories_Belts_100__.jpg ,  belt classic men strips watch wrist\n",
            "B0007Z4LP8__Clothing_Shoes_Jewelry_Novelty_More_Clothing_Nove_.jpg ,  clothing cold ear earmuffs men\n",
            "B0007ZGVUQ__Clothing_Shoes_Jewelry_Girls_Shoes_Sneakers_100_L_.jpg ,  men running shoes sports\n",
            "B0007ZR5ZG__Clothing_Shoes_Jewelry_Women_Watches_Wrist_Watche_.jpg ,  box men safe watch wrist\n",
            "B00080BTMA__Clothing_Shoes_Jewelry_Men_Jewelry_Rings_Premium__.jpg ,  diamond engagement iced jewelry men plain ring silver\n",
            "B00080XS38__Clothing_Shoes_Jewelry_Men_Shoes_Fashion_Sneakers_.jpg ,  hitop hitop hitop men sneaker sneakers\n",
            "B00080Y0KI__Clothing_Shoes_Jewelry_Baby_Baby_Girls_Shoes_Snea_.jpg ,  men sneaker sneakers\n",
            "B000811GDQ__Clothing_Shoes_Jewelry_Novelty_More_Clothing_Nove_.jpg ,  cozy outdoor outfit winter\n",
            "B000815KE2__Clothing_Shoes_Jewelry_Women_Contemporary_Designe_.jpg ,  fashion glasses summer sun women\n",
            "B000816LA4__Clothing_Shoes_Jewelry_Women_Clothing_Socks_Hosie_.jpg ,  lingerie socks stocking stockings women\n",
            "B000815JSY__Clothing_Shoes_Jewelry_Men_Shoes_Athletic_Team_Sp_.jpg ,  gym men running shoes sports\n",
            "B000815GX2__Clothing_Shoes_Jewelry_Men_Shoes_Athletic_Team_Sp_.jpg ,  gym men running shoes sneakers wear\n",
            "B00081NCGA__Clothing_Shoes_Jewelry_Women_Jewelry_Necklaces_Pe_.jpg ,  bracelet decorated gemstones jewelry silver sterling women\n",
            "B000853K8Q__Clothing_Shoes_Jewelry_Men_Clothing_Shirts_Polos__.jpg ,  clothing men polo shirt style summer\n",
            "B00086HU36__Clothing_Shoes_Jewelry_Women_Shoes_Pumps__.jpg ,  bag men pouch schoolbag sturdy travel utility women\n",
            "B00086HU5O__Clothing_Shoes_Jewelry_Women_Shoes_Sandals_100_Sa_.jpg ,  open party sandals shoes wear women\n",
            "B00086HQH6__Clothing_Shoes_Jewelry_Men_Shoes_Athletic_Running_.jpg ,  gym men running shoes sneakers wear\n",
            "B0008DJQFO__Clothing_Shoes_Jewelry_Women_Shoes_Fashion_Sneake_.jpg ,  sneakers sports tennis women\n",
            "B0008E8IRK__Clothing_Shoes_Jewelry_Shoe_Jewelry_Watch_Accesso_.jpg ,  fashion mechanical men metal style stylish watch\n",
            "B0008EO6P8__Clothing_Shoes_Jewelry_Women_Clothing_Jeans_Cotto_.jpg ,  jeans men pants\n",
            "B0008F5KU2__Clothing_Shoes_Jewelry_Baby_Baby_Boys_Shoes_100_L_.jpg ,  gym men running shoes sneakers wear\n",
            "B0008JHBKU__Clothing_Shoes_Jewelry_Women_Jewelry_Necklaces_Pe_.jpg ,  men outdoor outfit sports wear winter women\n",
            "B00091PKBO__Clothing_Shoes_Jewelry_Women_Shoes_Sandals_100_Va_.jpg ,  heels party sandals wear women\n",
            "B00091PJLK__Clothing_Shoes_Jewelry_Women_Shoes_Pumps_100_Glov_.jpg ,  dress fashion flat formal leather office shoes women\n",
            "B00091SQBA__Clothing_Shoes_Jewelry_Men_Clothing_Jeans__.jpg ,  jeans men pants\n",
            "B00092RB38__Clothing_Shoes_Jewelry_Men_Shoes_Oxfords_100_leat_.jpg ,  men office outdoor shoes wear\n",
            "B00092R6M4__Clothing_Shoes_Jewelry_Men_Accessories_Wallets_Ca_.jpg ,  case cash clip compact holder men money wallet with women zipper\n",
            "B0009350WQ__Clothing_Shoes_Jewelry_Men_Clothing_Suits_Sport_C_.jpg ,  button men of office shirt style wear\n",
            "B000935KRG__Clothing_Shoes_Jewelry_Men_Clothing__.jpg ,  coat collection fashion full hood jacket men outfit sleeves winter\n",
            "B00093G5NY__Clothing_Shoes_Jewelry_Men_Clothing_Shirts_Dress__.jpg ,  button men of office shirt style wear\n",
            "B00093GXCM__Clothing_Shoes_Jewelry_Women_Shoes_Sandals_Platfo_.jpg ,  fashion leather men office shoes\n",
            "B000960U7S__Clothing_Shoes_Jewelry_Women_Clothing_Active_Acti_.jpg ,  bra essentials lingerie underwear women\n",
            "B000960K5U__Clothing_Shoes_Jewelry_Women_Shoes_Boots_Ankle_Bo_.jpg ,  comfortable hiking men shoes sneakers wear winter\n",
            "B00097E7X0__Clothing_Shoes_Jewelry_Costumes_Accessories_Kids__.jpg ,  clothing men polo shirt style summer\n",
            "B000980RUQ__Clothing_Shoes_Jewelry_Men_Watches_Wrist_Watches__.jpg ,  mechanical men metal stylish watch\n",
            "B00098PQ2U__Clothing_Shoes_Jewelry_Women_Clothing_Lingerie_Sl_.jpg ,  bra essentials lingerie underwear women\n",
            "B00099CUHI__Clothing_Shoes_Jewelry_Women_Jewelry_Bracelets_Ch_.jpg ,  bands bracelet decorated jewelry men silver watch women\n",
            "B00099E2T2__Clothing_Shoes_Jewelry_Men_Shoes_Athletic_Running_.jpg ,  gym men running shoes sports\n",
            "B00099E7B0__Clothing_Shoes_Jewelry_Men_Shoes_Fashion_Sneakers_.jpg ,  men sneaker sneakers\n",
            "B0009A280Q__Clothing_Shoes_Jewelry_Women_Shoes_Sandals_Platfo_.jpg ,  engagement gemstone jewelry plain ring silver statem women\n",
            "B0009A33XW__Clothing_Shoes_Jewelry_Women_Clothing_Active_Acti_.jpg ,  bra essentials lingerie underwear women\n",
            "B0009AIYUE__Clothing_Shoes_Jewelry_Men_Shoes_Loafers_Slip_Ons_.jpg ,  leather men of office shoes wear\n",
            "B0009ALW8U__Clothing_Shoes_Jewelry_Novelty_More_Clothing_Nove_.jpg ,  clothing men suit tie ties\n",
            "B0009AFBO6__Clothing_Shoes_Jewelry_Men_Clothing_Swim_Trunks__.jpg ,  briefs essentials men underwear\n",
            "B0009AVS8E__Clothing_Shoes_Jewelry_Men_Shoes_Fashion_Sneakers_.jpg ,  men office outdoor shoes wear\n",
            "B0009AZU0G__Clothing_Shoes_Jewelry_Men_Shoes_Sandals__.jpg ,  leather sandals stylish women\n",
            "B0009BFTJW__Clothing_Shoes_Jewelry_Men_Shoes__.jpg ,  dress loafer men shoes\n",
            "B0009BE8KI__Clothing_Shoes_Jewelry_Men_Shoes_Loafers_Slip_Ons_.jpg ,  comfortable fo leather men shoes sneakers wear winter\n",
            "B0009BIZH0__Clothing_Shoes_Jewelry_Luggage_Travel_Gear_Travel_.jpg ,  case cash clip compact holder men money wallet\n",
            "B0009BTKLU__Clothing_Shoes_Jewelry_Women_Shoes_Mules_Clogs__.jpg ,  dress loafer men shoes\n",
            "B0009CHHUK__Clothing_Shoes_Jewelry_Men_Shoes_Oxfords__.jpg ,  comfortable fo men shoes sport travelling wear winter\n",
            "B0009BTLTQ__Clothing_Shoes_Jewelry_Women_Shoes_Sandals_Slides_.jpg ,  comfortable fo leather men shoes sneakers wear winter\n",
            "B0009C7B4W__Clothing_Shoes_Jewelry_Women_Shoes_Pumps_100_Sati_.jpg ,  leather sandals stylish women\n",
            "B0009E3GS0__Clothing_Shoes_Jewelry_Men_Shoes_Loafers_Slip_Ons_.jpg ,  men office professional shoes wear\n",
            "B0009E3T82__Clothing_Shoes_Jewelry_Shoe_Jewelry_Watch_Accesso_.jpg ,  bands dial leather mechanical men metal watch wrist\n",
            "B0009EFPRU__Clothing_Shoes_Jewelry_Women_Shoes_Sandals_Flats__.jpg ,  men outdoor shoes sports wear\n",
            "B0009EQWDQ__Clothing_Shoes_Jewelry_Men_Shoes_Outdoor_Hunting__.jpg ,  factory men outfit safety shoes uniform work\n",
            "B0009EQVEG__Clothing_Shoes_Jewelry_Men__.jpg ,  men office outdoor shoes wear\n",
            "B0009EYJKO__Clothing_Shoes_Jewelry_Men_Jewelry_Bracelets_Link_.jpg ,  chain fashion jewelry locket men neck women\n",
            "B0009EYP0I__Clothing_Shoes_Jewelry_Men_Shoes_Fashion_Sneakers_.jpg ,  comfortable men shoes sneakers wear winter\n",
            "B0009G5H76__Clothing_Shoes_Jewelry_Men_Clothing_Active_Active_.jpg ,  clothing fashion knee men shorts sports summer\n",
            "B0009G6BN0__Clothing_Shoes_Jewelry_Men_Clothing_Shirts_T_Shir_.jpg ,  clothing full men routine shirt sleeves use\n",
            "B0009G68T2__Clothing_Shoes_Jewelry_Novelty_More_Clothing_Nove_.jpg ,  clothing full men routine shirt sleeves use\n",
            "B0009G67QQ__Clothing_Shoes_Jewelry_Novelty_More_Clothing_Nove_.jpg ,  clothing men polo shirt style summer\n",
            "B0009G6BIA__Clothing_Shoes_Jewelry_Men_Clothing_Shirts_T_Shir_.jpg ,  clothing full men routine shirt sleeves use\n",
            "B0009G8DDG__Clothing_Shoes_Jewelry_Men_Clothing_Shirts_Tank_T_.jpg ,  clothing men shirt summer\n",
            "B0009G66I0__Clothing_Shoes_Jewelry_Men_Clothing_Active_Active_.jpg ,  full jersey men outfit shirt sleeves warm winter\n",
            "B0009GB6CG__Clothing_Shoes_Jewelry_Novelty_More_Clothing_Nove_.jpg ,  men outfit sleeve summer tshirt wear\n",
            "B0009G9X44__Clothing_Shoes_Jewelry_Men_Clothing_Shirts_T_Shir_.jpg ,  men outfit sleeve summer tshirt wear\n",
            "B0009GAJB0__Clothing_Shoes_Jewelry_Men_100_Cotton_Imported_10_.jpg ,  clothing men polo shirt style summer\n",
            "B0009GBD8S__Clothing_Shoes_Jewelry_Men_Clothing_Shirts_Polos__.jpg ,  clothing men polo shirt style summer\n",
            "B0009GBAUY__Clothing_Shoes_Jewelry_Boys_Clothing_Tops_Tees_Po_.jpg ,  men outfit pants safety uniform work\n",
            "B0009GELAA__Clothing_Shoes_Jewelry_Men_Clothing_Active_Active_.jpg ,  clothing men polo shirt style summer\n",
            "B0009GDVM4__Clothing_Shoes_Jewelry_Women_Clothing_Lingerie_Sl_.jpg ,  bra essentials lingerie underwear women\n",
            "B0009GD3HC__Clothing_Shoes_Jewelry_Women_Accessories_Hats_Cap_.jpg ,  clothing full men routine shirt sleeves use\n",
            "B0009GGV26__Clothing_Shoes_Jewelry_Women_Clothing_Fashion_Hoo_.jpg ,  clothing fashion knee men shorts sports summer\n",
            "B0009GH012__Clothing_Shoes_Jewelry_Women_Jewelry_Necklaces_Pe_.jpg ,  jewelry necklace pendant silver stylish women\n",
            "B0009H0PQ8__Clothing_Shoes_Jewelry_Men_Watches_Wrist_Watches__.jpg ,  men sports watch wear wrist\n",
            "B0009I6I2M__Clothing_Shoes_Jewelry_Men_Jewelry_Cuff_Links_Mad_.jpg ,  box men safe watch wrist\n",
            "B0009IK46S__Clothing_Shoes_Jewelry_Men_Shoes_Loafers_Slip_Ons_.jpg ,  dress loafer men shoes\n",
            "B0009IPMVA__Clothing_Shoes_Jewelry_Women_Shoes_Sandals_Platfo_.jpg ,  casual home men slipper slippers wear\n",
            "B0009J1H40__Clothing_Shoes_Jewelry_Men_Shoes_Oxfords_100_Fine_.jpg ,  dress men shoes tumb\n",
            "B0009JFY7G__Clothing_Shoes_Jewelry_Women_Shoes_Pumps_100_Twee_.jpg ,  bag gear luggage men office side travel women\n",
            "B0009JENOQ__Clothing_Shoes_Jewelry_Women_Shoes_100_Leather_Ru_.jpg ,  flat home slim slipper slippers wear women\n",
            "B0009JG09W__Clothing_Shoes_Jewelry_Women_Shoes_Pumps_100_Manm_.jpg ,  dress loafer men shoes\n",
            "B0009JHWFS__Clothing_Shoes_Jewelry_Girls_Jewelry_Bracelets__.jpg ,  classic men outdoor stylish wrist\n",
            "B0009JQYL6__Clothing_Shoes_Jewelry_Women_Shoes_Sandals_Platfo_.jpg ,  heel open party sandal sandle stylish wear wedding women\n",
            "B0009JRWDK__Clothing_Shoes_Jewelry_Men_Clothing_Active_Active_.jpg ,  clothing full men routine shirt sleeves use\n",
            "B0009K1XSO__Clothing_Shoes_Jewelry_Women_Jewelry_Necklaces_Pe_.jpg ,  jewelry necklace silver stylish women\n",
            "B0009K480Y__Clothing_Shoes_Jewelry_Women_Shoes_100_Leather_Ru_.jpg ,  heels party sandals wear women\n",
            "B0009KN2BU__Clothing_Shoes_Jewelry_Men_Clothing_Jackets_Coats_.jpg ,  factory men outfit safety shirt uniform work\n",
            "B0009KO93U__Clothing_Shoes_Jewelry_Women_Clothing_Sweaters_Pu_.jpg ,  full jersey outfit shirt sleeves warm winter women\n",
            "B0009KXWL0__Clothing_Shoes_Jewelry_Men_Shoes_Loafers_Slip_Ons_.jpg ,  dress loafer men shoes\n",
            "B0009M8NY4__Clothing_Shoes_Jewelry_Women_Clothing_Lingerie_Sl_.jpg ,  bra essentials lingerie underwear women\n",
            "B0009M95CI__Clothing_Shoes_Jewelry_Men_Shoes_Boots_Western_10_.jpg ,  high leathers outdoor shoes wear winter women\n",
            "B0009MDGZK__Clothing_Shoes_Jewelry_Men_Clothing_Shirts_Polos__.jpg ,  clothing men polo shirt style summer\n",
            "B0009MGZQ2__Clothing_Shoes_Jewelry_Women_Clothing_Tops_Tees_B_.jpg ,  clothing men polo shirt style summer\n",
            "B0009MH0ZM__Clothing_Shoes_Jewelry_Men_Clothing_Active_Active_.jpg ,  clothing men polo shirt style summer\n",
            "B0009MH0H0__Clothing_Shoes_Jewelry_Men_Clothing_Shirts_Polos__.jpg ,  half loose men shirt short sleeves wear\n",
            "B0009MIFEM__Clothing_Shoes_Jewelry_Novelty_More_Clothing_Nove_.jpg ,  men outfit shirt summer tshirt wear\n",
            "B0009MKN88__Clothing_Shoes_Jewelry_Men_Clothing_Jackets_Coats_.jpg ,  coat jacket jackets men rain warm winter\n",
            "B0009MZTDW__Clothing_Shoes_Jewelry_Women_Clothing_Active_Athl_.jpg ,  clothing men outfit shirt summer\n",
            "B0009N31K4__Clothing_Shoes_Jewelry_Women_Watches_Wrist_Watche_.jpg ,  classic dress men metal silver\n",
            "B0009NV0AW__Clothing_Shoes_Jewelry_Women_Shoes_Flats_Leather__.jpg ,  leather men of shoes wear\n",
            "B0009O6O5W__Clothing_Shoes_Jewelry_Men_Shoes_Oxfords_Syntheti_.jpg ,  dress loafer men shoes\n",
            "B0009O87U2__Clothing_Shoes_Jewelry_Men_Shoes_Loafers_Slip_Ons_.jpg ,  comfortable fo leather men shoes sneakers wear winter\n",
            "B0009OGFMO__Clothing_Shoes_Jewelry_Women_Shoes_Outdoor_Climbi_.jpg ,  men party shoes sports wear\n",
            "B0009OP1OW__Clothing_Shoes_Jewelry_Shoe_Jewelry_Watch_Accesso_.jpg ,  box men safe watch wrist\n",
            "B0009P666S__Clothing_Shoes_Jewelry_Men_Watches_Wrist_Watches__.jpg ,  box men safe watch wrist\n",
            "B0009PAMKY__Clothing_Shoes_Jewelry_Women_Handbags_Wallets_Cro_.jpg ,  contemporary flat leather men pocket stylish wear\n",
            "B0009PAMFO__Clothing_Shoes_Jewelry_Women_Handbags_Wallets_Clu_.jpg ,  case cash clip compact holder men money wallet zipper\n",
            "B0009PD88C__Clothing_Shoes_Jewelry_Girls_Clothing_Jeans_Cotto_.jpg ,  jeans men pants\n",
            "B0009PJM8C__Clothing_Shoes_Jewelry_Women_Jewelry_Rings_Free_E_.jpg ,  gemstone gift jewelry men ring silver stylish wedding women\n",
            "B0009PK448__Clothing_Shoes_Jewelry_Women_Shoes_Sandals_Platfo_.jpg ,  flat outdoor party shoes wear winter women\n",
            "B0002T3O9I__Clothing_Shoes_Jewelry_Men_Accessories_Ties_Cumme_.jpg ,  classic dress formal men tie tuxedo\n",
            "B0002T6AD0__Clothing_Shoes_Jewelry_Women_Accessories_Gloves_M_.jpg ,  gloves hand-fits leather men mitten short\n",
            "B0002T6AJO__Clothing_Shoes_Jewelry_Women_Accessories_Gloves_M_.jpg ,  gloves hand-fits leather men mitten short\n",
            "B0002T6EMM__Clothing_Shoes_Jewelry_Men_Accessories_Gloves_Mit_.jpg ,  gloves hand-fits leather men mitten short\n",
            "B0002TBQP2__Clothing_Shoes_Jewelry_Women_Maternity_Tights_Hos_.jpg ,  lingerie lingerie socks stocking stockings women\n",
            "B0002THUQG__Clothing_Shoes_Jewelry_Women_Clothing_Socks_Hosie_.jpg ,  lingerie socks stocking stockings women\n",
            "B0002THY0S__Clothing_Shoes_Jewelry_Women_Clothing_Socks_Hosie_.jpg ,  cotton men running shoes socks\n",
            "B0002TOWIU__Clothing_Shoes_Jewelry_Men_Clothing_Socks_Casual__.jpg ,  cotton men shoes socks\n",
            "B0002TOXDE__Clothing_Shoes_Jewelry_Men_Clothing_Socks_Casual__.jpg ,  ankle men socks sports tight wear women\n",
            "B0002TOSWK__Clothing_Shoes_Jewelry_Men_Clothing_Socks_Dress_T_.jpg ,  clothing cotton men regular socks\n",
            "B0002TOYSI__Clothing_Shoes_Jewelry_Men_Clothing_Active_Athlet_.jpg ,  ankle casual knee men socks\n",
            "B0002TORZS__Clothing_Shoes_Jewelry_Men_Clothing_Socks_Dress_T_.jpg ,  clothing cotton men regular socks\n",
            "B0002TVU5I__Clothing_Shoes_Jewelry_Women_Jewelry_Rings_Statem_.jpg ,  fashion gold jewelry pearl ring ringlet wedding women\n",
            "B0002UD39I__Clothing_Shoes_Jewelry_Boys_School_Uniforms_Cloth_.jpg ,  factory men outfit safety stylish uniform work\n",
            "B0002UFHCY__Clothing_Shoes_Jewelry_Women_Clothing_Pants__.jpg ,  dress look men office pent use\n",
            "B0002UNNNY__Clothing_Shoes_Jewelry_Women_Shoes_Athletic_Balle_.jpg ,  comfortable flat leather plain sandals shoe shoes stylish winter women\n",
            "B0002UQWJ6__Clothing_Shoes_Jewelry_Women_Jewelry_Rings_Statem_.jpg ,  fashion jewelry locket men neck women\n",
            "B0002UTZGS__Clothing_Shoes_Jewelry_Women_Shoes_Boots_Knee_Hig_.jpg ,  high leathers outdoor shoes wear winter women\n",
            "B0002VANXG__Clothing_Shoes_Jewelry_Men_Uniforms_Work_Safety_C_.jpg ,  cap clothing gear men travelling\n",
            "B0002V9KC6__Clothing_Shoes_Jewelry_Uniforms_Work_Safety_Cloth_.jpg ,  full jersey men outfit shirt sleeves warm winter\n",
            "B0002X7DAK__Clothing_Shoes_Jewelry_Women_Clothing_Pants_Casua_.jpg ,  dress look men office pent use\n",
            "B0002XSVYW__Clothing_Shoes_Jewelry_Men_Clothing_Shorts_Flat_F_.jpg ,  clothes men outfit summer\n",
            "B0002XQUQ8__Clothing_Shoes_Jewelry_Men_Watches_Wrist_Watches__.jpg ,  men pocket timer watch wrist\n",
            "B0002YEX7U__Clothing_Shoes_Jewelry_Men_Accessories_Hats_Caps__.jpg ,  dress loafer men shoes\n",
            "B0002Z851E__Clothing_Shoes_Jewelry_Women_Jewelry_Bracelets__.jpg ,  fashion jewelry locket men neck women\n",
            "B0002ZODII__Clothing_Shoes_Jewelry_Luggage_Travel_Gear_Travel_.jpg ,  bag gear luggage men side travel women\n",
            "B000302AJQ__Clothing_Shoes_Jewelry_Women_Jewelry_Necklaces_Pe_.jpg ,  fashion jewelry locket men neck women\n",
            "B00030B20Y__Clothing_Shoes_Jewelry_Men_Accessories_Hats_Caps__.jpg ,  fashion men office watch\n",
            "B00030AUV6__Clothing_Shoes_Jewelry_Costumes_Accessories_Kids__.jpg ,  fashion jewelry locket men neck women\n",
            "B0003216GM__Clothing_Shoes_Jewelry_Men_Clothing_Active_Active_.jpg ,  casual men playing shoes wear\n",
            "B0004K59M0__Clothing_Shoes_Jewelry_Women_Jewelry_Necklaces_Pe_.jpg ,  fashion jewelry necklet pendant silver style stylish with women\n",
            "B00061FBKC__Clothing_Shoes_Jewelry_Women_Jewelry_Bracelets_Li_.jpg ,  bracelet decorated jewelry men silver women\n",
            "B00061F350__Clothing_Shoes_Jewelry_Men_Accessories_Sunglasses_.jpg ,  contemporary design glasses shades sun women\n",
            "B00062YTY0__Clothing_Shoes_Jewelry_Women_Clothing_Socks_Hosie_.jpg ,  lingerie socks stocking stockings women\n",
            "B000632TKA__Clothing_Shoes_Jewelry_Women_Accessories_Hats_Cap_.jpg ,  bag men pouch schoolbag sturdy travel utility women\n",
            "B00063AMMW__Clothing_Shoes_Jewelry_Luggage_Travel_Gear_Briefc_.jpg ,  case cash clip compact holder men money wallet with women zipper\n",
            "B00063AR7W__Clothing_Shoes_Jewelry_Luggage_Travel_Gear_Top_Gr_.jpg ,  box cover jewelry women\n",
            "B00063RBDU__Clothing_Shoes_Jewelry_Men_Watches_Wrist_Watches__.jpg ,  box cover jewelry men women\n",
            "B00063W5FE__Clothing_Shoes_Jewelry_Women_Accessories_Hats_Cap_.jpg ,  fashion party outfit suit wear winter women\n",
            "B00063W3C4__Clothing_Shoes_Jewelry_Men_Accessories_Hats_Caps__.jpg ,  fashion jewelry men neck shoes\n",
            "B00064KB72__Clothing_Shoes_Jewelry_Women_Accessories_Wallets__.jpg ,  case cash clip compact holder leather men money wallet with women zipper\n",
            "B00064USYI__Clothing_Shoes_Jewelry_Women_Jewelry_Necklaces_Pe_.jpg ,  fabric jewelry necklace pendent silver stylish with women\n",
            "B00064UTBU__Clothing_Shoes_Jewelry_Women_Jewelry_Necklaces_Pe_.jpg ,  jewelry necklace pendent silver stylish with women\n",
            "B00064USCK__Clothing_Shoes_Jewelry_Women_Jewelry_Necklaces_Pe_.jpg ,  jewelry necklace pendent silver stylish with women\n",
            "B00064USEI__Clothing_Shoes_Jewelry_Women_Jewelry_Necklaces_Pe_.jpg ,  fabric jewelry necklace pendent silver stylish with women\n",
            "B00064UT4M__Clothing_Shoes_Jewelry_Women_Jewelry_Necklaces_Pe_.jpg ,  jewelry necklace pendent silver stylish with women\n",
            "B00064UUJ6__Clothing_Shoes_Jewelry_Women_Jewelry_Necklaces_Pe_.jpg ,  jewelry necklace pendent silver silverchain stylish women\n",
            "B000657TL2__Clothing_Shoes_Jewelry_Men_Shoes_Outdoor_Hiking_T_.jpg ,  gym joggers men running shoes wear\n",
            "B000659OV0__Clothing_Shoes_Jewelry_Girls_Jewelry__.jpg ,  chain jewelry men necklace stylish women\n",
            "B000659ZK0__Clothing_Shoes_Jewelry_Women_Accessories_Wallets__.jpg ,  case cash clip compact holder money wallet women zipper\n",
            "B000659OFQ__Clothing_Shoes_Jewelry_Women_Jewelry_Anklets__.jpg ,  bracelet decorated gemstones jewelry men silver with women\n",
            "B000659OLU__Clothing_Shoes_Jewelry_Women_Jewelry_Bracelets_Ch_.jpg ,  bracelet decorated jewelry men silver sterling women\n",
            "B00065FZLS__Clothing_Shoes_Jewelry_Women_Jewelry_Necklaces_Pe_.jpg ,  jewelry necklace pendent silver stylish with women\n",
            "B00065G12A__Clothing_Shoes_Jewelry_Boys_Jewelry_Necklaces__.jpg ,  fabric jewelry necklace pendent silver stylish with women\n",
            "B00065G1MK__Clothing_Shoes_Jewelry_Women_Jewelry_Necklaces_Pe_.jpg ,  fabric jewelry necklace pendent silver stylish with women\n",
            "B00065G0X0__Clothing_Shoes_Jewelry_Women_Jewelry_Necklaces_Pe_.jpg ,  fabric jewelry necklace pendent silver stylish with women\n",
            "B00065G0VC__Clothing_Shoes_Jewelry_Women_Jewelry_Bracelets_Cu_.jpg ,  bracelet chain jewelry linked silver women\n",
            "B00066R8UI__Clothing_Shoes_Jewelry_Women_Clothing_Lingerie_Sl_.jpg ,  bra essentials lingerie underwear women\n",
            "B00067I428__Clothing_Shoes_Jewelry_Women_Shoes_Loafers_Slip_O_.jpg ,  dress fashion formal leather office pumpy shoes women\n",
            "B00067MDOS__Clothing_Shoes_Jewelry_Men_Accessories_Gloves_Mit_.jpg ,  gloves hand-fits leather men mitten short\n",
            "B00067OHWE__Clothing_Shoes_Jewelry_Women_Accessories_Hats_Cap_.jpg ,  clothing fashion men suit wear\n",
            "B00067OI96__Clothing_Shoes_Jewelry_Novelty_More_Clothing_Nove_.jpg ,  caps casual door men out sports wear\n",
            "B00067X3ZG__Clothing_Shoes_Jewelry_Women_Shoes_Athletic_Balle_.jpg ,  casual men shoes slippers wear\n",
            "B0006899M6__Clothing_Shoes_Jewelry_Girls_Shoes_Flats__.jpg ,  lingerie socks stocking stockings women\n",
            "B00068TIHM__Clothing_Shoes_Jewelry_Women_Watches_Wrist_Watche_.jpg ,  band mechincal metal stylish watch women wrist\n",
            "B0006AAS5G__Clothing_Shoes_Jewelry_Men_Watches_Wrist_Watches__.jpg ,  dress men shoes tumb\n",
            "B0006ABRQK__Clothing_Shoes_Jewelry_Shoe_Jewelry_Watch_Accesso_.jpg ,  case cash clip compact holder men money wallet with women zipper\n",
            "B0006AZ9CS__Clothing_Shoes_Jewelry_Women_Jewelry_Necklaces_Pe_.jpg ,  fashion jewelry locket men neck women\n",
            "B0006B7QBO__Clothing_Shoes_Jewelry_Women_Watches_Wrist_Watche_.jpg ,  mechanical men metal stylish watch\n",
            "B0006FTOGK__Clothing_Shoes_Jewelry_Women_Clothing_Lingerie_Sl_.jpg ,  bra essentials lingerie underwear women\n",
            "B0006G0KMG__Clothing_Shoes_Jewelry_Women_Jewelry_Rings_Metal__.jpg ,  diamond engagement golden iced jewelry plain ring women\n",
            "B0006G460S__Clothing_Shoes_Jewelry_Men_Surf_Skate_Street_Clot_.jpg ,  clothing men shorts summer\n",
            "B0006H0SCM__Clothing_Shoes_Jewelry_Women_Watches_Wrist_Watche_.jpg ,  band mechincal metal stylish watch women wrist\n",
            "B0006HJBCA__Clothing_Shoes_Jewelry_Women_Clothing_Dresses_100_.jpg ,  cloths tight undergarments underwear women\n",
            "B0006JJL50__Clothing_Shoes_Jewelry_Women_Clothing_Lingerie_Sl_.jpg ,  bra essentials lingerie underwear women\n",
            "B0006M1VXW__Clothing_Shoes_Jewelry_Men_Shoes_Loafers_Slip_Ons_.jpg ,  dress loafer men shoes\n",
            "B0006OA4JC__Clothing_Shoes_Jewelry_Women_Jewelry_Necklaces_Pe_.jpg ,  gemstone gift jewelry men ring silver stylish wedding women\n",
            "B0006O1H8E__Clothing_Shoes_Jewelry_Women_Jewelry_Necklaces_Pe_.jpg ,  jewelry necklace pendent silver silverchain stylish women\n",
            "B0006OC2Y2__Clothing_Shoes_Jewelry_Women_Shoes__.jpg ,  comfortable fashion shoes sneakers sport women\n",
            "B0006OJ4ZM__Clothing_Shoes_Jewelry_Women_Jewelry_Necklaces_Pe_.jpg ,  jewelry necklace silver silverchain stylish women\n",
            "B0006Q9PCW__Clothing_Shoes_Jewelry_Luggage_Travel_Gear_Luggag_.jpg ,  box men safe watch wrist\n",
            "B0006SE16U__Clothing_Shoes_Jewelry_Women_Jewelry_Necklaces_Pe_.jpg ,  outdoor party stylish wear women\n",
            "B0006SW2YI__Clothing_Shoes_Jewelry_Men_Jewelry_Wedding_Rings__.jpg ,  men plain ring silver stylish wedding\n",
            "B0006TIIXQ__Clothing_Shoes_Jewelry_Women_Jewelry_Necklaces_Pe_.jpg ,  jewelry necklace pendent silver stylish with women\n",
            "B0006TNOY4__Clothing_Shoes_Jewelry_Women_Accessories_Scarves__.jpg ,  full jersey men outfit shirt sleeves warm winter\n",
            "B0006TNP2A__Clothing_Shoes_Jewelry_Women_Accessories_Scarves__.jpg ,  clothing dress fashion outfit women\n",
            "B0006TSCFU__Clothing_Shoes_Jewelry_Women_Clothing_Swimsuits_C_.jpg ,  bathing bikini suit women\n",
            "B0006U00JK__Clothing_Shoes_Jewelry_Men_Clothing_Underwear_Box_.jpg ,  clothing clothing men tight undergarments underwear\n",
            "B0006U1JCW__Clothing_Shoes_Jewelry_Women_Clothing_Lingerie_Sl_.jpg ,  bra essentials lingerie underwear women\n",
            "B0006U5HCK__Clothing_Shoes_Jewelry_Women_Clothing_Lingerie_Sl_.jpg ,  bra essentials lingerie underwear women\n",
            "B0006U6B6Q__Clothing_Shoes_Jewelry_Men_Clothing_Jeans__.jpg ,  jeans men pants\n",
            "B0006UBKLW__Clothing_Shoes_Jewelry_Women_Clothing_Swimsuits_C_.jpg ,  bathing bikini dress outfit suit swimming women\n",
            "B0006UD73G__Clothing_Shoes_Jewelry_Women_Clothing_Lingerie_Sl_.jpg ,  dress fashion formal office outfit shoes synthetic women\n",
            "B0006V8I1G__Clothing_Shoes_Jewelry_Women_Shoes_Boots_Boot_ope_.jpg ,  comfortable fo leather men shoes sneakers wear winter\n",
            "B0006VSN98__Clothing_Shoes_Jewelry_Girls_Jewelry_Necklaces_Pe_.jpg ,  bracelet decorated heart jewelry men silver\n",
            "B0006VYLG2__Clothing_Shoes_Jewelry_Men_Uniforms_Work_Safety_C_.jpg ,  fashion hoodie men outfit stylish winter\n",
            "B0006Z13NM__Clothing_Shoes_Jewelry_Men_Clothing_Jeans_Cotton__.jpg ,  clothing dress-up fashion jeans men pants party regular\n",
            "B0006Z3HMW__Clothing_Shoes_Jewelry_Women_Jewelry_Bracelets_St_.jpg ,  bracelet decorated jewelry men silver sterling women\n",
            "B0006ZS7O0__Clothing_Shoes_Jewelry_Luggage_Travel_Gear_Briefc_.jpg ,  bag men pouch schoolbag travel utility women\n",
            "B00074HDAO__Clothing_Shoes_Jewelry_Men_Watches_Wrist_Watches__.jpg ,  men sports watch wear wrist\n",
            "B00074N704__Clothing_Shoes_Jewelry_Men_Watches_Pocket_Watches_.jpg ,  outdoor party stylish wear women\n",
            "B00075M6HI__Clothing_Shoes_Jewelry_Luggage_Travel_Gear_Travel_.jpg ,  bag bags carry cloths luggage men travelling women\n",
            "B00075ZYTK__Clothing_Shoes_Jewelry_Men_Clothing_Shirts__.jpg ,  clothing men polo shirt style summer\n",
            "B00076NXEC__Clothing_Shoes_Jewelry_Men_Watches_Wrist_Watches__.jpg ,  box men safe watch wrist\n",
            "B00077CXCO__Clothing_Shoes_Jewelry_Women_Watches_Watch_Bands__.jpg ,  bands belts men watch women\n",
            "B0007891JQ__Clothing_Shoes_Jewelry_Women_Shoes_Pumps_100_Leat_.jpg ,  dress loafer men shoes\n",
            "B00078X0NO__Clothing_Shoes_Jewelry_Men_100_medium_weight_cott_.jpg ,  men outfit safety stylish uniform work\n",
            "B00078ZTLU__Clothing_Shoes_Jewelry_Men_Clothing_Shirts__.jpg ,  clothing full men routine shirt sleeves use\n",
            "B000791APS__Clothing_Shoes_Jewelry_Luggage_Travel_Gear_Gym_Ba_.jpg ,  bag men shoulder\n",
            "B00079UHHA__Clothing_Shoes_Jewelry_Women_Jewelry_Bracelets__.jpg ,  bracelet decorated jewelry men silver sterling women\n",
            "B0007CKRF4__Clothing_Shoes_Jewelry_Men_Clothing_Jeans_Cotton__.jpg ,  factory men outfit safety shorts uniform work\n",
            "B0007CXSE6__Clothing_Shoes_Jewelry_Women_Clothing_Swimsuits_C_.jpg ,  bra essentials lingerie underwear women\n",
            "B0007D6W48__Clothing_Shoes_Jewelry_Women_Watches_Watch_Bands__.jpg ,  classic fabric strips watch watches women\n",
            "B0007D2L2A__Clothing_Shoes_Jewelry_Shoe_Jewelry_Watch_Accesso_.jpg ,  men of office shirt wear women\n",
            "B0007D67Q6__Clothing_Shoes_Jewelry_Women_Shoes_Slippers_100_S_.jpg ,  flat outdoor party shoes wear winter women\n",
            "B0007D6WPC__Clothing_Shoes_Jewelry_Women_Watches_Watch_Bands__.jpg ,  classic fabric strips watch watches women\n",
            "B0007D65N6__Clothing_Shoes_Jewelry_Luggage_Travel_Gear_Gym_Ba_.jpg ,  bag carrier clothes gear luggage men travel women\n",
            "B0007DG69Y__Clothing_Shoes_Jewelry_Women_Shoes_Loafers_Slip_O_.jpg ,  men office professional shoes wear\n",
            "B0007IQF22__Clothing_Shoes_Jewelry_Women_Accessories_Wallets__.jpg ,  case cash clip compact holder men money wallet zipper\n",
            "B0007IQFIG__Clothing_Shoes_Jewelry_Men_Accessories_Wallets_Ca_.jpg ,  clothing fashion formal leather men office shirt style\n",
            "B0007IQNCE__Clothing_Shoes_Jewelry_Men_Shoes_Oxfords_100_High_.jpg ,  comfortable fo leather men shoes sneakers wear winter\n",
            "B0007KL91C__Clothing_Shoes_Jewelry_Men_Shoes_Athletic_Running_.jpg ,  men sneaker sneakers\n",
            "B0007KN8PC__Clothing_Shoes_Jewelry_Women_Accessories_Wallets__.jpg ,  case cash clip compact holder money wallet women zipper\n",
            "B0007KPPAI__Clothing_Shoes_Jewelry_Women_Uniforms_Work_Safety_.jpg ,  dress fashion formal office outfit pants party women\n",
            "B0007KQYUS__Clothing_Shoes_Jewelry_Women_Watches_Wrist_Watche_.jpg ,  fashion men office watch\n",
            "B0007KQHKA__Clothing_Shoes_Jewelry_Novelty_More_Clothing_Nove_.jpg ,  men outfit sleeve summer tshirt wear\n",
            "B0007KVTAI__Clothing_Shoes_Jewelry_Women_Plus_Size_100_Polyes_.jpg ,  lingerie socks stocking stockings women\n",
            "B0007L0G4C__Clothing_Shoes_Jewelry_Girls_Clothing_Tops_Tees_B_.jpg ,  clothing fashion infant\n",
            "B0007M6MO4__Clothing_Shoes_Jewelry_Men_Surf_Skate_Street_Clot_.jpg ,  men running shorts sports trouser\n",
            "B0007M6EYM__Clothing_Shoes_Jewelry_Men_Shoes_Loafers_Slip_Ons_.jpg ,  dress loafer men shoes\n",
            "B0007MFO98__Clothing_Shoes_Jewelry_Men_Shoes_Oxfords_100_Full_.jpg ,  men office professional shoes wear\n",
            "B0007MFOK2__Clothing_Shoes_Jewelry_Men_Shoes_Oxfords_100_Full_.jpg ,  men running shoes sneakers sports\n",
            "B0007MCQNA__Clothing_Shoes_Jewelry_Men_Shoes_Oxfords_100_Full_.jpg ,  dress men shoes tumb\n",
            "B0007MFND0__Clothing_Shoes_Jewelry_Men_Shoes_Loafers_Slip_Ons_.jpg ,  dress loafer men shoes\n",
            "B0007N53CU__Clothing_Shoes_Jewelry_Women_Watches_Wrist_Watche_.jpg ,  mechanical men metal stylish watch\n",
            "B0007NICBY__Clothing_Shoes_Jewelry_Women__.jpg ,  bra essentials lingerie underwear women\n",
            "B0007NY5VK__Clothing_Shoes_Jewelry_Men_Accessories_Hats_Caps__.jpg ,  caps casual door men out sports wear\n",
            "B0007O032E__Clothing_Shoes_Jewelry_Men_Clothing_Suits_Sport_C_.jpg ,  clothing full men routine shirt sleeves use\n",
            "B0007OFSX8__Clothing_Shoes_Jewelry_Luggage_Travel_Gear_Travel_.jpg ,  bag gear luggage men side travel women\n",
            "B0007ORA0W__Clothing_Shoes_Jewelry_Women__.jpg ,  heels high party sandals wear women\n",
            "B0007PCYG6__Clothing_Shoes_Jewelry_Luggage_Travel_Gear_Briefc_.jpg ,  jewelry men necklace stylish\n",
            "B0007PGIV8__Clothing_Shoes_Jewelry_Baby_Baby_Girls_85_Polyest_.jpg ,  bathing bikini dress outfit suit swimming women\n",
            "B0007PNAGE__Clothing_Shoes_Jewelry_Men_Shoes_Athletic_Sport_S_.jpg ,  men shoes slipper slippers stylish wear\n",
            "B0007PO3MY__Clothing_Shoes_Jewelry_Women_Accessories_Belts__.jpg ,  classic fabric strips watch watches women\n",
            "B0007Q2Z3W__Clothing_Shoes_Jewelry_Women_Jewelry_Bracelets_Li_.jpg ,  bracelet decorated jewelry men silver sterling women\n",
            "B0007SKT60__Clothing_Shoes_Jewelry_Girls_2_inside_pockets_(1__.jpg ,  clothing men polo shirt style summer\n",
            "B00007GJXO__Clothing_Shoes_Jewelry_Women_Jewelry_Rings_Statem_.jpg ,  faishon faishon faishon faishon women\n",
            "B00007GLG5__Clothing_Shoes_Jewelry_Women_Jewelry_Bracelets_Ba_.jpg ,  jewelry ring stylish women\n",
            "B00007GMVS__Clothing_Shoes_Jewelry_Women_Jewelry_Rings_Statem_.jpg ,  fashion gift jewelry ring silver stylish wedding women\n",
            "B00007JKW0__Clothing_Shoes_Jewelry_Women_Jewelry_Brooches_Pin_.jpg ,  decoration garment jewelry silver women\n",
            "B00007GD9W__Clothing_Shoes_Jewelry_Women_Accessories_Wallets__.jpg ,  case cash clip compact holder men money wallet zipper\n",
            "B00008623C__Clothing_Shoes_Jewelry_Women_Clothing_Lingerie_Sl_.jpg ,  bra essentials lingerie underwear women\n",
            "B00008624J__Clothing_Shoes_Jewelry_Women_Clothing_Lingerie_Sl_.jpg ,  bra essentials lingerie underwear women\n",
            "B000096QJ9__Clothing_Shoes_Jewelry_Costumes_Accessories_Kids__.jpg ,  bracelet decorated jewelry men silver women\n",
            "B00009HGBT__Clothing_Shoes_Jewelry_Men_Shoes_Loafers_Slip_Ons_.jpg ,  dress loafer men shoes\n",
            "B00009RTN9__Clothing_Shoes_Jewelry_Costumes_Accessories_Kids__.jpg ,  costume dress halloween let men pretend up vigilante\n",
            "B00009LZNE__Clothing_Shoes_Jewelry_Costumes_Accessories_Kids__.jpg ,  clothing men suit tie ties\n",
            "B0000A3L1L__Clothing_Shoes_Jewelry_Girls_Clothing_Underwear_P_.jpg ,  lingerie men things underwear wear\n",
            "B0000A4FIJ__Clothing_Shoes_Jewelry_Women_Clothing_Lingerie_Sl_.jpg ,  briefs essentials men underwear\n",
            "B0000A52UF__Clothing_Shoes_Jewelry_Men_Shoes_Athletic_Tennis__.jpg ,  hitop hitop men sneaker sneakers\n",
            "B0000ACXKC__Clothing_Shoes_Jewelry_Men_Shoes_Athletic_Tennis__.jpg ,  hitop men sneaker sneakers\n",
            "B0000A522B__Clothing_Shoes_Jewelry_Men_Shoes_Athletic_Tennis__.jpg ,  men shoes sports stylish wear\n",
            "B0000AE6PM__Clothing_Shoes_Jewelry_Luggage_Travel_Gear_Travel_.jpg ,  bag bags men travel women\n",
            "B0000AX3J6__Clothing_Shoes_Jewelry_Men_Shoes_Boots_Work_Safet_.jpg ,  high outdoor party shoes wear winter women\n",
            "B0000AX6DE__Clothing_Shoes_Jewelry_Shoe_Jewelry_Watch_Accesso_.jpg ,  men sports watch wear wrist\n",
            "B0000CC5HX__Clothing_Shoes_Jewelry_Women_Jewelry_Wedding_Enga_.jpg ,  diamond engagement iced jewelry plain ring silver women\n",
            "B0000CC7BU__Clothing_Shoes_Jewelry_Luggage_Travel_Gear_Backpa_.jpg ,  bag bags carry cloths gadget luggage men travelling women\n",
            "B0000CBXI3__Clothing_Shoes_Jewelry_Women_Clothing_Lingerie_Sl_.jpg ,  fit men outfit tight wear winter\n",
            "B0000D15ZT__Clothing_Shoes_Jewelry_Baby_Baby_Girls_Clothing_T_.jpg ,  clothing fashion men office watch\n",
            "B0000CDVV7__Clothing_Shoes_Jewelry_Women_Jewelry_Necklaces__.jpg ,  jewelry necklace pendent silver stylish with women\n",
            "B0000CDVVD__Clothing_Shoes_Jewelry_Women_Jewelry_Bracelets_Li_.jpg ,  bracelet decorated designed jewelry men silver women\n",
            "B0000CEMGJ__Clothing_Shoes_Jewelry_Women_Jewelry_Rings_Bands__.jpg ,  diamond engagement iced jewelry plain ring silver women\n",
            "B0000CDVVE__Clothing_Shoes_Jewelry_Women_Jewelry_Bracelets_Li_.jpg ,  bracelet decorated gemstones jewelry men silver with women\n",
            "B0000CNQZI__Clothing_Shoes_Jewelry_Shoe_Jewelry_Watch_Accesso_.jpg ,  case cash clip compact holder men money wallet zipper\n",
            "B0000DZJLM__Clothing_Shoes_Jewelry_Women_Clothing_Active_Acti_.jpg ,  clothing men shorts sports\n",
            "B0000DCS7S__Clothing_Shoes_Jewelry_Men_Dupont_Supplex_3_ply_n_.jpg ,  men outfit safety stylish uniform work\n",
            "B0000DZQD6__Clothing_Shoes_Jewelry_Women_Clothing_Tops_Tees_B_.jpg ,  gym inner less shirt sleeve summer wear women yoga\n",
            "B0000E07KZ__Clothing_Shoes_Jewelry_Women_Shoes_Athletic_Runni_.jpg ,  gym men running shoes sneakers wear\n",
            "B0000E014L__Clothing_Shoes_Jewelry_Women_Clothing_Sweaters_Pu_.jpg ,  full jersey men outfit shirt sleeves sweater warm winter\n",
            "B0000DZZP3__Clothing_Shoes_Jewelry_Women_Shoes_Athletic_Runni_.jpg ,  gym joggers men running shoes wear\n",
            "B0000SX63U__Clothing_Shoes_Jewelry_Women_Jewelry_Necklaces_Pe_.jpg ,  jewelry necklace necklet pearls pendant style stylish women\n",
            "B0000TIIPK__Clothing_Shoes_Jewelry_Women_Watches_Wrist_Watche_.jpg ,  bands dial leather mechanical men metal watch wrist\n",
            "B0000TSIKK__Clothing_Shoes_Jewelry_Shoe_Jewelry_Watch_Accesso_.jpg ,  men office professional shoes wear\n",
            "B0000V9I7A__Clothing_Shoes_Jewelry_Men_Watches_Wrist_Watches__.jpg ,  band leather men safety stylish wear women wrist\n",
            "B0000V9M8A__Clothing_Shoes_Jewelry_Women_Watches__.jpg ,  men pocket timer watch wrist\n",
            "B0000V9NFW__Clothing_Shoes_Jewelry_Men_Watches_Wrist_Watches__.jpg ,  fashion mechanical men metal style stylish watch\n",
            "B0000WLTOE__Clothing_Shoes_Jewelry_Men_Uniforms_Work_Safety_C_.jpg ,  dress fashion formal office outfit pants party women\n",
            "B0000Y5T7U__Clothing_Shoes_Jewelry_Women_Plus_Size_Socks_Hosi_.jpg ,  lingerie socks stocking stockings women\n",
            "B0000WYV62__Clothing_Shoes_Jewelry_Men_Shoes_Boots_Work_Safet_.jpg ,  cowboy leather men western\n",
            "B0000WL0XY__Clothing_Shoes_Jewelry_Men_Uniforms_Work_Safety_C_.jpg ,  coat collection fashion full men outfit sleeves winter\n",
            "B0000ZFICK__Clothing_Shoes_Jewelry_Women_Clothing_Socks_Hosie_.jpg ,  clothing men suit\n",
            "B0000ZET52__Clothing_Shoes_Jewelry_Women_Clothing_Lingerie_Sl_.jpg ,  lingerie socks stocking stockings women\n",
            "B0000ZH4AO__Clothing_Shoes_Jewelry_Men_Watches_Wrist_Watches__.jpg ,  men office watch wear\n",
            "B00011U2LA__Clothing_Shoes_Jewelry_Men_Watches_Wrist_Watches__.jpg ,  bands dial leather mechanical men metal watch wrist\n",
            "B00012U25A__Clothing_Shoes_Jewelry_Men_Clothing_Active_Athlet_.jpg ,  long men socks sports\n",
            "B00012U2M8__Clothing_Shoes_Jewelry_Girls_Clothing_This_team_s_.jpg ,  men socks sports\n",
            "B000153MWM__Clothing_Shoes_Jewelry_Men_Watches_Wrist_Watches__.jpg ,  men sports watch wear wrist\n",
            "B000153MWW__Clothing_Shoes_Jewelry_Women_Watches_Wrist_Watche_.jpg ,  mechanical men metal stylish watch\n",
            "B00015HG38__Clothing_Shoes_Jewelry_Novelty_More_Clothing_Nove_.jpg ,  men outfit safety stylish wear work\n",
            "B00016W96Q__Clothing_Shoes_Jewelry_Women_Watches_Wrist_Watche_.jpg ,  necklace stylish wear women\n",
            "B00018C91E__Clothing_Shoes_Jewelry_Men_Shoes_Fashion_Sneakers_.jpg ,  hitop hitop men sneaker sneakers\n",
            "B00016C8NU__Clothing_Shoes_Jewelry_Men_Jewelry_Cuff_Links_Sta_.jpg ,  fashion jewelry men safe\n",
            "B0001EMLIY__Clothing_Shoes_Jewelry_Women_Handbags_Wallets_Sho_.jpg ,  bag gear luggage men side travel women\n",
            "B0001GSYGA__Clothing_Shoes_Jewelry_Women_Clothing_Socks_Hosie_.jpg ,  lingerie socks stocking stockings women\n",
            "B0001KX7ZY__Clothing_Shoes_Jewelry_Men_Shoes_Outdoor_Hunting__.jpg ,  gym joggers men running shoes wear\n",
            "B0001MX7AW__Clothing_Shoes_Jewelry_Men_Clothing_Jackets_Coats_.jpg ,  coat collection jacket men winter\n",
            "B0001N6KZU__Clothing_Shoes_Jewelry_Luggage_Travel_Gear_Waist__.jpg ,  bag carrier gear luggage men side travel women\n",
            "B0001NLRD0__Clothing_Shoes_Jewelry_Women_Handbags_Wallets_Sho_.jpg ,  bag carrier gear luggage men travel travel women\n",
            "B0001NLN1G__Clothing_Shoes_Jewelry_Women_Handbags_Wallets_Hob_.jpg ,  bag gear luggage men side travel women\n",
            "B0001WDD7E__Clothing_Shoes_Jewelry_Men_Watches_Wrist_Watches__.jpg ,  men metal silver watch wrist\n",
            "B0001WD6B2__Clothing_Shoes_Jewelry_Women_Accessories_Hats_Cap_.jpg ,  cap clothing gear men travelling\n",
            "B0001WD5RM__Clothing_Shoes_Jewelry_Women_Accessories_Hats_Cap_.jpg ,  for gift ring rings stylish wear women\n",
            "B0001XH84C__Clothing_Shoes_Jewelry_Men_Uniforms_Work_Safety_C_.jpg ,  factory men outfit safety uniform work\n",
            "B0001XLTL0__Clothing_Shoes_Jewelry_Men_Clothing_Jackets_Coats_.jpg ,  coat collection fashion full hood jacket men outfit sleeves winter\n",
            "B0001Y6DHO__Clothing_Shoes_Jewelry_Men_Clothing_Shirts_T_Shir_.jpg ,  clothing men polo shirt style summer\n",
            "B0001Y91DW__Clothing_Shoes_Jewelry_Men_Shoes_Fashion_Sneakers_.jpg ,  comfortable fo leather men shoes sneakers wear winter\n",
            "B0001YS56G__Clothing_Shoes_Jewelry_Men_Uniforms_Work_Safety_C_.jpg ,  clothes clothing men outfit shorts summer trouser\n",
            "B0001YS6F6__Clothing_Shoes_Jewelry_Men_Uniforms_Work_Safety_C_.jpg ,  dress fashion formal office outfit shoes synthetic women\n",
            "B0001YXPJ8__Clothing_Shoes_Jewelry_Men_Accessories_Hats_Caps__.jpg ,  fashion footwear galoshoes leather men shoes snow\n",
            "B0001ZVDGO__Clothing_Shoes_Jewelry_Women_Jewelry_Necklaces_Ch_.jpg ,  jewelry necklace stylish wear women\n",
            "B000209ZSG__Clothing_Shoes_Jewelry_Men_Watches_Wrist_Watches__.jpg ,  mechanical metal stylish watch women\n",
            "B00020J054__Clothing_Shoes_Jewelry_Women_Watches_Wrist_Watche_.jpg ,  box men safe watch wrist\n",
            "B00021C41A__Clothing_Shoes_Jewelry_Women_Watches_Wrist_Watche_.jpg ,  men sports watch wear wrist\n",
            "B00021CK7I__Clothing_Shoes_Jewelry_Girls_Watches_Wrist_Watche_.jpg ,  fashion men metal watch\n",
            "B00022G1WW__Clothing_Shoes_Jewelry_Women_Jewelry_Anklets_META_.jpg ,  bracelet decorated jewelry men silver women\n",
            "B00022JPNE__Clothing_Shoes_Jewelry_Men_Uniforms_Work_Safety_C_.jpg ,  clothing men shorts stylish\n",
            "B00022G85C__Clothing_Shoes_Jewelry_Women_Jewelry_Anklets_META_.jpg ,  bracelet decorated jewelry men silver women\n",
            "B00022G8F2__Clothing_Shoes_Jewelry_Women_Jewelry_Anklets_META_.jpg ,  bracelet decorated gemstones jewelry men silver with women\n",
            "B000236PNQ__Clothing_Shoes_Jewelry_Men_Clothing_Shorts_Cargo__.jpg ,  clothes clothing men outfit shorts summer trouser\n",
            "B00022OZV6__Clothing_Shoes_Jewelry_Girls_Shoes_Boots__.jpg ,  dress fashion formal leather office pumpy shoes women\n",
            "B00023JQ50__Clothing_Shoes_Jewelry_Women_Jewelry_Necklaces_Pe_.jpg ,  jewelry necklace pendent silver silverchain stylish women\n",
            "B00023JQIC__Clothing_Shoes_Jewelry_Women_Jewelry_Necklaces_Pe_.jpg ,  jewelry necklace pendent silver stylish with women\n",
            "B00023JSIK__Clothing_Shoes_Jewelry_Women_Jewelry_Brooches_Pin_.jpg ,  outdoor party stylish wear women\n",
            "B00023JY2U__Clothing_Shoes_Jewelry_Women_Jewelry_Necklaces_Co_.jpg ,  bracelet decorated gemstones jewelry silver sterling women\n",
            "B00023JZYM__Clothing_Shoes_Jewelry_Women_Jewelry_Necklaces_Pe_.jpg ,  gemstone gift jewelry men ring silver stylish stylishs wedding women\n",
            "B00023JX8A__Clothing_Shoes_Jewelry_Women_Jewelry_Necklaces_Ch_.jpg ,  bracelet decorated designed jewelry men silver women\n",
            "B00023JXTE__Clothing_Shoes_Jewelry_Women_Jewelry_Necklaces_Ch_.jpg ,  jewelry necklace plain silver women\n",
            "B00023LSV0__Clothing_Shoes_Jewelry_Women_Jewelry_Necklaces_Pe_.jpg ,  bracelet decorated jewelry men silver women\n",
            "B00023K9SS__Clothing_Shoes_Jewelry_Women_Jewelry_Necklaces_Pe_.jpg ,  jewelry necklace pendent silver silverchain stylish women\n",
            "B00024QELS__Clothing_Shoes_Jewelry_Women_Shoes_Boots_Mid_Calf_.jpg ,  cowboy leather men western\n",
            "B00024R00M__Clothing_Shoes_Jewelry_Men_Shoes_Boots_Western__.jpg ,  high outdoor wear winter women\n",
            "B00024R1ME__Clothing_Shoes_Jewelry_Men_Uniforms_Work_Safety_S_.jpg ,  comfortable fo leather men shoes sneakers wear winter\n",
            "B00024VUY4__Clothing_Shoes_Jewelry_Luggage_Travel_Gear_Luggag_.jpg ,  bags men pouch schoolbag sturdy travel utility women\n",
            "B00024WAK2__Clothing_Shoes_Jewelry_Women_Watches_Watch_Bands__.jpg ,  classic fabric strips watch watches women\n",
            "B00024VR9M__Clothing_Shoes_Jewelry_Women_Jewelry_Necklaces_Pe_.jpg ,  fashion jewelry locket men neck women\n",
            "B00024WB2O__Clothing_Shoes_Jewelry_Women_Watches_Watch_Bands__.jpg ,  classic fabric strips watch watches women\n",
            "B00025L6WO__Clothing_Shoes_Jewelry_Women_Accessories_Gloves_M_.jpg ,  clothing men polo shirt style summer\n",
            "B0002768G6__Clothing_Shoes_Jewelry_Women_Watches_Wrist_Watche_.jpg ,  bands dial leather mechanical men metal watch wrist\n",
            "B000279C8M__Clothing_Shoes_Jewelry_Women_Jewelry_Necklaces_Pe_.jpg ,  jewelry necklace silver stylish women\n",
            "B00027CAQS__Clothing_Shoes_Jewelry_Girls_Clothing_Shorts_100__.jpg ,  clothing men shorts summer\n",
            "B00027ISRI__Clothing_Shoes_Jewelry_Women_Jewelry_Rings_Statem_.jpg ,  gemstone gift jewelry ring silver stylish stylishs wedding women\n",
            "B00027IVA2__Clothing_Shoes_Jewelry_Women_Jewelry_Rings_Statem_.jpg ,  gemstone gift jewelry ring silver stylish stylishs wedding women\n",
            "B00027LWBM__Clothing_Shoes_Jewelry_Women_Jewelry_Rings_Statem_.jpg ,  gemstone gift jewelry ring silver stylish stylishs wedding women\n",
            "B00027LTUG__Clothing_Shoes_Jewelry_Women_Jewelry_Rings_Statem_.jpg ,  gemstone gift jewelry ring silver stylish stylishs wedding women\n",
            "B00027VU5K__Clothing_Shoes_Jewelry_Men_Jewelry_Rings_Premium__.jpg ,  diamond engagement iced jewelry men plain ring silver\n",
            "B00027WGUI__Clothing_Shoes_Jewelry_Men_Jewelry_Rings_Premium__.jpg ,  diamond engagement golden iced jewelry men plain ring\n",
            "B000289LWS__Clothing_Shoes_Jewelry_Women_Clothing_Leggings_70_.jpg ,  fit men tight wear winter\n",
            "B00027VUE6__Clothing_Shoes_Jewelry_Men_Jewelry_Rings_Premium__.jpg ,  diamond engagement iced jewelry men plain ring silver stone\n",
            "B00029P5WW__Clothing_Shoes_Jewelry_Costumes_Accessories_Women_.jpg ,  fashion jewelry locket men neck women\n",
            "B00029I0YW__Clothing_Shoes_Jewelry_Women_Clothing_Tops_Tees_B_.jpg ,  costume dress outfit party women\n",
            "B00029R87M__Clothing_Shoes_Jewelry_Luggage_Travel_Gear_Travel_.jpg ,  men outfit safety stylish uniform work\n",
            "B0002B9D1O__Clothing_Shoes_Jewelry_Women_Watches_Wrist_Watche_.jpg ,  bands dial leather mechanical men metal watch wrist\n",
            "B0002D8GMY__Clothing_Shoes_Jewelry_Women_Jewelry_Necklaces_Lo_.jpg ,  jewelry necklace silver stylish women\n",
            "B0002D0QHM__Clothing_Shoes_Jewelry_Luggage_Travel_Gear_Luggag_.jpg ,  bag bags carry men travel women\n",
            "B0002EBFSA__Clothing_Shoes_Jewelry_Women_Clothing_Socks_Hosie_.jpg ,  cotton men shoes socks\n",
            "B0002EX2KE__Clothing_Shoes_Jewelry_Men_Uniforms_Work_Safety_S_.jpg ,  comfortable hiking men shoes sneakers wear winter\n",
            "B0002FHILW__Clothing_Shoes_Jewelry_Men_Clothing_Active_Active_.jpg ,  men outfit shirt summer tshirt wear\n",
            "B0002FQCW8__Clothing_Shoes_Jewelry_Women_Jewelry_Necklaces_Ch_.jpg ,  bracelet decorated gemstones jewelry men silver with women\n",
            "B0002JLL48__Clothing_Shoes_Jewelry_Women_Jewelry_Bracelets_Cu_.jpg ,  fashion men shoes socks\n",
            "B0002L4O54__Clothing_Shoes_Jewelry_Women_Clothing_Lingerie_Sl_.jpg ,  lingerie socks stocking stockings women\n",
            "B0002L4O1S__Clothing_Shoes_Jewelry_Women_Shoes_Boots_Ankle_Bo_.jpg ,  casual men shoes sports use\n",
            "B0002LI9BO__Clothing_Shoes_Jewelry_Women_Shoes_Oxfords__.jpg ,  men running shoes sneakers sports\n",
            "B0002LK6Y2__Clothing_Shoes_Jewelry_Women_Clothing_Tops_Tees_B_.jpg ,  clothing men polo shirt style summer\n",
            "B0002LINM4__Clothing_Shoes_Jewelry_Women_Clothing_Lingerie_Sl_.jpg ,  clothing men suit tie ties\n",
            "B0002LYTAE__Clothing_Shoes_Jewelry_Boys_Mesh_Vendor_Name_NIKE_.jpg ,  gym men running shoes sneakers wear\n",
            "B0002LYEJK__Clothing_Shoes_Jewelry_Men_Watches_Wrist_Watches__.jpg ,  fashion mechanical men metal style stylish watch\n",
            "B0002LT7LU__Clothing_Shoes_Jewelry_Women_Shoes_Pumps__.jpg ,  dress loafer men shoes\n",
            "B0002M1RR6__Clothing_Shoes_Jewelry_Men_Shoes_Loafers_Slip_Ons_.jpg ,  leather loffers men shoes\n",
            "B0002LY224__Clothing_Shoes_Jewelry_Women_Shoes_Loafers_Slip_O_.jpg ,  gym joggers men running shoes wear\n",
            "B0002M7EDM__Clothing_Shoes_Jewelry_Luggage_Travel_Gear_Travel_.jpg ,  bag gear luggage men side travel women\n",
            "B0002MHKEA__Clothing_Shoes_Jewelry_Women_Shoes_Sandals_Heeled_.jpg ,  dress fashion formal leather office pumpy shoes women\n",
            "B0002MHVZS__Clothing_Shoes_Jewelry_Women_Shoes_Loafers_Slip_O_.jpg ,  dress loafer shoes women\n",
            "B0002MIZK8__Clothing_Shoes_Jewelry_Women_Shoes_Loafers_Slip_O_.jpg ,  flat outdoor party shoes wear winter women\n",
            "B0002NKEK6__Clothing_Shoes_Jewelry_Women_Shoes_Fashion_Sneake_.jpg ,  dress loafer men shoes\n",
            "B0002NYVOG__Clothing_Shoes_Jewelry_Men_Clothing_Active_Active_.jpg ,  clothing full men routine shirt sleeves use\n",
            "B0002NYVA0__Clothing_Shoes_Jewelry_Men_Clothing_Active_Active_.jpg ,  clothing men polo shirt style summer\n",
            "B0002OPR02__Clothing_Shoes_Jewelry_Men_Clothing_Underwear_Box_.jpg ,  clothing men shorts summer\n",
            "B0002P5SL4__Clothing_Shoes_Jewelry_Women_Uniforms_Work_Safety_.jpg ,  men running shoes sneakers sports\n",
            "B0002PBBRY__Clothing_Shoes_Jewelry_Women_Shoes_Athletic_Bowli_.jpg ,  men running shoes sneakers sports\n",
            "B0002PVVB0__Clothing_Shoes_Jewelry_Men_Shoes_Boots_Steel_toe__.jpg ,  comfortable leather men shoes travelling wear\n",
            "B0002PYJFA__Clothing_Shoes_Jewelry_Women_Shoes_Outdoor_Hiking_.jpg ,  gym men running shoes sports\n",
            "B0002Q9HB0__Clothing_Shoes_Jewelry_Women_Shoes_Slippers__.jpg ,  slippers soft stylish women\n",
            "B0002QVA2E__Clothing_Shoes_Jewelry_Women_Clothing_Socks_Hosie_.jpg ,  cloths tight undergarments underwear women\n",
            "B00005BWTP__Clothing_Shoes_Jewelry_Costumes_Accessories_Men_C_.jpg ,  clothing fashion infant\n",
            "B00006I596__Clothing_Shoes_Jewelry_Luggage_Travel_Gear_Travel_.jpg ,  men sports watch wear\n",
            "B000078OOH__Clothing_Shoes_Jewelry_Luggage_Travel_Gear_Backpa_.jpg ,  dress fashion formal leather office pumpy shoes women\n",
            "B000078OVX__Clothing_Shoes_Jewelry_Women_Handbags_Wallets_Tot_.jpg ,  bag bags carry files office stylish women\n",
            "B00007FFIK__Clothing_Shoes_Jewelry_Women_Jewelry_Wedding_Enga_.jpg ,  gemstone gift jewelry ring silver stylish stylishs wedding women\n",
            "B00007FFHY__Clothing_Shoes_Jewelry_Women_Jewelry_Rings_Top_Ra_.jpg ,  jewelry men ring stylish wedding\n",
            "B00007GIQ1__Clothing_Shoes_Jewelry_Women_Jewelry_Rings_Statem_.jpg ,  fashion jewelry men ring silver\n"
          ]
        }
      ]
    },
    {
      "cell_type": "code",
      "source": [
        "!python OpenNMT-py/setup.py install"
      ],
      "metadata": {
        "id": "hfmLSNgbo6sA"
      },
      "execution_count": null,
      "outputs": []
    },
    {
      "cell_type": "code",
      "source": [
        "!perl OpenNMT-py/tools/multi-bleu-detok.perl reference.txt < candidate.txt"
      ],
      "metadata": {
        "id": "ZMN4W0F8WsJ_"
      },
      "execution_count": null,
      "outputs": []
    }
  ],
  "metadata": {
    "accelerator": "GPU",
    "colab": {
      "name": "InceptionV3_pytorch.ipynb",
      "provenance": []
    },
    "kernelspec": {
      "display_name": "Python 3",
      "name": "python3"
    },
    "language_info": {
      "name": "python"
    }
  },
  "nbformat": 4,
  "nbformat_minor": 0
}