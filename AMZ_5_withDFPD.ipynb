{
 "cells": [
  {
   "cell_type": "code",
   "execution_count": 5,
   "id": "bce9dddd",
   "metadata": {},
   "outputs": [],
   "source": [
    "import json                          # imports json module\n",
    "import numpy as np                   # imports numpy as np\n",
    "import csv                           # imports csv\n",
    "import scrapy\n",
    "import pandas as pd"
   ]
  },
  {
   "cell_type": "code",
   "execution_count": 1,
   "id": "d87f3876",
   "metadata": {},
   "outputs": [],
   "source": [
    "import os \n",
    "#full path\n",
    "\n",
    "#current dir\n"
   ]
  },
  {
   "cell_type": "code",
   "execution_count": 2,
   "id": "c98516ed",
   "metadata": {},
   "outputs": [
    {
     "ename": "NameError",
     "evalue": "name 'cwd' is not defined",
     "output_type": "error",
     "traceback": [
      "\u001b[1;31m---------------------------------------------------------------------------\u001b[0m",
      "\u001b[1;31mNameError\u001b[0m                                 Traceback (most recent call last)",
      "\u001b[1;32m<ipython-input-2-e863a2ac204e>\u001b[0m in \u001b[0;36m<module>\u001b[1;34m\u001b[0m\n\u001b[1;32m----> 1\u001b[1;33m \u001b[0mcwd\u001b[0m\u001b[1;33m\u001b[0m\u001b[1;33m\u001b[0m\u001b[0m\n\u001b[0m",
      "\u001b[1;31mNameError\u001b[0m: name 'cwd' is not defined"
     ]
    }
   ],
   "source": [
    "cwd"
   ]
  },
  {
   "cell_type": "code",
   "execution_count": 3,
   "id": "c66764a8",
   "metadata": {},
   "outputs": [],
   "source": [
    "os.chdir(\"C:/Users/31642/Desktop/\")"
   ]
  },
  {
   "cell_type": "code",
   "execution_count": 4,
   "id": "a2379fd9",
   "metadata": {},
   "outputs": [
    {
     "data": {
      "text/plain": [
       "'C:\\\\Users\\\\31642\\\\Desktop'"
      ]
     },
     "execution_count": 4,
     "metadata": {},
     "output_type": "execute_result"
    }
   ],
   "source": [
    "os.getcwd()"
   ]
  },
  {
   "cell_type": "code",
   "execution_count": 2,
   "id": "581f3bfd",
   "metadata": {},
   "outputs": [],
   "source": [
    "# This creates a function that puts the json.gz data in a pandas DataFrame \n",
    "\n",
    "import pandas as pd\n",
    "import gzip\n",
    "import json\n",
    "\n",
    "def parse(path):\n",
    "    g = gzip.open(path, 'rb')\n",
    "    for l in g:\n",
    "        yield json.loads(l)\n",
    "\n",
    "def getDF(path):\n",
    "    i = 0\n",
    "    df = {}\n",
    "    for d in parse(path):\n",
    "        df[i] = d\n",
    "        i += 1\n",
    "    return pd.DataFrame.from_dict(df, orient='index')"
   ]
  },
  {
   "cell_type": "code",
   "execution_count": 3,
   "id": "fb8c8e45",
   "metadata": {},
   "outputs": [],
   "source": [
    "# Makes a dataframe out of a .json.gz file\n",
    "\n",
    "#df = getDF(\"C:/Users/31642/Desktop/Thesis/meta_Clothing_Shoes_and_Jewelry.json.gz\")\n",
    "#df2 = getDF(\"C:/Users/31642/Desktop/Thesis/meta_Appliances.json.gz\")\n",
    "#df3 = getDF(\"C:/Users/31642/Desktop/Thesis/meta_Appliances.json.gz\")"
   ]
  },
  {
   "cell_type": "code",
   "execution_count": 4,
   "id": "0c5101b5",
   "metadata": {},
   "outputs": [
    {
     "data": {
      "text/plain": [
       "30445"
      ]
     },
     "execution_count": 4,
     "metadata": {},
     "output_type": "execute_result"
    }
   ],
   "source": [
    "# Length of Data frame \n",
    "# len(df)"
   ]
  },
  {
   "cell_type": "code",
   "execution_count": 52,
   "id": "aa6a8dfe",
   "metadata": {},
   "outputs": [],
   "source": [
    "# Test by making a new variable and indexing a specific column \n",
    "# tit = df['title']\n",
    "\n",
    "# calling the new variable made above\"[6]\"\n",
    "# tit\n",
    "\n",
    "# subsetting the necessary columns for image extraction\n",
    "# df_1 = df[['asin', 'category', 'description','imageURLHighRes']]\n",
    "\n",
    "# subsetting the necessary columns for description extraction\n",
    "# df_2 = df_1[['asin', 'description']]\n",
    "\n",
    "# creating a lambda function that removes empty lists under 'description' within the dataframe\n",
    "# df_3 = df_2[df_2['description'].map(lambda d: len(d)) > 0]\n",
    "\n",
    "# write the dataframe to .csv file \n",
    "# df_3.to_csv('description_electronics.csv')\n",
    "\n",
    "# call df where values under description have a length equal to zero \n",
    "# df_1[df_1[\"description\"].str.len() == 0]\n",
    "\n",
    "# creating a lambda function that removes empty lists under 'description' within the dataframe\n",
    "# df_2 = df_1[df_1['description'].map(lambda d: len(d)) > 0]\n",
    "\n",
    "# call the new dataframe where empty lists under 'description' have been removed\n",
    "# df_2\n",
    "\n",
    "# creating a lambda function that removes empty lists under 'imageURLHighRes' within the dataframe\n",
    "# removes values where the length is 0 \"basically no link present\"\n",
    "# df_3 = df_2[df_2['imageURLHighRes'].map(lambda d: len(d)) > 0]\n",
    "\n",
    "# call the newly created dataframe from above\n",
    "# df_3\n",
    "\n",
    "# sets 'asin' as index idk why I did this\n",
    "# df_4 = df_3.set_index('asin')"
   ]
  },
  {
   "cell_type": "code",
   "execution_count": 11,
   "id": "b733fe2f",
   "metadata": {},
   "outputs": [],
   "source": [
    "# recheck URLs in df_3\n",
    "# df_3['imageURLHighRes']"
   ]
  },
  {
   "cell_type": "code",
   "execution_count": 53,
   "id": "6b95b1e2",
   "metadata": {},
   "outputs": [],
   "source": [
    "# Make .csv file out of ASIN \n",
    "# df_3.to_csv('ASIN_CAT_URL2.csv')"
   ]
  },
  {
   "cell_type": "code",
   "execution_count": null,
   "id": "02b03277",
   "metadata": {},
   "outputs": [],
   "source": [
    "# Download URLs from CSV\n",
    "\n",
    "# import csv\n",
    "# import requests\n",
    "\n",
    "# i = 0 \n",
    "\n",
    "# with open('ASIN_CAT_URL_FIN_ELECTRONICS2.csv') as csvfile:\n",
    "    #csvrows = csv.reader(csvfile, delimiter=',', quotechar='\"')\n",
    "    #for row in csvrows:\n",
    "        #filename = row[0] + '_' + row[1] + '.jpg'\n",
    "        #url = row[2]\n",
    "        #result = requests.get(url, stream=True)\n",
    "        #if result.status_code == 200:\n",
    "            #i += 1\n",
    "            #image = result.raw.read()\n",
    "            #open(filename,\"wb\").write(image)\n",
    "            #print(i)"
   ]
  },
  {
   "cell_type": "code",
   "execution_count": 106,
   "id": "655e6b96",
   "metadata": {},
   "outputs": [],
   "source": [
    "# Define function that Retrieves Product Codes (ASIN) from list of filenames through indexing\n",
    "\n",
    "import os\n",
    "def getListOfFiles(dirName):\n",
    "    # create a list of file and sub directories \n",
    "    # names in the given directory \n",
    "    listOfFile = os.listdir(dirName)\n",
    "    allFiles = list()\n",
    "    # Iterate over all the entries\n",
    "    for entry in listOfFile:\n",
    "        # Create full path\n",
    "        fullPath = os.path.join(dirName, entry)\n",
    "        # If entry is a directory then get the list of files in this directory \n",
    "        if os.path.isdir(fullPath):\n",
    "            allFiles = allFiles + getListOfFiles(fullPath)\n",
    "        else:\n",
    "            allFiles.append(fullPath[48:])\n",
    "                \n",
    "    return allFiles"
   ]
  },
  {
   "cell_type": "code",
   "execution_count": 107,
   "id": "1489196d",
   "metadata": {},
   "outputs": [],
   "source": [
    "# Call defined function on a new variable\n",
    "\n",
    "# cloth_asin = getListOfFiles(\"New Data_Images+Desc/Clothing_Shoes_and_Jewelry/\")"
   ]
  },
  {
   "cell_type": "code",
   "execution_count": 108,
   "id": "ed54407f",
   "metadata": {},
   "outputs": [],
   "source": [
    "# Create PANDAS dataframe from new variable\n",
    "\n",
    "# cloth_df = pd.DataFrame(cloth_asin)"
   ]
  },
  {
   "cell_type": "code",
   "execution_count": 110,
   "id": "ba6dd99d",
   "metadata": {},
   "outputs": [],
   "source": [
    "# save dataframe to .csv file\n",
    "\n",
    "# cloth_df.to_csv(\"fn_df.csv\")"
   ]
  },
  {
   "cell_type": "code",
   "execution_count": 5,
   "id": "3888a4ae",
   "metadata": {},
   "outputs": [],
   "source": [
    "# Load .gz file into new dataframe\n",
    "\n",
    "# df_clothes = getDF(\"C:/Users/31642/Desktop/Thesis/meta_Clothing_Shoes_and_Jewelry.json.gz\")"
   ]
  },
  {
   "cell_type": "code",
   "execution_count": 8,
   "id": "63c6310a",
   "metadata": {},
   "outputs": [],
   "source": [
    "# Create new dataframe with Product code and Corresponding Description\n",
    "\n",
    "# df_clothes2 = df_clothes[['asin', 'description']]"
   ]
  },
  {
   "cell_type": "code",
   "execution_count": 9,
   "id": "f90edab5",
   "metadata": {},
   "outputs": [
    {
     "data": {
      "text/html": [
       "<div>\n",
       "<style scoped>\n",
       "    .dataframe tbody tr th:only-of-type {\n",
       "        vertical-align: middle;\n",
       "    }\n",
       "\n",
       "    .dataframe tbody tr th {\n",
       "        vertical-align: top;\n",
       "    }\n",
       "\n",
       "    .dataframe thead th {\n",
       "        text-align: right;\n",
       "    }\n",
       "</style>\n",
       "<table border=\"1\" class=\"dataframe\">\n",
       "  <thead>\n",
       "    <tr style=\"text-align: right;\">\n",
       "      <th></th>\n",
       "      <th>asin</th>\n",
       "      <th>description</th>\n",
       "    </tr>\n",
       "  </thead>\n",
       "  <tbody>\n",
       "    <tr>\n",
       "      <th>0</th>\n",
       "      <td>0000037214</td>\n",
       "      <td>[6\" long, stretched waist measures 11 1/2\" acr...</td>\n",
       "    </tr>\n",
       "    <tr>\n",
       "      <th>1</th>\n",
       "      <td>0201377179</td>\n",
       "      <td>[The Hottest Bag in Town! Brand: Anello Condit...</td>\n",
       "    </tr>\n",
       "    <tr>\n",
       "      <th>2</th>\n",
       "      <td>0204444454</td>\n",
       "      <td>[The Hottest Bag in Town! Brand: Anello Condit...</td>\n",
       "    </tr>\n",
       "    <tr>\n",
       "      <th>3</th>\n",
       "      <td>0204444403</td>\n",
       "      <td>[The Hottest Bag in Town! Brand: Anello Condit...</td>\n",
       "    </tr>\n",
       "    <tr>\n",
       "      <th>4</th>\n",
       "      <td>0206313535</td>\n",
       "      <td>[Brand New.  Hat Centre Length: adult about 8c...</td>\n",
       "    </tr>\n",
       "    <tr>\n",
       "      <th>...</th>\n",
       "      <td>...</td>\n",
       "      <td>...</td>\n",
       "    </tr>\n",
       "    <tr>\n",
       "      <th>2685054</th>\n",
       "      <td>B01HJHR8A6</td>\n",
       "      <td>[Size Length Hip*2 Age Advice 70 39.5 CM 30 CM...</td>\n",
       "    </tr>\n",
       "    <tr>\n",
       "      <th>2685055</th>\n",
       "      <td>B01HJHA4W0</td>\n",
       "      <td>[Soludos are made in US whole sizes. If you ar...</td>\n",
       "    </tr>\n",
       "    <tr>\n",
       "      <th>2685056</th>\n",
       "      <td>B01HJHQR1W</td>\n",
       "      <td>[]</td>\n",
       "    </tr>\n",
       "    <tr>\n",
       "      <th>2685057</th>\n",
       "      <td>B01HJH8JBI</td>\n",
       "      <td>[This classic plain toe style is anything but ...</td>\n",
       "    </tr>\n",
       "    <tr>\n",
       "      <th>2685058</th>\n",
       "      <td>B01HJHFS58</td>\n",
       "      <td>[CUPSHE Intro To inspire confidence and beauty...</td>\n",
       "    </tr>\n",
       "  </tbody>\n",
       "</table>\n",
       "<p>2685059 rows × 2 columns</p>\n",
       "</div>"
      ],
      "text/plain": [
       "               asin                                        description\n",
       "0        0000037214  [6\" long, stretched waist measures 11 1/2\" acr...\n",
       "1        0201377179  [The Hottest Bag in Town! Brand: Anello Condit...\n",
       "2        0204444454  [The Hottest Bag in Town! Brand: Anello Condit...\n",
       "3        0204444403  [The Hottest Bag in Town! Brand: Anello Condit...\n",
       "4        0206313535  [Brand New.  Hat Centre Length: adult about 8c...\n",
       "...             ...                                                ...\n",
       "2685054  B01HJHR8A6  [Size Length Hip*2 Age Advice 70 39.5 CM 30 CM...\n",
       "2685055  B01HJHA4W0  [Soludos are made in US whole sizes. If you ar...\n",
       "2685056  B01HJHQR1W                                                 []\n",
       "2685057  B01HJH8JBI  [This classic plain toe style is anything but ...\n",
       "2685058  B01HJHFS58  [CUPSHE Intro To inspire confidence and beauty...\n",
       "\n",
       "[2685059 rows x 2 columns]"
      ]
     },
     "execution_count": 9,
     "metadata": {},
     "output_type": "execute_result"
    }
   ],
   "source": [
    "# check new dataframe \n",
    "# df_clothes2"
   ]
  },
  {
   "cell_type": "code",
   "execution_count": 54,
   "id": "bbd35edc",
   "metadata": {},
   "outputs": [],
   "source": [
    "# load product codes and descriptions in new data frame\n",
    "\n",
    "# df3 = pd.read_csv(\"C:/Users/31642/Desktop/Thesis/asin_desc_list.csv\")"
   ]
  },
  {
   "cell_type": "code",
   "execution_count": null,
   "id": "43b01cbd",
   "metadata": {},
   "outputs": [],
   "source": [
    "# df3"
   ]
  },
  {
   "cell_type": "code",
   "execution_count": 47,
   "id": "717ffed2",
   "metadata": {},
   "outputs": [],
   "source": [
    "# Check which ASIN from clean dataset are in raw dataset so,\n",
    "# we can edit the CSV and append the corresponding product descriptions\n",
    "\n",
    "# new_df = df_clothes2.assign(ASIN_in_DF3 = df_clothes2['asin'].isin(df3['asin']))"
   ]
  },
  {
   "cell_type": "code",
   "execution_count": 48,
   "id": "609e0c5f",
   "metadata": {},
   "outputs": [
    {
     "data": {
      "text/html": [
       "<div>\n",
       "<style scoped>\n",
       "    .dataframe tbody tr th:only-of-type {\n",
       "        vertical-align: middle;\n",
       "    }\n",
       "\n",
       "    .dataframe tbody tr th {\n",
       "        vertical-align: top;\n",
       "    }\n",
       "\n",
       "    .dataframe thead th {\n",
       "        text-align: right;\n",
       "    }\n",
       "</style>\n",
       "<table border=\"1\" class=\"dataframe\">\n",
       "  <thead>\n",
       "    <tr style=\"text-align: right;\">\n",
       "      <th></th>\n",
       "      <th>asin</th>\n",
       "      <th>description</th>\n",
       "      <th>ASIN_in_DF3</th>\n",
       "    </tr>\n",
       "  </thead>\n",
       "  <tbody>\n",
       "    <tr>\n",
       "      <th>0</th>\n",
       "      <td>0000037214</td>\n",
       "      <td>[6\" long, stretched waist measures 11 1/2\" acr...</td>\n",
       "      <td>False</td>\n",
       "    </tr>\n",
       "    <tr>\n",
       "      <th>1</th>\n",
       "      <td>0201377179</td>\n",
       "      <td>[The Hottest Bag in Town! Brand: Anello Condit...</td>\n",
       "      <td>False</td>\n",
       "    </tr>\n",
       "    <tr>\n",
       "      <th>2</th>\n",
       "      <td>0204444454</td>\n",
       "      <td>[The Hottest Bag in Town! Brand: Anello Condit...</td>\n",
       "      <td>False</td>\n",
       "    </tr>\n",
       "    <tr>\n",
       "      <th>3</th>\n",
       "      <td>0204444403</td>\n",
       "      <td>[The Hottest Bag in Town! Brand: Anello Condit...</td>\n",
       "      <td>False</td>\n",
       "    </tr>\n",
       "    <tr>\n",
       "      <th>4</th>\n",
       "      <td>0206313535</td>\n",
       "      <td>[Brand New.  Hat Centre Length: adult about 8c...</td>\n",
       "      <td>False</td>\n",
       "    </tr>\n",
       "    <tr>\n",
       "      <th>...</th>\n",
       "      <td>...</td>\n",
       "      <td>...</td>\n",
       "      <td>...</td>\n",
       "    </tr>\n",
       "    <tr>\n",
       "      <th>2685054</th>\n",
       "      <td>B01HJHR8A6</td>\n",
       "      <td>[Size Length Hip*2 Age Advice 70 39.5 CM 30 CM...</td>\n",
       "      <td>False</td>\n",
       "    </tr>\n",
       "    <tr>\n",
       "      <th>2685055</th>\n",
       "      <td>B01HJHA4W0</td>\n",
       "      <td>[Soludos are made in US whole sizes. If you ar...</td>\n",
       "      <td>False</td>\n",
       "    </tr>\n",
       "    <tr>\n",
       "      <th>2685056</th>\n",
       "      <td>B01HJHQR1W</td>\n",
       "      <td>[]</td>\n",
       "      <td>False</td>\n",
       "    </tr>\n",
       "    <tr>\n",
       "      <th>2685057</th>\n",
       "      <td>B01HJH8JBI</td>\n",
       "      <td>[This classic plain toe style is anything but ...</td>\n",
       "      <td>False</td>\n",
       "    </tr>\n",
       "    <tr>\n",
       "      <th>2685058</th>\n",
       "      <td>B01HJHFS58</td>\n",
       "      <td>[CUPSHE Intro To inspire confidence and beauty...</td>\n",
       "      <td>False</td>\n",
       "    </tr>\n",
       "  </tbody>\n",
       "</table>\n",
       "<p>2685059 rows × 3 columns</p>\n",
       "</div>"
      ],
      "text/plain": [
       "               asin                                        description  \\\n",
       "0        0000037214  [6\" long, stretched waist measures 11 1/2\" acr...   \n",
       "1        0201377179  [The Hottest Bag in Town! Brand: Anello Condit...   \n",
       "2        0204444454  [The Hottest Bag in Town! Brand: Anello Condit...   \n",
       "3        0204444403  [The Hottest Bag in Town! Brand: Anello Condit...   \n",
       "4        0206313535  [Brand New.  Hat Centre Length: adult about 8c...   \n",
       "...             ...                                                ...   \n",
       "2685054  B01HJHR8A6  [Size Length Hip*2 Age Advice 70 39.5 CM 30 CM...   \n",
       "2685055  B01HJHA4W0  [Soludos are made in US whole sizes. If you ar...   \n",
       "2685056  B01HJHQR1W                                                 []   \n",
       "2685057  B01HJH8JBI  [This classic plain toe style is anything but ...   \n",
       "2685058  B01HJHFS58  [CUPSHE Intro To inspire confidence and beauty...   \n",
       "\n",
       "         ASIN_in_DF3  \n",
       "0              False  \n",
       "1              False  \n",
       "2              False  \n",
       "3              False  \n",
       "4              False  \n",
       "...              ...  \n",
       "2685054        False  \n",
       "2685055        False  \n",
       "2685056        False  \n",
       "2685057        False  \n",
       "2685058        False  \n",
       "\n",
       "[2685059 rows x 3 columns]"
      ]
     },
     "execution_count": 48,
     "metadata": {},
     "output_type": "execute_result"
    }
   ],
   "source": [
    "# Call new_df to see if the column has been appended with booleans \n",
    "# True = ASIN from raw dataset is in cleaned dataset\n",
    "# False = ASIN from raw dataset is not present in cleaned dataset\n",
    "\n",
    "# new_df"
   ]
  },
  {
   "cell_type": "code",
   "execution_count": 50,
   "id": "1f14b521",
   "metadata": {},
   "outputs": [],
   "source": [
    "# save the newly created dataframe into a csv file\n",
    "\n",
    "# new_df.to_csv(\"new_asin_desc_df.csv\")"
   ]
  },
  {
   "cell_type": "code",
   "execution_count": 46,
   "id": "dac60fcf",
   "metadata": {},
   "outputs": [
    {
     "name": "stderr",
     "output_type": "stream",
     "text": [
      "C:\\Users\\31642\\anaconda3\\lib\\site-packages\\IPython\\core\\interactiveshell.py:3165: DtypeWarning: Columns (19) have mixed types.Specify dtype option on import or set low_memory=False.\n",
      "  has_raised = await self.run_ast_nodes(code_ast.body, cell_name,\n"
     ]
    }
   ],
   "source": [
    "# df_new = pd.read_csv(\"C:/Users/31642/new_asin_desc_df.csv\")"
   ]
  },
  {
   "cell_type": "code",
   "execution_count": 13,
   "id": "89297131",
   "metadata": {},
   "outputs": [],
   "source": [
    "df_dob=pd.read_csv(\"Book22.csv\", header=0)"
   ]
  },
  {
   "cell_type": "code",
   "execution_count": 14,
   "id": "d6a1042a",
   "metadata": {},
   "outputs": [
    {
     "data": {
      "text/html": [
       "<div>\n",
       "<style scoped>\n",
       "    .dataframe tbody tr th:only-of-type {\n",
       "        vertical-align: middle;\n",
       "    }\n",
       "\n",
       "    .dataframe tbody tr th {\n",
       "        vertical-align: top;\n",
       "    }\n",
       "\n",
       "    .dataframe thead th {\n",
       "        text-align: right;\n",
       "    }\n",
       "</style>\n",
       "<table border=\"1\" class=\"dataframe\">\n",
       "  <thead>\n",
       "    <tr style=\"text-align: right;\">\n",
       "      <th></th>\n",
       "      <th>tag</th>\n",
       "      <th>tag2</th>\n",
       "    </tr>\n",
       "  </thead>\n",
       "  <tbody>\n",
       "    <tr>\n",
       "      <th>0</th>\n",
       "      <td>[\"'&lt;WOMEN&gt;'\", \" 'ring'\", \"  'ring'\", \" 'for'\",...</td>\n",
       "      <td>['lucky', 'brand', 'is', 'true', 'blue', 'amer...</td>\n",
       "    </tr>\n",
       "    <tr>\n",
       "      <th>1</th>\n",
       "      <td>[\"'&lt;WOMEN&gt;'\", ' \"\\'s\"', \" 'hat'\", \"  'cap'\", \"...</td>\n",
       "      <td>['more', 'than', 'just', 'a', 'precision', 'ti...</td>\n",
       "    </tr>\n",
       "    <tr>\n",
       "      <th>2</th>\n",
       "      <td>[\"'&lt;NONE&gt;'\", \"  'party'\", \" 'wear'\", \" 'for'\",...</td>\n",
       "      <td>['leather', 'walking', 'shoe', 'with', 'rocker...</td>\n",
       "    </tr>\n",
       "    <tr>\n",
       "      <th>3</th>\n",
       "      <td>[\"'&lt;WOMEN&gt;'\", \"  'fabric'\", \" 'necklace'\", \"  ...</td>\n",
       "      <td>['when', 'you', 'want', 'to', 'go', 'just', 'g...</td>\n",
       "    </tr>\n",
       "    <tr>\n",
       "      <th>4</th>\n",
       "      <td>[\"'rings'\", \"  'diamond'\", \" 'ring'\", \"  'luxu...</td>\n",
       "      <td>['made', 'in', 'genuine', '925', 'sterling', '...</td>\n",
       "    </tr>\n",
       "    <tr>\n",
       "      <th>...</th>\n",
       "      <td>...</td>\n",
       "      <td>...</td>\n",
       "    </tr>\n",
       "    <tr>\n",
       "      <th>4245</th>\n",
       "      <td>[\"'&lt;NONE&gt;'\", \"  'party'\", \" 'wear'\", \" 'for'\",...</td>\n",
       "      <td>['converse', 'a/s', 'ox', 'athletic', 'boys', ...</td>\n",
       "    </tr>\n",
       "    <tr>\n",
       "      <th>4246</th>\n",
       "      <td>[\"'&lt;BABY&gt;'\", \" 'shoes'\", \"  'baby'\", \" 'sneake...</td>\n",
       "      <td>['the', 'autumn', 'leaves', 'depicted', 'on', ...</td>\n",
       "    </tr>\n",
       "    <tr>\n",
       "      <th>4247</th>\n",
       "      <td>[\"'&lt;NONE&gt;'\", \" 'western'\", \" 'boots'\", \"  'wes...</td>\n",
       "      <td>['appropriately', 'named', 'for', 'the', 'year...</td>\n",
       "    </tr>\n",
       "    <tr>\n",
       "      <th>4248</th>\n",
       "      <td>[\"'travel'\", \" 'gear'\", \"  'luaggage'\", \" 'gea...</td>\n",
       "      <td>['columbia', 'offers', 'a', 'wide', 'variety',...</td>\n",
       "    </tr>\n",
       "    <tr>\n",
       "      <th>4249</th>\n",
       "      <td>[\"'&lt;WOMEN&gt;'\", \" 'costume'\", \" 'for'\", \" 'kids'...</td>\n",
       "      <td>['go', 'back', 'to', 'the', 'basics', 'with', ...</td>\n",
       "    </tr>\n",
       "  </tbody>\n",
       "</table>\n",
       "<p>4250 rows × 2 columns</p>\n",
       "</div>"
      ],
      "text/plain": [
       "                                                    tag  \\\n",
       "0     [\"'<WOMEN>'\", \" 'ring'\", \"  'ring'\", \" 'for'\",...   \n",
       "1     [\"'<WOMEN>'\", ' \"\\'s\"', \" 'hat'\", \"  'cap'\", \"...   \n",
       "2     [\"'<NONE>'\", \"  'party'\", \" 'wear'\", \" 'for'\",...   \n",
       "3     [\"'<WOMEN>'\", \"  'fabric'\", \" 'necklace'\", \"  ...   \n",
       "4     [\"'rings'\", \"  'diamond'\", \" 'ring'\", \"  'luxu...   \n",
       "...                                                 ...   \n",
       "4245  [\"'<NONE>'\", \"  'party'\", \" 'wear'\", \" 'for'\",...   \n",
       "4246  [\"'<BABY>'\", \" 'shoes'\", \"  'baby'\", \" 'sneake...   \n",
       "4247  [\"'<NONE>'\", \" 'western'\", \" 'boots'\", \"  'wes...   \n",
       "4248  [\"'travel'\", \" 'gear'\", \"  'luaggage'\", \" 'gea...   \n",
       "4249  [\"'<WOMEN>'\", \" 'costume'\", \" 'for'\", \" 'kids'...   \n",
       "\n",
       "                                                   tag2  \n",
       "0     ['lucky', 'brand', 'is', 'true', 'blue', 'amer...  \n",
       "1     ['more', 'than', 'just', 'a', 'precision', 'ti...  \n",
       "2     ['leather', 'walking', 'shoe', 'with', 'rocker...  \n",
       "3     ['when', 'you', 'want', 'to', 'go', 'just', 'g...  \n",
       "4     ['made', 'in', 'genuine', '925', 'sterling', '...  \n",
       "...                                                 ...  \n",
       "4245  ['converse', 'a/s', 'ox', 'athletic', 'boys', ...  \n",
       "4246  ['the', 'autumn', 'leaves', 'depicted', 'on', ...  \n",
       "4247  ['appropriately', 'named', 'for', 'the', 'year...  \n",
       "4248  ['columbia', 'offers', 'a', 'wide', 'variety',...  \n",
       "4249  ['go', 'back', 'to', 'the', 'basics', 'with', ...  \n",
       "\n",
       "[4250 rows x 2 columns]"
      ]
     },
     "execution_count": 14,
     "metadata": {},
     "output_type": "execute_result"
    }
   ],
   "source": [
    "df_dob"
   ]
  },
  {
   "cell_type": "code",
   "execution_count": null,
   "id": "37f30084",
   "metadata": {},
   "outputs": [],
   "source": [
    "df_dob_2 = df_dob1[df_dob['description'].map(lambda d: len(d)) > 0]"
   ]
  }
 ],
 "metadata": {
  "kernelspec": {
   "display_name": "Python 3",
   "language": "python",
   "name": "python3"
  },
  "language_info": {
   "codemirror_mode": {
    "name": "ipython",
    "version": 3
   },
   "file_extension": ".py",
   "mimetype": "text/x-python",
   "name": "python",
   "nbconvert_exporter": "python",
   "pygments_lexer": "ipython3",
   "version": "3.8.8"
  }
 },
 "nbformat": 4,
 "nbformat_minor": 5
}
