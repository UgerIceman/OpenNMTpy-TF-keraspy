{
  "nbformat": 4,
  "nbformat_minor": 0,
  "metadata": {
    "colab": {
      "name": "OpenNMT - RNN - Transformer.ipynb",
      "provenance": []
    },
    "kernelspec": {
      "name": "python3",
      "display_name": "Python 3"
    },
    "language_info": {
      "name": "python"
    },
    "accelerator": "GPU"
  },
  "cells": [
    {
      "cell_type": "code",
      "metadata": {
        "id": "-1rjaWKoeGYB",
        "colab": {
          "base_uri": "https://localhost:8080/"
        },
        "outputId": "8a43053a-7c7c-4c6f-db83-d96b6cf65527"
      },
      "source": [
        "# Mounts personal google drive, where model and data will be stored\n",
        "\n",
        "from google.colab import drive\n",
        "drive.mount('/content/drive')"
      ],
      "execution_count": null,
      "outputs": [
        {
          "output_type": "stream",
          "name": "stdout",
          "text": [
            "Mounted at /content/drive\n"
          ]
        }
      ]
    },
    {
      "cell_type": "code",
      "metadata": {
        "id": "IfwNYt1HeTIi"
      },
      "source": [
        "# Specifies working directory, which is a directory containing the model"
      ],
      "execution_count": null,
      "outputs": []
    },
    {
      "cell_type": "code",
      "metadata": {
        "colab": {
          "base_uri": "https://localhost:8080/"
        },
        "id": "zqGoPipcJA4m",
        "outputId": "594a441f-5f26-4e61-d417-d6ab08d4f558"
      },
      "source": [
        "cd \"/content/drive/MyDrive/Thesis/OpenNMT-py-master\""
      ],
      "execution_count": null,
      "outputs": [
        {
          "output_type": "stream",
          "name": "stdout",
          "text": [
            "/content/drive/MyDrive/Thesis/OpenNMT-py-master\n"
          ]
        }
      ]
    },
    {
      "cell_type": "code",
      "metadata": {
        "id": "4OlwjwUueqQh"
      },
      "source": [
        "# Installs OpenNMT-py\n",
        "!pip install OpenNMT-py"
      ],
      "execution_count": null,
      "outputs": []
    },
    {
      "cell_type": "code",
      "metadata": {
        "id": "z9HnN_ZGeu-w"
      },
      "source": [
        "#installs libraries required for the model\n",
        "!pip install -r requirements.opt.txt"
      ],
      "execution_count": null,
      "outputs": []
    },
    {
      "cell_type": "code",
      "metadata": {
        "id": "bfZZ34Yley-x"
      },
      "source": [
        "# Builds vocab of data specified in toy_en_de.yaml config file\n",
        "\n",
        "!onmt_build_vocab -config toy_en_de.yaml -n_sample 6071"
      ],
      "execution_count": null,
      "outputs": []
    },
    {
      "cell_type": "code",
      "metadata": {
        "id": "Fc5pqiUQkHjl"
      },
      "source": [
        "# Trains the data specified in toy_en_de.yaml configuration file\n",
        "\n",
        "!onmt_train -config toy_en_de.yaml -gpu_ranks -0"
      ],
      "execution_count": null,
      "outputs": []
    },
    {
      "cell_type": "code",
      "metadata": {
        "id": "jZcsK728k5Ox"
      },
      "source": [
        "!onmt_translate -model exp/model.de-en_step_7000.pt -src toy-ende/src-test.txt -output toy-ende/pred_7000.txt -gpu  0 -verbose"
      ],
      "execution_count": null,
      "outputs": []
    },
    {
      "cell_type": "code",
      "metadata": {
        "id": "TZItBglfQN-W"
      },
      "source": [
        "!onmt_translate -model toy-ende/run/model_step_14000.pt -src toy-ende/src-test.txt -output toy-ende/pred_14000.txt -gpu  0 -verbose"
      ],
      "execution_count": null,
      "outputs": []
    },
    {
      "cell_type": "code",
      "source": [
        "!git clone https://github.com/OpenNMT/OpenNMT-py"
      ],
      "metadata": {
        "id": "Bp1eT-zLerEq"
      },
      "execution_count": null,
      "outputs": []
    },
    {
      "cell_type": "code",
      "source": [
        "!python OpenNMT-py/setup.py install"
      ],
      "metadata": {
        "colab": {
          "base_uri": "https://localhost:8080/"
        },
        "id": "YN8xnuIRgM97",
        "outputId": "fbdbb83e-8b0c-4bf8-da39-af4e9cb8de36"
      },
      "execution_count": null,
      "outputs": [
        {
          "output_type": "stream",
          "name": "stdout",
          "text": [
            "python3: can't open file 'OpenNMT-py/setup.py': [Errno 2] No such file or directory\n"
          ]
        }
      ]
    },
    {
      "cell_type": "code",
      "metadata": {
        "colab": {
          "base_uri": "https://localhost:8080/"
        },
        "id": "x7GYG7Hj4tRi",
        "outputId": "5923af57-64fb-4cb2-8a40-6ec8692c120f"
      },
      "source": [
        "!perl tools/multi-bleu-detok.perl toy-ende/tgt-test-text.txt < toy-ende/pred_14000.txt"
      ],
      "execution_count": null,
      "outputs": [
        {
          "output_type": "stream",
          "name": "stdout",
          "text": [
            "BLEU = 14.09, 34.6/15.1/10.0/7.5 (BP=1.000, ratio=1.081, hyp_len=7225, ref_len=6684)\n"
          ]
        }
      ]
    },
    {
      "cell_type": "code",
      "source": [
        "!git clone https://github.com/pltrdy/rouge"
      ],
      "metadata": {
        "colab": {
          "base_uri": "https://localhost:8080/"
        },
        "id": "wGPbaN3Ger85",
        "outputId": "9812166a-5db5-40f1-fb6c-637516630034"
      },
      "execution_count": null,
      "outputs": [
        {
          "output_type": "stream",
          "name": "stdout",
          "text": [
            "fatal: destination path 'rouge' already exists and is not an empty directory.\n"
          ]
        }
      ]
    },
    {
      "cell_type": "code",
      "source": [
        "from nltk.translate.bleu_score import sentence_bleu\n",
        "reference = open('toy-ende/pred_14000.txt', 'r').read().strip().split(' ' ,'\\n')\n",
        "candidate = open('toy-ende/tgt-test-text.txt', 'r').read().strip().split(' ' ,'\\n')\n",
        "score = sentence_bleu(reference, candidate, weights=(1, 0, 0, 0))\n",
        "print(score)"
      ],
      "metadata": {
        "id": "8Eb6lg77rx5E"
      },
      "execution_count": null,
      "outputs": []
    }
  ]
}